{
 "cells": [
  {
   "cell_type": "markdown",
   "metadata": {},
   "source": [
    "# Predict CTR of an Email Campaign\n",
    "\n",
    "\n",
    "Can you predict the Click Through Rate (CTR) of an email campaign?\n",
    "\n",
    "\n",
    "\n",
    "## Problem Statement\n",
    "\n",
    "\n",
    "Most organizations today rely on email campaigns for effective communication with users. Email communication is one of the popular ways to pitch products to users and build trustworthy relationships with them.\n",
    "\n",
    "Email campaigns contain different types of CTA (Call To Action). The ultimate goal of email campaigns is to maximize the Click Through Rate (CTR).\n",
    "CTR is a measure of success for email campaigns. The higher the click rate, the better your email marketing campaign is. CTR is calculated by the no. of users who clicked on at least one of the CTA divided by the total no. of users the email was delivered to.\n",
    "CTR =   No. of users who clicked on at least one of the CTA / No. of emails delivered\n",
    "CTR depends on multiple factors like design, content, personalization, etc. \n",
    "\n",
    "How do you design the email content effectively?\n",
    "What should your subject line look like?\n",
    "What should be the length of the email?\n",
    "Do you need images in your email template?\n",
    "\n",
    "As a part of the Data Science team, in this hackathon, you will build a smart system to predict the CTR for email campaigns and therefore identify the critical factors that will help the marketing team to maximize the CTR.\n",
    "\n",
    "### Objective\n",
    "Your task at hand is to build a machine learning-based approach to predict the CTR of an email campaign."
   ]
  },
  {
   "cell_type": "markdown",
   "metadata": {},
   "source": [
    "### Importing the Relevant Libraries"
   ]
  },
  {
   "cell_type": "code",
   "execution_count": 415,
   "metadata": {
    "scrolled": true
   },
   "outputs": [],
   "source": [
    "import matplotlib.pyplot as plt\n",
    "import pandas as pd\n",
    "import numpy as np\n",
    "import seaborn as sns\n",
    "from sklearn.metrics import mean_absolute_percentage_error\n",
    "from sklearn.model_selection import train_test_split\n",
    "from flaml import AutoML\n",
    "import warnings\n",
    "warnings.filterwarnings('always')\n",
    "warnings.filterwarnings('ignore')"
   ]
  },
  {
   "cell_type": "markdown",
   "metadata": {},
   "source": [
    "### Loading and Inspecting the datasets"
   ]
  },
  {
   "cell_type": "code",
   "execution_count": 416,
   "metadata": {},
   "outputs": [
    {
     "data": {
      "text/html": [
       "<div>\n",
       "<style scoped>\n",
       "    .dataframe tbody tr th:only-of-type {\n",
       "        vertical-align: middle;\n",
       "    }\n",
       "\n",
       "    .dataframe tbody tr th {\n",
       "        vertical-align: top;\n",
       "    }\n",
       "\n",
       "    .dataframe thead th {\n",
       "        text-align: right;\n",
       "    }\n",
       "</style>\n",
       "<table border=\"1\" class=\"dataframe\">\n",
       "  <thead>\n",
       "    <tr style=\"text-align: right;\">\n",
       "      <th></th>\n",
       "      <th>campaign_id</th>\n",
       "      <th>sender</th>\n",
       "      <th>subject_len</th>\n",
       "      <th>body_len</th>\n",
       "      <th>mean_paragraph_len</th>\n",
       "      <th>day_of_week</th>\n",
       "      <th>is_weekend</th>\n",
       "      <th>times_of_day</th>\n",
       "      <th>category</th>\n",
       "      <th>product</th>\n",
       "      <th>...</th>\n",
       "      <th>is_image</th>\n",
       "      <th>is_personalised</th>\n",
       "      <th>is_quote</th>\n",
       "      <th>is_timer</th>\n",
       "      <th>is_emoticons</th>\n",
       "      <th>is_discount</th>\n",
       "      <th>is_price</th>\n",
       "      <th>is_urgency</th>\n",
       "      <th>target_audience</th>\n",
       "      <th>click_rate</th>\n",
       "    </tr>\n",
       "  </thead>\n",
       "  <tbody>\n",
       "    <tr>\n",
       "      <th>0</th>\n",
       "      <td>1</td>\n",
       "      <td>3</td>\n",
       "      <td>76</td>\n",
       "      <td>10439</td>\n",
       "      <td>39</td>\n",
       "      <td>5</td>\n",
       "      <td>1</td>\n",
       "      <td>Noon</td>\n",
       "      <td>6</td>\n",
       "      <td>26</td>\n",
       "      <td>...</td>\n",
       "      <td>0</td>\n",
       "      <td>0</td>\n",
       "      <td>0</td>\n",
       "      <td>0</td>\n",
       "      <td>0</td>\n",
       "      <td>0</td>\n",
       "      <td>0</td>\n",
       "      <td>0</td>\n",
       "      <td>14</td>\n",
       "      <td>0.103079</td>\n",
       "    </tr>\n",
       "    <tr>\n",
       "      <th>1</th>\n",
       "      <td>2</td>\n",
       "      <td>3</td>\n",
       "      <td>54</td>\n",
       "      <td>2570</td>\n",
       "      <td>256</td>\n",
       "      <td>5</td>\n",
       "      <td>1</td>\n",
       "      <td>Morning</td>\n",
       "      <td>2</td>\n",
       "      <td>11</td>\n",
       "      <td>...</td>\n",
       "      <td>0</td>\n",
       "      <td>0</td>\n",
       "      <td>0</td>\n",
       "      <td>0</td>\n",
       "      <td>0</td>\n",
       "      <td>0</td>\n",
       "      <td>0</td>\n",
       "      <td>0</td>\n",
       "      <td>10</td>\n",
       "      <td>0.700000</td>\n",
       "    </tr>\n",
       "    <tr>\n",
       "      <th>2</th>\n",
       "      <td>3</td>\n",
       "      <td>3</td>\n",
       "      <td>59</td>\n",
       "      <td>12801</td>\n",
       "      <td>16</td>\n",
       "      <td>5</td>\n",
       "      <td>1</td>\n",
       "      <td>Noon</td>\n",
       "      <td>2</td>\n",
       "      <td>11</td>\n",
       "      <td>...</td>\n",
       "      <td>1</td>\n",
       "      <td>0</td>\n",
       "      <td>1</td>\n",
       "      <td>0</td>\n",
       "      <td>0</td>\n",
       "      <td>0</td>\n",
       "      <td>0</td>\n",
       "      <td>0</td>\n",
       "      <td>16</td>\n",
       "      <td>0.002769</td>\n",
       "    </tr>\n",
       "    <tr>\n",
       "      <th>3</th>\n",
       "      <td>4</td>\n",
       "      <td>3</td>\n",
       "      <td>74</td>\n",
       "      <td>11037</td>\n",
       "      <td>30</td>\n",
       "      <td>4</td>\n",
       "      <td>0</td>\n",
       "      <td>Evening</td>\n",
       "      <td>15</td>\n",
       "      <td>9</td>\n",
       "      <td>...</td>\n",
       "      <td>0</td>\n",
       "      <td>0</td>\n",
       "      <td>0</td>\n",
       "      <td>0</td>\n",
       "      <td>0</td>\n",
       "      <td>0</td>\n",
       "      <td>0</td>\n",
       "      <td>0</td>\n",
       "      <td>10</td>\n",
       "      <td>0.010868</td>\n",
       "    </tr>\n",
       "    <tr>\n",
       "      <th>4</th>\n",
       "      <td>5</td>\n",
       "      <td>3</td>\n",
       "      <td>80</td>\n",
       "      <td>10011</td>\n",
       "      <td>27</td>\n",
       "      <td>5</td>\n",
       "      <td>1</td>\n",
       "      <td>Noon</td>\n",
       "      <td>6</td>\n",
       "      <td>26</td>\n",
       "      <td>...</td>\n",
       "      <td>0</td>\n",
       "      <td>0</td>\n",
       "      <td>1</td>\n",
       "      <td>0</td>\n",
       "      <td>0</td>\n",
       "      <td>0</td>\n",
       "      <td>0</td>\n",
       "      <td>0</td>\n",
       "      <td>14</td>\n",
       "      <td>0.142826</td>\n",
       "    </tr>\n",
       "  </tbody>\n",
       "</table>\n",
       "<p>5 rows × 22 columns</p>\n",
       "</div>"
      ],
      "text/plain": [
       "   campaign_id  sender  subject_len  body_len  mean_paragraph_len  \\\n",
       "0            1       3           76     10439                  39   \n",
       "1            2       3           54      2570                 256   \n",
       "2            3       3           59     12801                  16   \n",
       "3            4       3           74     11037                  30   \n",
       "4            5       3           80     10011                  27   \n",
       "\n",
       "   day_of_week  is_weekend times_of_day  category  product  ...  is_image  \\\n",
       "0            5           1         Noon         6       26  ...         0   \n",
       "1            5           1      Morning         2       11  ...         0   \n",
       "2            5           1         Noon         2       11  ...         1   \n",
       "3            4           0      Evening        15        9  ...         0   \n",
       "4            5           1         Noon         6       26  ...         0   \n",
       "\n",
       "   is_personalised  is_quote  is_timer  is_emoticons  is_discount  is_price  \\\n",
       "0                0         0         0             0            0         0   \n",
       "1                0         0         0             0            0         0   \n",
       "2                0         1         0             0            0         0   \n",
       "3                0         0         0             0            0         0   \n",
       "4                0         1         0             0            0         0   \n",
       "\n",
       "   is_urgency  target_audience  click_rate  \n",
       "0           0               14    0.103079  \n",
       "1           0               10    0.700000  \n",
       "2           0               16    0.002769  \n",
       "3           0               10    0.010868  \n",
       "4           0               14    0.142826  \n",
       "\n",
       "[5 rows x 22 columns]"
      ]
     },
     "execution_count": 416,
     "metadata": {},
     "output_type": "execute_result"
    }
   ],
   "source": [
    "train=pd.read_csv('train_F3fUq2S.csv')\n",
    "train.head()"
   ]
  },
  {
   "cell_type": "code",
   "execution_count": 417,
   "metadata": {
    "scrolled": true
   },
   "outputs": [
    {
     "data": {
      "text/html": [
       "<div>\n",
       "<style scoped>\n",
       "    .dataframe tbody tr th:only-of-type {\n",
       "        vertical-align: middle;\n",
       "    }\n",
       "\n",
       "    .dataframe tbody tr th {\n",
       "        vertical-align: top;\n",
       "    }\n",
       "\n",
       "    .dataframe thead th {\n",
       "        text-align: right;\n",
       "    }\n",
       "</style>\n",
       "<table border=\"1\" class=\"dataframe\">\n",
       "  <thead>\n",
       "    <tr style=\"text-align: right;\">\n",
       "      <th></th>\n",
       "      <th>campaign_id</th>\n",
       "      <th>sender</th>\n",
       "      <th>subject_len</th>\n",
       "      <th>body_len</th>\n",
       "      <th>mean_paragraph_len</th>\n",
       "      <th>day_of_week</th>\n",
       "      <th>is_weekend</th>\n",
       "      <th>times_of_day</th>\n",
       "      <th>category</th>\n",
       "      <th>product</th>\n",
       "      <th>...</th>\n",
       "      <th>mean_CTA_len</th>\n",
       "      <th>is_image</th>\n",
       "      <th>is_personalised</th>\n",
       "      <th>is_quote</th>\n",
       "      <th>is_timer</th>\n",
       "      <th>is_emoticons</th>\n",
       "      <th>is_discount</th>\n",
       "      <th>is_price</th>\n",
       "      <th>is_urgency</th>\n",
       "      <th>target_audience</th>\n",
       "    </tr>\n",
       "  </thead>\n",
       "  <tbody>\n",
       "    <tr>\n",
       "      <th>0</th>\n",
       "      <td>1889</td>\n",
       "      <td>3</td>\n",
       "      <td>61</td>\n",
       "      <td>12871</td>\n",
       "      <td>11</td>\n",
       "      <td>6</td>\n",
       "      <td>1</td>\n",
       "      <td>Noon</td>\n",
       "      <td>6</td>\n",
       "      <td>26</td>\n",
       "      <td>...</td>\n",
       "      <td>37</td>\n",
       "      <td>1</td>\n",
       "      <td>0</td>\n",
       "      <td>0</td>\n",
       "      <td>0</td>\n",
       "      <td>1</td>\n",
       "      <td>0</td>\n",
       "      <td>0</td>\n",
       "      <td>0</td>\n",
       "      <td>14</td>\n",
       "    </tr>\n",
       "    <tr>\n",
       "      <th>1</th>\n",
       "      <td>1890</td>\n",
       "      <td>3</td>\n",
       "      <td>54</td>\n",
       "      <td>2569</td>\n",
       "      <td>256</td>\n",
       "      <td>5</td>\n",
       "      <td>1</td>\n",
       "      <td>Morning</td>\n",
       "      <td>2</td>\n",
       "      <td>11</td>\n",
       "      <td>...</td>\n",
       "      <td>22</td>\n",
       "      <td>0</td>\n",
       "      <td>0</td>\n",
       "      <td>0</td>\n",
       "      <td>0</td>\n",
       "      <td>0</td>\n",
       "      <td>0</td>\n",
       "      <td>0</td>\n",
       "      <td>0</td>\n",
       "      <td>10</td>\n",
       "    </tr>\n",
       "    <tr>\n",
       "      <th>2</th>\n",
       "      <td>1891</td>\n",
       "      <td>3</td>\n",
       "      <td>88</td>\n",
       "      <td>1473</td>\n",
       "      <td>78</td>\n",
       "      <td>4</td>\n",
       "      <td>0</td>\n",
       "      <td>Evening</td>\n",
       "      <td>2</td>\n",
       "      <td>11</td>\n",
       "      <td>...</td>\n",
       "      <td>22</td>\n",
       "      <td>1</td>\n",
       "      <td>0</td>\n",
       "      <td>1</td>\n",
       "      <td>0</td>\n",
       "      <td>0</td>\n",
       "      <td>0</td>\n",
       "      <td>0</td>\n",
       "      <td>0</td>\n",
       "      <td>10</td>\n",
       "    </tr>\n",
       "    <tr>\n",
       "      <th>3</th>\n",
       "      <td>1892</td>\n",
       "      <td>3</td>\n",
       "      <td>88</td>\n",
       "      <td>1473</td>\n",
       "      <td>78</td>\n",
       "      <td>3</td>\n",
       "      <td>0</td>\n",
       "      <td>Evening</td>\n",
       "      <td>2</td>\n",
       "      <td>11</td>\n",
       "      <td>...</td>\n",
       "      <td>22</td>\n",
       "      <td>1</td>\n",
       "      <td>0</td>\n",
       "      <td>1</td>\n",
       "      <td>0</td>\n",
       "      <td>0</td>\n",
       "      <td>0</td>\n",
       "      <td>0</td>\n",
       "      <td>0</td>\n",
       "      <td>10</td>\n",
       "    </tr>\n",
       "    <tr>\n",
       "      <th>4</th>\n",
       "      <td>1893</td>\n",
       "      <td>3</td>\n",
       "      <td>78</td>\n",
       "      <td>9020</td>\n",
       "      <td>29</td>\n",
       "      <td>3</td>\n",
       "      <td>0</td>\n",
       "      <td>Noon</td>\n",
       "      <td>6</td>\n",
       "      <td>26</td>\n",
       "      <td>...</td>\n",
       "      <td>40</td>\n",
       "      <td>0</td>\n",
       "      <td>0</td>\n",
       "      <td>0</td>\n",
       "      <td>0</td>\n",
       "      <td>0</td>\n",
       "      <td>0</td>\n",
       "      <td>0</td>\n",
       "      <td>0</td>\n",
       "      <td>14</td>\n",
       "    </tr>\n",
       "  </tbody>\n",
       "</table>\n",
       "<p>5 rows × 21 columns</p>\n",
       "</div>"
      ],
      "text/plain": [
       "   campaign_id  sender  subject_len  body_len  mean_paragraph_len  \\\n",
       "0         1889       3           61     12871                  11   \n",
       "1         1890       3           54      2569                 256   \n",
       "2         1891       3           88      1473                  78   \n",
       "3         1892       3           88      1473                  78   \n",
       "4         1893       3           78      9020                  29   \n",
       "\n",
       "   day_of_week  is_weekend times_of_day  category  product  ...  mean_CTA_len  \\\n",
       "0            6           1         Noon         6       26  ...            37   \n",
       "1            5           1      Morning         2       11  ...            22   \n",
       "2            4           0      Evening         2       11  ...            22   \n",
       "3            3           0      Evening         2       11  ...            22   \n",
       "4            3           0         Noon         6       26  ...            40   \n",
       "\n",
       "   is_image  is_personalised  is_quote  is_timer  is_emoticons  is_discount  \\\n",
       "0         1                0         0         0             1            0   \n",
       "1         0                0         0         0             0            0   \n",
       "2         1                0         1         0             0            0   \n",
       "3         1                0         1         0             0            0   \n",
       "4         0                0         0         0             0            0   \n",
       "\n",
       "   is_price  is_urgency  target_audience  \n",
       "0         0           0               14  \n",
       "1         0           0               10  \n",
       "2         0           0               10  \n",
       "3         0           0               10  \n",
       "4         0           0               14  \n",
       "\n",
       "[5 rows x 21 columns]"
      ]
     },
     "execution_count": 417,
     "metadata": {},
     "output_type": "execute_result"
    }
   ],
   "source": [
    "test=pd.read_csv('test_Bk2wfZ3.csv')\n",
    "test.head()"
   ]
  },
  {
   "cell_type": "code",
   "execution_count": 418,
   "metadata": {},
   "outputs": [
    {
     "name": "stdout",
     "output_type": "stream",
     "text": [
      "(1888, 22) (762, 21)\n"
     ]
    }
   ],
   "source": [
    "print(train.shape, test.shape)"
   ]
  },
  {
   "cell_type": "markdown",
   "metadata": {},
   "source": [
    "#### We have 1888 rows and 22 columns in Train set whereas Test set has 762 rows and 21 columns."
   ]
  },
  {
   "cell_type": "code",
   "execution_count": 419,
   "metadata": {},
   "outputs": [
    {
     "data": {
      "text/plain": [
       "campaign_id           1888\n",
       "sender                  12\n",
       "subject_len            170\n",
       "body_len              1568\n",
       "mean_paragraph_len     121\n",
       "day_of_week              7\n",
       "is_weekend               2\n",
       "times_of_day             3\n",
       "category                16\n",
       "product                 43\n",
       "no_of_CTA               40\n",
       "mean_CTA_len            79\n",
       "is_image                 6\n",
       "is_personalised          2\n",
       "is_quote                 7\n",
       "is_timer                 1\n",
       "is_emoticons             6\n",
       "is_discount              2\n",
       "is_price                 8\n",
       "is_urgency               2\n",
       "target_audience         17\n",
       "click_rate            1810\n",
       "dtype: int64"
      ]
     },
     "execution_count": 419,
     "metadata": {},
     "output_type": "execute_result"
    }
   ],
   "source": [
    "train.nunique()"
   ]
  },
  {
   "cell_type": "code",
   "execution_count": 420,
   "metadata": {},
   "outputs": [
    {
     "name": "stdout",
     "output_type": "stream",
     "text": [
      "<class 'pandas.core.frame.DataFrame'>\n",
      "RangeIndex: 1888 entries, 0 to 1887\n",
      "Data columns (total 22 columns):\n",
      " #   Column              Non-Null Count  Dtype  \n",
      "---  ------              --------------  -----  \n",
      " 0   campaign_id         1888 non-null   int64  \n",
      " 1   sender              1888 non-null   int64  \n",
      " 2   subject_len         1888 non-null   int64  \n",
      " 3   body_len            1888 non-null   int64  \n",
      " 4   mean_paragraph_len  1888 non-null   int64  \n",
      " 5   day_of_week         1888 non-null   int64  \n",
      " 6   is_weekend          1888 non-null   int64  \n",
      " 7   times_of_day        1888 non-null   object \n",
      " 8   category            1888 non-null   int64  \n",
      " 9   product             1888 non-null   int64  \n",
      " 10  no_of_CTA           1888 non-null   int64  \n",
      " 11  mean_CTA_len        1888 non-null   int64  \n",
      " 12  is_image            1888 non-null   int64  \n",
      " 13  is_personalised     1888 non-null   int64  \n",
      " 14  is_quote            1888 non-null   int64  \n",
      " 15  is_timer            1888 non-null   int64  \n",
      " 16  is_emoticons        1888 non-null   int64  \n",
      " 17  is_discount         1888 non-null   int64  \n",
      " 18  is_price            1888 non-null   int64  \n",
      " 19  is_urgency          1888 non-null   int64  \n",
      " 20  target_audience     1888 non-null   int64  \n",
      " 21  click_rate          1888 non-null   float64\n",
      "dtypes: float64(1), int64(20), object(1)\n",
      "memory usage: 324.6+ KB\n"
     ]
    }
   ],
   "source": [
    "train.info()"
   ]
  },
  {
   "cell_type": "markdown",
   "metadata": {},
   "source": [
    "#### There is no null values in the dataset"
   ]
  },
  {
   "cell_type": "markdown",
   "metadata": {},
   "source": [
    "### Finding insights from the dataset with the help of plots"
   ]
  },
  {
   "cell_type": "code",
   "execution_count": 421,
   "metadata": {},
   "outputs": [
    {
     "data": {
      "text/plain": [
       "<AxesSubplot:xlabel='sender', ylabel='count'>"
      ]
     },
     "execution_count": 421,
     "metadata": {},
     "output_type": "execute_result"
    },
    {
     "data": {
      "image/png": "[encoded data removed]",
      "text/plain": [
       "<Figure size 576x576 with 1 Axes>"
      ]
     },
     "metadata": {
      "needs_background": "light"
     },
     "output_type": "display_data"
    }
   ],
   "source": [
    "plt.figure(figsize=(8,8))\n",
    "sns.countplot('sender', data=train)"
   ]
  },
  {
   "cell_type": "markdown",
   "metadata": {},
   "source": [
    "#### Maximum emails are from sender 3"
   ]
  },
  {
   "cell_type": "code",
   "execution_count": 422,
   "metadata": {
    "scrolled": true
   },
   "outputs": [
    {
     "data": {
      "text/plain": [
       "<AxesSubplot:xlabel='sender', ylabel='click_rate'>"
      ]
     },
     "execution_count": 422,
     "metadata": {},
     "output_type": "execute_result"
    },
    {
     "data": {
      "image/png": "[encoded data removed]",
      "text/plain": [
       "<Figure size 432x288 with 1 Axes>"
      ]
     },
     "metadata": {
      "needs_background": "light"
     },
     "output_type": "display_data"
    }
   ],
   "source": [
    "sns.barplot(x='sender', y='click_rate', data=train)"
   ]
  },
  {
   "cell_type": "markdown",
   "metadata": {},
   "source": [
    "#### CTR of sender 7 is highest"
   ]
  },
  {
   "cell_type": "code",
   "execution_count": 423,
   "metadata": {
    "scrolled": true
   },
   "outputs": [
    {
     "data": {
      "text/plain": [
       "<AxesSubplot:xlabel='subject_len', ylabel='Count'>"
      ]
     },
     "execution_count": 423,
     "metadata": {},
     "output_type": "execute_result"
    },
    {
     "data": {
      "image/png": "[encoded data removed]",
      "text/plain": [
       "<Figure size 864x360 with 1 Axes>"
      ]
     },
     "metadata": {
      "needs_background": "light"
     },
     "output_type": "display_data"
    }
   ],
   "source": [
    "plt.figure(figsize=(12,5))\n",
    "sns.histplot(data=train['subject_len'])"
   ]
  },
  {
   "cell_type": "markdown",
   "metadata": {},
   "source": [
    "#### Most of the emails have subject_len in between 50 to 110"
   ]
  },
  {
   "cell_type": "code",
   "execution_count": 424,
   "metadata": {
    "scrolled": true
   },
   "outputs": [
    {
     "data": {
      "text/plain": [
       "<AxesSubplot:xlabel='subject_len', ylabel='click_rate'>"
      ]
     },
     "execution_count": 424,
     "metadata": {},
     "output_type": "execute_result"
    },
    {
     "data": {
      "image/png": "[encoded data removed]",
      "text/plain": [
       "<Figure size 432x288 with 1 Axes>"
      ]
     },
     "metadata": {
      "needs_background": "light"
     },
     "output_type": "display_data"
    }
   ],
   "source": [
    "sns.scatterplot(x='subject_len', y='click_rate', data=train)"
   ]
  },
  {
   "cell_type": "markdown",
   "metadata": {},
   "source": [
    "#### CTR is greater in range 40 to 100 subject_len"
   ]
  },
  {
   "cell_type": "code",
   "execution_count": 425,
   "metadata": {
    "scrolled": true
   },
   "outputs": [
    {
     "data": {
      "text/plain": [
       "<AxesSubplot:xlabel='body_len', ylabel='Count'>"
      ]
     },
     "execution_count": 425,
     "metadata": {},
     "output_type": "execute_result"
    },
    {
     "data": {
      "image/png": "[encoded data removed]",
      "text/plain": [
       "<Figure size 864x360 with 1 Axes>"
      ]
     },
     "metadata": {
      "needs_background": "light"
     },
     "output_type": "display_data"
    }
   ],
   "source": [
    "plt.figure(figsize=(12,5))\n",
    "sns.histplot(data=train['body_len'])"
   ]
  },
  {
   "cell_type": "markdown",
   "metadata": {},
   "source": [
    "#### Most of the emails have body_len in range around 8000 to 16000"
   ]
  },
  {
   "cell_type": "code",
   "execution_count": 426,
   "metadata": {
    "scrolled": true
   },
   "outputs": [
    {
     "data": {
      "text/plain": [
       "<AxesSubplot:xlabel='body_len', ylabel='click_rate'>"
      ]
     },
     "execution_count": 426,
     "metadata": {},
     "output_type": "execute_result"
    },
    {
     "data": {
      "image/png": "[encoded data removed]",
      "text/plain": [
       "<Figure size 432x288 with 1 Axes>"
      ]
     },
     "metadata": {
      "needs_background": "light"
     },
     "output_type": "display_data"
    }
   ],
   "source": [
    "sns.scatterplot(x='body_len', y='click_rate', data=train)"
   ]
  },
  {
   "cell_type": "markdown",
   "metadata": {},
   "source": [
    "#### CTR is greater in range around 1000 to 12000"
   ]
  },
  {
   "cell_type": "code",
   "execution_count": 427,
   "metadata": {},
   "outputs": [
    {
     "data": {
      "text/plain": [
       "<AxesSubplot:xlabel='mean_paragraph_len', ylabel='Count'>"
      ]
     },
     "execution_count": 427,
     "metadata": {},
     "output_type": "execute_result"
    },
    {
     "data": {
      "image/png": "[encoded data removed]",
      "text/plain": [
       "<Figure size 864x360 with 1 Axes>"
      ]
     },
     "metadata": {
      "needs_background": "light"
     },
     "output_type": "display_data"
    }
   ],
   "source": [
    "plt.figure(figsize=(12,5))\n",
    "sns.histplot(data=train['mean_paragraph_len'])"
   ]
  },
  {
   "cell_type": "markdown",
   "metadata": {},
   "source": [
    "#### The mean_paragraph_len of most of the emails are between 20 to 50"
   ]
  },
  {
   "cell_type": "code",
   "execution_count": 428,
   "metadata": {},
   "outputs": [
    {
     "data": {
      "text/plain": [
       "<AxesSubplot:xlabel='mean_paragraph_len', ylabel='click_rate'>"
      ]
     },
     "execution_count": 428,
     "metadata": {},
     "output_type": "execute_result"
    },
    {
     "data": {
      "image/png": "[encoded data removed]",
      "text/plain": [
       "<Figure size 432x288 with 1 Axes>"
      ]
     },
     "metadata": {
      "needs_background": "light"
     },
     "output_type": "display_data"
    }
   ],
   "source": [
    "sns.scatterplot(x='mean_paragraph_len', y='click_rate', data=train)"
   ]
  },
  {
   "cell_type": "markdown",
   "metadata": {},
   "source": [
    "### CTR is greater when mean_paragraph_len is less than 100"
   ]
  },
  {
   "cell_type": "code",
   "execution_count": 429,
   "metadata": {},
   "outputs": [
    {
     "data": {
      "text/plain": [
       "<AxesSubplot:xlabel='day_of_week', ylabel='count'>"
      ]
     },
     "execution_count": 429,
     "metadata": {},
     "output_type": "execute_result"
    },
    {
     "data": {
      "image/png": "[encoded data removed]",
      "text/plain": [
       "<Figure size 576x576 with 1 Axes>"
      ]
     },
     "metadata": {
      "needs_background": "light"
     },
     "output_type": "display_data"
    }
   ],
   "source": [
    "plt.figure(figsize=(8,8))\n",
    "sns.countplot('day_of_week', data=train)"
   ]
  },
  {
   "cell_type": "markdown",
   "metadata": {},
   "source": [
    "#### No. of emails on day 0 and 6 are sent less"
   ]
  },
  {
   "cell_type": "code",
   "execution_count": 430,
   "metadata": {},
   "outputs": [
    {
     "data": {
      "text/plain": [
       "<AxesSubplot:xlabel='day_of_week', ylabel='click_rate'>"
      ]
     },
     "execution_count": 430,
     "metadata": {},
     "output_type": "execute_result"
    },
    {
     "data": {
      "image/png": "[encoded data removed]",
      "text/plain": [
       "<Figure size 432x288 with 1 Axes>"
      ]
     },
     "metadata": {
      "needs_background": "light"
     },
     "output_type": "display_data"
    }
   ],
   "source": [
    "sns.scatterplot(x='day_of_week', y='click_rate', data=train)"
   ]
  },
  {
   "cell_type": "markdown",
   "metadata": {},
   "source": [
    "#### CTR is greater on day 2 and day 5"
   ]
  },
  {
   "cell_type": "code",
   "execution_count": 431,
   "metadata": {
    "scrolled": false
   },
   "outputs": [
    {
     "data": {
      "text/plain": [
       "<AxesSubplot:xlabel='times_of_day', ylabel='count'>"
      ]
     },
     "execution_count": 431,
     "metadata": {},
     "output_type": "execute_result"
    },
    {
     "data": {
      "image/png": "[encoded data removed]",
      "text/plain": [
       "<Figure size 576x576 with 1 Axes>"
      ]
     },
     "metadata": {
      "needs_background": "light"
     },
     "output_type": "display_data"
    }
   ],
   "source": [
    "plt.figure(figsize=(8,8))\n",
    "sns.countplot('times_of_day', data=train)"
   ]
  },
  {
   "cell_type": "markdown",
   "metadata": {},
   "source": [
    "#### Most of the emails are sent in evening time of day"
   ]
  },
  {
   "cell_type": "code",
   "execution_count": 432,
   "metadata": {},
   "outputs": [
    {
     "data": {
      "text/plain": [
       "<AxesSubplot:xlabel='times_of_day', ylabel='click_rate'>"
      ]
     },
     "execution_count": 432,
     "metadata": {},
     "output_type": "execute_result"
    },
    {
     "data": {
      "image/png": "[encoded data removed]",
      "text/plain": [
       "<Figure size 432x288 with 1 Axes>"
      ]
     },
     "metadata": {
      "needs_background": "light"
     },
     "output_type": "display_data"
    }
   ],
   "source": [
    "sns.scatterplot(x='times_of_day', y='click_rate', data=train)"
   ]
  },
  {
   "cell_type": "markdown",
   "metadata": {},
   "source": [
    "#### CTR doesn't depend upon time_of day"
   ]
  },
  {
   "cell_type": "code",
   "execution_count": 433,
   "metadata": {},
   "outputs": [
    {
     "data": {
      "text/plain": [
       "<AxesSubplot:xlabel='is_weekend', ylabel='count'>"
      ]
     },
     "execution_count": 433,
     "metadata": {},
     "output_type": "execute_result"
    },
    {
     "data": {
      "image/png": "[encoded data removed]",
      "text/plain": [
       "<Figure size 432x288 with 1 Axes>"
      ]
     },
     "metadata": {
      "needs_background": "light"
     },
     "output_type": "display_data"
    }
   ],
   "source": [
    "plt.figure()\n",
    "sns.countplot('is_weekend', data=train)"
   ]
  },
  {
   "cell_type": "markdown",
   "metadata": {},
   "source": [
    "#### Approx 1/4 of the mails are sent on weekends "
   ]
  },
  {
   "cell_type": "code",
   "execution_count": 434,
   "metadata": {
    "scrolled": true
   },
   "outputs": [
    {
     "data": {
      "text/plain": [
       "<AxesSubplot:xlabel='is_weekend', ylabel='click_rate'>"
      ]
     },
     "execution_count": 434,
     "metadata": {},
     "output_type": "execute_result"
    },
    {
     "data": {
      "image/png": "[encoded data removed]",
      "text/plain": [
       "<Figure size 432x288 with 1 Axes>"
      ]
     },
     "metadata": {
      "needs_background": "light"
     },
     "output_type": "display_data"
    }
   ],
   "source": [
    "sns.barplot(x='is_weekend', y='click_rate', data=train)"
   ]
  },
  {
   "cell_type": "markdown",
   "metadata": {},
   "source": [
    "#### CTR is greater on weekends"
   ]
  },
  {
   "cell_type": "code",
   "execution_count": 435,
   "metadata": {
    "scrolled": false
   },
   "outputs": [
    {
     "data": {
      "text/plain": [
       "<AxesSubplot:xlabel='target_audience', ylabel='count'>"
      ]
     },
     "execution_count": 435,
     "metadata": {},
     "output_type": "execute_result"
    },
    {
     "data": {
      "image/png": "[encoded data removed]",
      "text/plain": [
       "<Figure size 576x576 with 1 Axes>"
      ]
     },
     "metadata": {
      "needs_background": "light"
     },
     "output_type": "display_data"
    }
   ],
   "source": [
    "plt.figure(figsize=(8,8))\n",
    "sns.countplot('target_audience', data=train)"
   ]
  },
  {
   "cell_type": "markdown",
   "metadata": {},
   "source": [
    "#### Type 12 audience are the target of most of the email campaings"
   ]
  },
  {
   "cell_type": "code",
   "execution_count": 436,
   "metadata": {
    "scrolled": true
   },
   "outputs": [
    {
     "data": {
      "text/plain": [
       "<AxesSubplot:xlabel='target_audience', ylabel='click_rate'>"
      ]
     },
     "execution_count": 436,
     "metadata": {},
     "output_type": "execute_result"
    },
    {
     "data": {
      "image/png": "[encoded data removed]",
      "text/plain": [
       "<Figure size 432x288 with 1 Axes>"
      ]
     },
     "metadata": {
      "needs_background": "light"
     },
     "output_type": "display_data"
    }
   ],
   "source": [
    "sns.barplot(x='target_audience', y='click_rate', data=train)"
   ]
  },
  {
   "cell_type": "markdown",
   "metadata": {},
   "source": [
    "#### Type 14 and type 6 audiences has higher CTR values"
   ]
  },
  {
   "cell_type": "code",
   "execution_count": 437,
   "metadata": {
    "scrolled": false
   },
   "outputs": [
    {
     "data": {
      "text/plain": [
       "<AxesSubplot:xlabel='category', ylabel='count'>"
      ]
     },
     "execution_count": 437,
     "metadata": {},
     "output_type": "execute_result"
    },
    {
     "data": {
      "image/png": "[encoded data removed]",
      "text/plain": [
       "<Figure size 576x576 with 1 Axes>"
      ]
     },
     "metadata": {
      "needs_background": "light"
     },
     "output_type": "display_data"
    }
   ],
   "source": [
    "plt.figure(figsize=(8,8))\n",
    "sns.countplot('category', data=train)"
   ]
  },
  {
   "cell_type": "markdown",
   "metadata": {},
   "source": [
    "#### Most of the mails are from category 15"
   ]
  },
  {
   "cell_type": "code",
   "execution_count": 438,
   "metadata": {
    "scrolled": true
   },
   "outputs": [
    {
     "data": {
      "text/plain": [
       "<AxesSubplot:xlabel='category', ylabel='click_rate'>"
      ]
     },
     "execution_count": 438,
     "metadata": {},
     "output_type": "execute_result"
    },
    {
     "data": {
      "image/png": "[encoded data removed]",
      "text/plain": [
       "<Figure size 432x288 with 1 Axes>"
      ]
     },
     "metadata": {
      "needs_background": "light"
     },
     "output_type": "display_data"
    }
   ],
   "source": [
    "sns.barplot(x='category', y='click_rate', data=train)"
   ]
  },
  {
   "cell_type": "markdown",
   "metadata": {},
   "source": [
    "#### Category 7 has the higher CTR"
   ]
  },
  {
   "cell_type": "code",
   "execution_count": 439,
   "metadata": {
    "scrolled": false
   },
   "outputs": [
    {
     "data": {
      "text/plain": [
       "<AxesSubplot:xlabel='product', ylabel='Count'>"
      ]
     },
     "execution_count": 439,
     "metadata": {},
     "output_type": "execute_result"
    },
    {
     "data": {
      "image/png": "[encoded data removed]",
      "text/plain": [
       "<Figure size 576x576 with 1 Axes>"
      ]
     },
     "metadata": {
      "needs_background": "light"
     },
     "output_type": "display_data"
    }
   ],
   "source": [
    "plt.figure(figsize=(8,8))\n",
    "sns.histplot(train['product'])"
   ]
  },
  {
   "cell_type": "markdown",
   "metadata": {},
   "source": []
  },
  {
   "cell_type": "code",
   "execution_count": 440,
   "metadata": {
    "scrolled": true
   },
   "outputs": [
    {
     "data": {
      "text/plain": [
       "<AxesSubplot:xlabel='product', ylabel='click_rate'>"
      ]
     },
     "execution_count": 440,
     "metadata": {},
     "output_type": "execute_result"
    },
    {
     "data": {
      "image/png": "[encoded data removed]",
      "text/plain": [
       "<Figure size 432x288 with 1 Axes>"
      ]
     },
     "metadata": {
      "needs_background": "light"
     },
     "output_type": "display_data"
    }
   ],
   "source": [
    "sns.lineplot(x='product', y='click_rate', data=train)"
   ]
  },
  {
   "cell_type": "markdown",
   "metadata": {},
   "source": [
    "#### CTR is greater when product type is in between 25 to 28"
   ]
  },
  {
   "cell_type": "code",
   "execution_count": 441,
   "metadata": {
    "scrolled": false
   },
   "outputs": [
    {
     "data": {
      "text/plain": [
       "<AxesSubplot:xlabel='no_of_CTA', ylabel='Count'>"
      ]
     },
     "execution_count": 441,
     "metadata": {},
     "output_type": "execute_result"
    },
    {
     "data": {
      "image/png": "[encoded data removed]",
      "text/plain": [
       "<Figure size 576x576 with 1 Axes>"
      ]
     },
     "metadata": {
      "needs_background": "light"
     },
     "output_type": "display_data"
    }
   ],
   "source": [
    "plt.figure(figsize=(8,8))\n",
    "sns.histplot(train['no_of_CTA'])"
   ]
  },
  {
   "cell_type": "markdown",
   "metadata": {},
   "source": [
    "#### no_of_CTA of most of the mails are in range of 0 to 7"
   ]
  },
  {
   "cell_type": "code",
   "execution_count": 442,
   "metadata": {
    "scrolled": true
   },
   "outputs": [
    {
     "data": {
      "text/plain": [
       "<AxesSubplot:xlabel='no_of_CTA', ylabel='click_rate'>"
      ]
     },
     "execution_count": 442,
     "metadata": {},
     "output_type": "execute_result"
    },
    {
     "data": {
      "image/png": "[encoded data removed]",
      "text/plain": [
       "<Figure size 432x288 with 1 Axes>"
      ]
     },
     "metadata": {
      "needs_background": "light"
     },
     "output_type": "display_data"
    }
   ],
   "source": [
    "sns.scatterplot(x='no_of_CTA', y='click_rate', data=train)"
   ]
  },
  {
   "cell_type": "markdown",
   "metadata": {},
   "source": [
    "#### CTR is greater when no_of_CTA is less (between 0 to 5)"
   ]
  },
  {
   "cell_type": "code",
   "execution_count": 443,
   "metadata": {
    "scrolled": false
   },
   "outputs": [
    {
     "data": {
      "text/plain": [
       "<AxesSubplot:xlabel='mean_CTA_len', ylabel='Count'>"
      ]
     },
     "execution_count": 443,
     "metadata": {},
     "output_type": "execute_result"
    },
    {
     "data": {
      "image/png": "[encoded data removed]",
      "text/plain": [
       "<Figure size 576x576 with 1 Axes>"
      ]
     },
     "metadata": {
      "needs_background": "light"
     },
     "output_type": "display_data"
    }
   ],
   "source": [
    "plt.figure(figsize=(8,8))\n",
    "sns.histplot(train['mean_CTA_len'])"
   ]
  },
  {
   "cell_type": "markdown",
   "metadata": {},
   "source": [
    "#### Most of the emails have mean_CTA_len of around 20 to 40"
   ]
  },
  {
   "cell_type": "code",
   "execution_count": 444,
   "metadata": {
    "scrolled": true
   },
   "outputs": [
    {
     "data": {
      "text/plain": [
       "<AxesSubplot:xlabel='mean_CTA_len', ylabel='click_rate'>"
      ]
     },
     "execution_count": 444,
     "metadata": {},
     "output_type": "execute_result"
    },
    {
     "data": {
      "image/png": "[encoded data removed]",
      "text/plain": [
       "<Figure size 432x288 with 1 Axes>"
      ]
     },
     "metadata": {
      "needs_background": "light"
     },
     "output_type": "display_data"
    }
   ],
   "source": [
    "sns.scatterplot(x='mean_CTA_len', y='click_rate', data=train)"
   ]
  },
  {
   "cell_type": "markdown",
   "metadata": {},
   "source": [
    "#### CTR is maximum when mean_CTA_len is between 15 to 40"
   ]
  },
  {
   "cell_type": "code",
   "execution_count": 445,
   "metadata": {
    "scrolled": false
   },
   "outputs": [
    {
     "data": {
      "text/plain": [
       "<AxesSubplot:xlabel='is_image', ylabel='count'>"
      ]
     },
     "execution_count": 445,
     "metadata": {},
     "output_type": "execute_result"
    },
    {
     "data": {
      "image/png": "[encoded data removed]",
      "text/plain": [
       "<Figure size 576x576 with 1 Axes>"
      ]
     },
     "metadata": {
      "needs_background": "light"
     },
     "output_type": "display_data"
    }
   ],
   "source": [
    "plt.figure(figsize=(8,8))\n",
    "sns.countplot(train['is_image'])"
   ]
  },
  {
   "cell_type": "markdown",
   "metadata": {},
   "source": [
    "#### Most of the emails have 0, 1 or 2 images"
   ]
  },
  {
   "cell_type": "code",
   "execution_count": 446,
   "metadata": {
    "scrolled": true
   },
   "outputs": [
    {
     "data": {
      "text/plain": [
       "<AxesSubplot:xlabel='is_image', ylabel='click_rate'>"
      ]
     },
     "execution_count": 446,
     "metadata": {},
     "output_type": "execute_result"
    },
    {
     "data": {
      "image/png": "[encoded data removed]",
      "text/plain": [
       "<Figure size 432x288 with 1 Axes>"
      ]
     },
     "metadata": {
      "needs_background": "light"
     },
     "output_type": "display_data"
    }
   ],
   "source": [
    "sns.barplot(x='is_image', y='click_rate', data=train)"
   ]
  },
  {
   "cell_type": "markdown",
   "metadata": {},
   "source": [
    "#### CTR is low when there are 4 images"
   ]
  },
  {
   "cell_type": "code",
   "execution_count": 447,
   "metadata": {
    "scrolled": false
   },
   "outputs": [
    {
     "data": {
      "text/plain": [
       "<AxesSubplot:xlabel='is_personalised', ylabel='count'>"
      ]
     },
     "execution_count": 447,
     "metadata": {},
     "output_type": "execute_result"
    },
    {
     "data": {
      "image/png": "[encoded data removed]",
      "text/plain": [
       "<Figure size 576x576 with 1 Axes>"
      ]
     },
     "metadata": {
      "needs_background": "light"
     },
     "output_type": "display_data"
    }
   ],
   "source": [
    "plt.figure(figsize=(8,8))\n",
    "sns.countplot(train['is_personalised'])"
   ]
  },
  {
   "cell_type": "markdown",
   "metadata": {},
   "source": [
    "#### Most of the emails are not personalised"
   ]
  },
  {
   "cell_type": "code",
   "execution_count": 448,
   "metadata": {
    "scrolled": true
   },
   "outputs": [
    {
     "data": {
      "text/plain": [
       "<AxesSubplot:xlabel='is_personalised', ylabel='click_rate'>"
      ]
     },
     "execution_count": 448,
     "metadata": {},
     "output_type": "execute_result"
    },
    {
     "data": {
      "image/png": "[encoded data removed]",
      "text/plain": [
       "<Figure size 432x288 with 1 Axes>"
      ]
     },
     "metadata": {
      "needs_background": "light"
     },
     "output_type": "display_data"
    }
   ],
   "source": [
    "sns.barplot(x='is_personalised', y='click_rate', data=train)"
   ]
  },
  {
   "cell_type": "markdown",
   "metadata": {},
   "source": [
    "#### CTR doesn't depend much on personalisation of emails"
   ]
  },
  {
   "cell_type": "code",
   "execution_count": 449,
   "metadata": {
    "scrolled": false
   },
   "outputs": [
    {
     "data": {
      "text/plain": [
       "<AxesSubplot:xlabel='is_quote', ylabel='count'>"
      ]
     },
     "execution_count": 449,
     "metadata": {},
     "output_type": "execute_result"
    },
    {
     "data": {
      "image/png": "[encoded data removed]",
      "text/plain": [
       "<Figure size 576x576 with 1 Axes>"
      ]
     },
     "metadata": {
      "needs_background": "light"
     },
     "output_type": "display_data"
    }
   ],
   "source": [
    "plt.figure(figsize=(8,8))\n",
    "sns.countplot(train['is_quote'])"
   ]
  },
  {
   "cell_type": "markdown",
   "metadata": {},
   "source": [
    "#### Most of the emails have 0 or 1 quotes"
   ]
  },
  {
   "cell_type": "code",
   "execution_count": 450,
   "metadata": {},
   "outputs": [
    {
     "data": {
      "text/plain": [
       "<AxesSubplot:xlabel='is_quote', ylabel='click_rate'>"
      ]
     },
     "execution_count": 450,
     "metadata": {},
     "output_type": "execute_result"
    },
    {
     "data": {
      "image/png": "[encoded data removed]",
      "text/plain": [
       "<Figure size 432x288 with 1 Axes>"
      ]
     },
     "metadata": {
      "needs_background": "light"
     },
     "output_type": "display_data"
    }
   ],
   "source": [
    "sns.barplot(x='is_quote', y='click_rate', data=train)"
   ]
  },
  {
   "cell_type": "markdown",
   "metadata": {},
   "source": [
    "#### CTR decreases when no. of quotes decreases"
   ]
  },
  {
   "cell_type": "code",
   "execution_count": 451,
   "metadata": {
    "scrolled": false
   },
   "outputs": [
    {
     "data": {
      "text/plain": [
       "<AxesSubplot:xlabel='is_timer', ylabel='count'>"
      ]
     },
     "execution_count": 451,
     "metadata": {},
     "output_type": "execute_result"
    },
    {
     "data": {
      "image/png": "[encoded data removed]",
      "text/plain": [
       "<Figure size 576x576 with 1 Axes>"
      ]
     },
     "metadata": {
      "needs_background": "light"
     },
     "output_type": "display_data"
    }
   ],
   "source": [
    "plt.figure(figsize=(8,8))\n",
    "sns.countplot(train['is_timer'])"
   ]
  },
  {
   "cell_type": "markdown",
   "metadata": {},
   "source": [
    "#### All of the mails don't have any timer"
   ]
  },
  {
   "cell_type": "code",
   "execution_count": 452,
   "metadata": {
    "scrolled": true
   },
   "outputs": [
    {
     "data": {
      "text/plain": [
       "<AxesSubplot:xlabel='is_timer', ylabel='click_rate'>"
      ]
     },
     "execution_count": 452,
     "metadata": {},
     "output_type": "execute_result"
    },
    {
     "data": {
      "image/png": "[encoded data removed]",
      "text/plain": [
       "<Figure size 432x288 with 1 Axes>"
      ]
     },
     "metadata": {
      "needs_background": "light"
     },
     "output_type": "display_data"
    }
   ],
   "source": [
    "sns.barplot(x='is_timer', y='click_rate', data=train)"
   ]
  },
  {
   "cell_type": "markdown",
   "metadata": {},
   "source": [
    "#### CTR does not depend on timer"
   ]
  },
  {
   "cell_type": "code",
   "execution_count": 453,
   "metadata": {},
   "outputs": [
    {
     "data": {
      "text/plain": [
       "<AxesSubplot:xlabel='is_emoticons', ylabel='count'>"
      ]
     },
     "execution_count": 453,
     "metadata": {},
     "output_type": "execute_result"
    },
    {
     "data": {
      "image/png": "[encoded data removed]",
      "text/plain": [
       "<Figure size 576x576 with 1 Axes>"
      ]
     },
     "metadata": {
      "needs_background": "light"
     },
     "output_type": "display_data"
    }
   ],
   "source": [
    "plt.figure(figsize=(8,8))\n",
    "sns.countplot(train['is_emoticons'])"
   ]
  },
  {
   "cell_type": "markdown",
   "metadata": {},
   "source": [
    "#### Most of the emails have 0 emoticons"
   ]
  },
  {
   "cell_type": "code",
   "execution_count": 454,
   "metadata": {},
   "outputs": [
    {
     "data": {
      "text/plain": [
       "<AxesSubplot:xlabel='is_emoticons', ylabel='click_rate'>"
      ]
     },
     "execution_count": 454,
     "metadata": {},
     "output_type": "execute_result"
    },
    {
     "data": {
      "image/png": "[encoded data removed]",
      "text/plain": [
       "<Figure size 432x288 with 1 Axes>"
      ]
     },
     "metadata": {
      "needs_background": "light"
     },
     "output_type": "display_data"
    }
   ],
   "source": [
    "sns.barplot(x='is_emoticons', y='click_rate', data=train)"
   ]
  },
  {
   "cell_type": "markdown",
   "metadata": {},
   "source": [
    "#### CTR decreases when no. of emoticons increases"
   ]
  },
  {
   "cell_type": "code",
   "execution_count": 455,
   "metadata": {},
   "outputs": [
    {
     "data": {
      "text/plain": [
       "<AxesSubplot:xlabel='is_discount', ylabel='count'>"
      ]
     },
     "execution_count": 455,
     "metadata": {},
     "output_type": "execute_result"
    },
    {
     "data": {
      "image/png": "[encoded data removed]",
      "text/plain": [
       "<Figure size 576x576 with 1 Axes>"
      ]
     },
     "metadata": {
      "needs_background": "light"
     },
     "output_type": "display_data"
    }
   ],
   "source": [
    "plt.figure(figsize=(8,8))\n",
    "sns.countplot(train['is_discount'])"
   ]
  },
  {
   "cell_type": "markdown",
   "metadata": {},
   "source": [
    "#### Most of the emails does not have discounts"
   ]
  },
  {
   "cell_type": "code",
   "execution_count": 456,
   "metadata": {},
   "outputs": [
    {
     "data": {
      "text/plain": [
       "<AxesSubplot:xlabel='is_discount', ylabel='click_rate'>"
      ]
     },
     "execution_count": 456,
     "metadata": {},
     "output_type": "execute_result"
    },
    {
     "data": {
      "image/png": "[encoded data removed]",
      "text/plain": [
       "<Figure size 432x288 with 1 Axes>"
      ]
     },
     "metadata": {
      "needs_background": "light"
     },
     "output_type": "display_data"
    }
   ],
   "source": [
    "sns.barplot(x='is_discount', y='click_rate', data=train)"
   ]
  },
  {
   "cell_type": "markdown",
   "metadata": {},
   "source": [
    "#### CTR is greater when it's not discount email"
   ]
  },
  {
   "cell_type": "code",
   "execution_count": 457,
   "metadata": {
    "scrolled": false
   },
   "outputs": [
    {
     "data": {
      "text/plain": [
       "<AxesSubplot:xlabel='is_price', ylabel='count'>"
      ]
     },
     "execution_count": 457,
     "metadata": {},
     "output_type": "execute_result"
    },
    {
     "data": {
      "image/png": "[encoded data removed]",
      "text/plain": [
       "<Figure size 576x576 with 1 Axes>"
      ]
     },
     "metadata": {
      "needs_background": "light"
     },
     "output_type": "display_data"
    }
   ],
   "source": [
    "plt.figure(figsize=(8,8))\n",
    "sns.countplot(train['is_price'])"
   ]
  },
  {
   "cell_type": "markdown",
   "metadata": {},
   "source": [
    "#### Most of the emails does not have any price"
   ]
  },
  {
   "cell_type": "code",
   "execution_count": 458,
   "metadata": {},
   "outputs": [
    {
     "data": {
      "text/plain": [
       "<AxesSubplot:xlabel='is_price', ylabel='click_rate'>"
      ]
     },
     "execution_count": 458,
     "metadata": {},
     "output_type": "execute_result"
    },
    {
     "data": {
      "image/png": "[encoded data removed]",
      "text/plain": [
       "<Figure size 432x288 with 1 Axes>"
      ]
     },
     "metadata": {
      "needs_background": "light"
     },
     "output_type": "display_data"
    }
   ],
   "source": [
    "sns.barplot(x='is_price', y='click_rate', data=train)"
   ]
  },
  {
   "cell_type": "markdown",
   "metadata": {},
   "source": [
    "#### CTR is maximum when price is less than or equal to 1000"
   ]
  },
  {
   "cell_type": "code",
   "execution_count": 459,
   "metadata": {},
   "outputs": [
    {
     "data": {
      "text/plain": [
       "<AxesSubplot:xlabel='is_urgency', ylabel='count'>"
      ]
     },
     "execution_count": 459,
     "metadata": {},
     "output_type": "execute_result"
    },
    {
     "data": {
      "image/png": "[encoded data removed]",
      "text/plain": [
       "<Figure size 576x576 with 1 Axes>"
      ]
     },
     "metadata": {
      "needs_background": "light"
     },
     "output_type": "display_data"
    }
   ],
   "source": [
    "plt.figure(figsize=(8,8))\n",
    "sns.countplot(train['is_urgency'])"
   ]
  },
  {
   "cell_type": "markdown",
   "metadata": {},
   "source": [
    "#### Most of the emails are not in urgency"
   ]
  },
  {
   "cell_type": "code",
   "execution_count": 460,
   "metadata": {},
   "outputs": [
    {
     "data": {
      "text/plain": [
       "<AxesSubplot:xlabel='is_urgency', ylabel='click_rate'>"
      ]
     },
     "execution_count": 460,
     "metadata": {},
     "output_type": "execute_result"
    },
    {
     "data": {
      "image/png": "[encoded data removed]",
      "text/plain": [
       "<Figure size 432x288 with 1 Axes>"
      ]
     },
     "metadata": {
      "needs_background": "light"
     },
     "output_type": "display_data"
    }
   ],
   "source": [
    "sns.barplot(x='is_urgency', y='click_rate', data=train)"
   ]
  },
  {
   "cell_type": "markdown",
   "metadata": {},
   "source": [
    "#### CTR is greater when emails are not in urgency"
   ]
  },
  {
   "cell_type": "markdown",
   "metadata": {},
   "source": [
    "### Dropping the columns that doesn't affect the CTR"
   ]
  },
  {
   "cell_type": "code",
   "execution_count": 461,
   "metadata": {},
   "outputs": [
    {
     "data": {
      "text/html": [
       "<div>\n",
       "<style scoped>\n",
       "    .dataframe tbody tr th:only-of-type {\n",
       "        vertical-align: middle;\n",
       "    }\n",
       "\n",
       "    .dataframe tbody tr th {\n",
       "        vertical-align: top;\n",
       "    }\n",
       "\n",
       "    .dataframe thead th {\n",
       "        text-align: right;\n",
       "    }\n",
       "</style>\n",
       "<table border=\"1\" class=\"dataframe\">\n",
       "  <thead>\n",
       "    <tr style=\"text-align: right;\">\n",
       "      <th></th>\n",
       "      <th>sender</th>\n",
       "      <th>subject_len</th>\n",
       "      <th>body_len</th>\n",
       "      <th>mean_paragraph_len</th>\n",
       "      <th>day_of_week</th>\n",
       "      <th>is_weekend</th>\n",
       "      <th>category</th>\n",
       "      <th>product</th>\n",
       "      <th>no_of_CTA</th>\n",
       "      <th>mean_CTA_len</th>\n",
       "      <th>is_image</th>\n",
       "      <th>is_quote</th>\n",
       "      <th>is_emoticons</th>\n",
       "      <th>is_discount</th>\n",
       "      <th>is_price</th>\n",
       "      <th>is_urgency</th>\n",
       "      <th>target_audience</th>\n",
       "      <th>click_rate</th>\n",
       "    </tr>\n",
       "  </thead>\n",
       "  <tbody>\n",
       "    <tr>\n",
       "      <th>0</th>\n",
       "      <td>3</td>\n",
       "      <td>76</td>\n",
       "      <td>10439</td>\n",
       "      <td>39</td>\n",
       "      <td>5</td>\n",
       "      <td>1</td>\n",
       "      <td>6</td>\n",
       "      <td>26</td>\n",
       "      <td>3</td>\n",
       "      <td>29</td>\n",
       "      <td>0</td>\n",
       "      <td>0</td>\n",
       "      <td>0</td>\n",
       "      <td>0</td>\n",
       "      <td>0</td>\n",
       "      <td>0</td>\n",
       "      <td>14</td>\n",
       "      <td>0.103079</td>\n",
       "    </tr>\n",
       "    <tr>\n",
       "      <th>1</th>\n",
       "      <td>3</td>\n",
       "      <td>54</td>\n",
       "      <td>2570</td>\n",
       "      <td>256</td>\n",
       "      <td>5</td>\n",
       "      <td>1</td>\n",
       "      <td>2</td>\n",
       "      <td>11</td>\n",
       "      <td>0</td>\n",
       "      <td>22</td>\n",
       "      <td>0</td>\n",
       "      <td>0</td>\n",
       "      <td>0</td>\n",
       "      <td>0</td>\n",
       "      <td>0</td>\n",
       "      <td>0</td>\n",
       "      <td>10</td>\n",
       "      <td>0.700000</td>\n",
       "    </tr>\n",
       "    <tr>\n",
       "      <th>2</th>\n",
       "      <td>3</td>\n",
       "      <td>59</td>\n",
       "      <td>12801</td>\n",
       "      <td>16</td>\n",
       "      <td>5</td>\n",
       "      <td>1</td>\n",
       "      <td>2</td>\n",
       "      <td>11</td>\n",
       "      <td>3</td>\n",
       "      <td>23</td>\n",
       "      <td>1</td>\n",
       "      <td>1</td>\n",
       "      <td>0</td>\n",
       "      <td>0</td>\n",
       "      <td>0</td>\n",
       "      <td>0</td>\n",
       "      <td>16</td>\n",
       "      <td>0.002769</td>\n",
       "    </tr>\n",
       "    <tr>\n",
       "      <th>3</th>\n",
       "      <td>3</td>\n",
       "      <td>74</td>\n",
       "      <td>11037</td>\n",
       "      <td>30</td>\n",
       "      <td>4</td>\n",
       "      <td>0</td>\n",
       "      <td>15</td>\n",
       "      <td>9</td>\n",
       "      <td>4</td>\n",
       "      <td>24</td>\n",
       "      <td>0</td>\n",
       "      <td>0</td>\n",
       "      <td>0</td>\n",
       "      <td>0</td>\n",
       "      <td>0</td>\n",
       "      <td>0</td>\n",
       "      <td>10</td>\n",
       "      <td>0.010868</td>\n",
       "    </tr>\n",
       "    <tr>\n",
       "      <th>4</th>\n",
       "      <td>3</td>\n",
       "      <td>80</td>\n",
       "      <td>10011</td>\n",
       "      <td>27</td>\n",
       "      <td>5</td>\n",
       "      <td>1</td>\n",
       "      <td>6</td>\n",
       "      <td>26</td>\n",
       "      <td>3</td>\n",
       "      <td>31</td>\n",
       "      <td>0</td>\n",
       "      <td>1</td>\n",
       "      <td>0</td>\n",
       "      <td>0</td>\n",
       "      <td>0</td>\n",
       "      <td>0</td>\n",
       "      <td>14</td>\n",
       "      <td>0.142826</td>\n",
       "    </tr>\n",
       "  </tbody>\n",
       "</table>\n",
       "</div>"
      ],
      "text/plain": [
       "   sender  subject_len  body_len  mean_paragraph_len  day_of_week  is_weekend  \\\n",
       "0       3           76     10439                  39            5           1   \n",
       "1       3           54      2570                 256            5           1   \n",
       "2       3           59     12801                  16            5           1   \n",
       "3       3           74     11037                  30            4           0   \n",
       "4       3           80     10011                  27            5           1   \n",
       "\n",
       "   category  product  no_of_CTA  mean_CTA_len  is_image  is_quote  \\\n",
       "0         6       26          3            29         0         0   \n",
       "1         2       11          0            22         0         0   \n",
       "2         2       11          3            23         1         1   \n",
       "3        15        9          4            24         0         0   \n",
       "4         6       26          3            31         0         1   \n",
       "\n",
       "   is_emoticons  is_discount  is_price  is_urgency  target_audience  \\\n",
       "0             0            0         0           0               14   \n",
       "1             0            0         0           0               10   \n",
       "2             0            0         0           0               16   \n",
       "3             0            0         0           0               10   \n",
       "4             0            0         0           0               14   \n",
       "\n",
       "   click_rate  \n",
       "0    0.103079  \n",
       "1    0.700000  \n",
       "2    0.002769  \n",
       "3    0.010868  \n",
       "4    0.142826  "
      ]
     },
     "execution_count": 461,
     "metadata": {},
     "output_type": "execute_result"
    }
   ],
   "source": [
    "train=train.drop(['is_timer','campaign_id', 'is_personalised', 'times_of_day'],axis=1)\n",
    "train.head()"
   ]
  },
  {
   "cell_type": "code",
   "execution_count": 462,
   "metadata": {},
   "outputs": [
    {
     "data": {
      "text/html": [
       "<div>\n",
       "<style scoped>\n",
       "    .dataframe tbody tr th:only-of-type {\n",
       "        vertical-align: middle;\n",
       "    }\n",
       "\n",
       "    .dataframe tbody tr th {\n",
       "        vertical-align: top;\n",
       "    }\n",
       "\n",
       "    .dataframe thead th {\n",
       "        text-align: right;\n",
       "    }\n",
       "</style>\n",
       "<table border=\"1\" class=\"dataframe\">\n",
       "  <thead>\n",
       "    <tr style=\"text-align: right;\">\n",
       "      <th></th>\n",
       "      <th>sender</th>\n",
       "      <th>subject_len</th>\n",
       "      <th>body_len</th>\n",
       "      <th>mean_paragraph_len</th>\n",
       "      <th>day_of_week</th>\n",
       "      <th>is_weekend</th>\n",
       "      <th>category</th>\n",
       "      <th>product</th>\n",
       "      <th>no_of_CTA</th>\n",
       "      <th>mean_CTA_len</th>\n",
       "      <th>is_image</th>\n",
       "      <th>is_quote</th>\n",
       "      <th>is_emoticons</th>\n",
       "      <th>is_discount</th>\n",
       "      <th>is_price</th>\n",
       "      <th>is_urgency</th>\n",
       "      <th>target_audience</th>\n",
       "    </tr>\n",
       "  </thead>\n",
       "  <tbody>\n",
       "    <tr>\n",
       "      <th>0</th>\n",
       "      <td>3</td>\n",
       "      <td>61</td>\n",
       "      <td>12871</td>\n",
       "      <td>11</td>\n",
       "      <td>6</td>\n",
       "      <td>1</td>\n",
       "      <td>6</td>\n",
       "      <td>26</td>\n",
       "      <td>3</td>\n",
       "      <td>37</td>\n",
       "      <td>1</td>\n",
       "      <td>0</td>\n",
       "      <td>1</td>\n",
       "      <td>0</td>\n",
       "      <td>0</td>\n",
       "      <td>0</td>\n",
       "      <td>14</td>\n",
       "    </tr>\n",
       "    <tr>\n",
       "      <th>1</th>\n",
       "      <td>3</td>\n",
       "      <td>54</td>\n",
       "      <td>2569</td>\n",
       "      <td>256</td>\n",
       "      <td>5</td>\n",
       "      <td>1</td>\n",
       "      <td>2</td>\n",
       "      <td>11</td>\n",
       "      <td>0</td>\n",
       "      <td>22</td>\n",
       "      <td>0</td>\n",
       "      <td>0</td>\n",
       "      <td>0</td>\n",
       "      <td>0</td>\n",
       "      <td>0</td>\n",
       "      <td>0</td>\n",
       "      <td>10</td>\n",
       "    </tr>\n",
       "    <tr>\n",
       "      <th>2</th>\n",
       "      <td>3</td>\n",
       "      <td>88</td>\n",
       "      <td>1473</td>\n",
       "      <td>78</td>\n",
       "      <td>4</td>\n",
       "      <td>0</td>\n",
       "      <td>2</td>\n",
       "      <td>11</td>\n",
       "      <td>0</td>\n",
       "      <td>22</td>\n",
       "      <td>1</td>\n",
       "      <td>1</td>\n",
       "      <td>0</td>\n",
       "      <td>0</td>\n",
       "      <td>0</td>\n",
       "      <td>0</td>\n",
       "      <td>10</td>\n",
       "    </tr>\n",
       "    <tr>\n",
       "      <th>3</th>\n",
       "      <td>3</td>\n",
       "      <td>88</td>\n",
       "      <td>1473</td>\n",
       "      <td>78</td>\n",
       "      <td>3</td>\n",
       "      <td>0</td>\n",
       "      <td>2</td>\n",
       "      <td>11</td>\n",
       "      <td>0</td>\n",
       "      <td>22</td>\n",
       "      <td>1</td>\n",
       "      <td>1</td>\n",
       "      <td>0</td>\n",
       "      <td>0</td>\n",
       "      <td>0</td>\n",
       "      <td>0</td>\n",
       "      <td>10</td>\n",
       "    </tr>\n",
       "    <tr>\n",
       "      <th>4</th>\n",
       "      <td>3</td>\n",
       "      <td>78</td>\n",
       "      <td>9020</td>\n",
       "      <td>29</td>\n",
       "      <td>3</td>\n",
       "      <td>0</td>\n",
       "      <td>6</td>\n",
       "      <td>26</td>\n",
       "      <td>2</td>\n",
       "      <td>40</td>\n",
       "      <td>0</td>\n",
       "      <td>0</td>\n",
       "      <td>0</td>\n",
       "      <td>0</td>\n",
       "      <td>0</td>\n",
       "      <td>0</td>\n",
       "      <td>14</td>\n",
       "    </tr>\n",
       "  </tbody>\n",
       "</table>\n",
       "</div>"
      ],
      "text/plain": [
       "   sender  subject_len  body_len  mean_paragraph_len  day_of_week  is_weekend  \\\n",
       "0       3           61     12871                  11            6           1   \n",
       "1       3           54      2569                 256            5           1   \n",
       "2       3           88      1473                  78            4           0   \n",
       "3       3           88      1473                  78            3           0   \n",
       "4       3           78      9020                  29            3           0   \n",
       "\n",
       "   category  product  no_of_CTA  mean_CTA_len  is_image  is_quote  \\\n",
       "0         6       26          3            37         1         0   \n",
       "1         2       11          0            22         0         0   \n",
       "2         2       11          0            22         1         1   \n",
       "3         2       11          0            22         1         1   \n",
       "4         6       26          2            40         0         0   \n",
       "\n",
       "   is_emoticons  is_discount  is_price  is_urgency  target_audience  \n",
       "0             1            0         0           0               14  \n",
       "1             0            0         0           0               10  \n",
       "2             0            0         0           0               10  \n",
       "3             0            0         0           0               10  \n",
       "4             0            0         0           0               14  "
      ]
     },
     "execution_count": 462,
     "metadata": {},
     "output_type": "execute_result"
    }
   ],
   "source": [
    "test=test.drop(['is_timer','campaign_id','is_personalised', 'times_of_day'],axis=1)\n",
    "test.head()"
   ]
  },
  {
   "cell_type": "markdown",
   "metadata": {},
   "source": [
    "### Building Model"
   ]
  },
  {
   "cell_type": "code",
   "execution_count": 463,
   "metadata": {},
   "outputs": [],
   "source": [
    "y = train.pop('click_rate')\n",
    "X = train"
   ]
  },
  {
   "cell_type": "code",
   "execution_count": 464,
   "metadata": {},
   "outputs": [],
   "source": [
    "X_train, X_test, y_train, y_test = train_test_split( X, y, test_size=0.2, random_state=42)"
   ]
  },
  {
   "cell_type": "code",
   "execution_count": 465,
   "metadata": {},
   "outputs": [],
   "source": [
    "automl = AutoML()"
   ]
  },
  {
   "cell_type": "code",
   "execution_count": 466,
   "metadata": {
    "scrolled": true
   },
   "outputs": [
    {
     "name": "stderr",
     "output_type": "stream",
     "text": [
      "[flaml.automl: 08-07 21:01:23] {2444} INFO - task = regression\n",
      "[flaml.automl: 08-07 21:01:23] {2446} INFO - Data split method: uniform\n",
      "[flaml.automl: 08-07 21:01:23] {2449} INFO - Evaluation method: cv\n",
      "[flaml.automl: 08-07 21:01:23] {2568} INFO - Minimizing error metric: 1-r2\n",
      "[flaml.automl: 08-07 21:01:23] {2708} INFO - List of ML learners in AutoML Run: ['lgbm', 'rf', 'xgboost', 'extra_tree', 'xgb_limitdepth']\n",
      "[flaml.automl: 08-07 21:01:23] {3010} INFO - iteration 0, current learner lgbm\n",
      "[flaml.automl: 08-07 21:01:23] {3143} INFO - Estimated sufficient time budget=411s. Estimated necessary time budget=3s.\n",
      "[flaml.automl: 08-07 21:01:23] {3190} INFO -  at 0.1s,\testimator lgbm's best error=0.9028,\tbest estimator lgbm's best error=0.9028\n",
      "[flaml.automl: 08-07 21:01:23] {3010} INFO - iteration 1, current learner lgbm\n",
      "[flaml.automl: 08-07 21:01:23] {3190} INFO -  at 0.1s,\testimator lgbm's best error=0.9028,\tbest estimator lgbm's best error=0.9028\n",
      "[flaml.automl: 08-07 21:01:23] {3010} INFO - iteration 2, current learner lgbm\n",
      "[flaml.automl: 08-07 21:01:23] {3190} INFO -  at 0.1s,\testimator lgbm's best error=0.8373,\tbest estimator lgbm's best error=0.8373\n",
      "[flaml.automl: 08-07 21:01:23] {3010} INFO - iteration 3, current learner xgboost\n",
      "[flaml.automl: 08-07 21:01:23] {3190} INFO -  at 0.2s,\testimator xgboost's best error=12.7310,\tbest estimator lgbm's best error=0.8373\n",
      "[flaml.automl: 08-07 21:01:23] {3010} INFO - iteration 4, current learner lgbm\n",
      "[flaml.automl: 08-07 21:01:24] {3190} INFO -  at 0.3s,\testimator lgbm's best error=0.7438,\tbest estimator lgbm's best error=0.7438\n",
      "[flaml.automl: 08-07 21:01:24] {3010} INFO - iteration 5, current learner lgbm\n",
      "[flaml.automl: 08-07 21:01:24] {3190} INFO -  at 0.3s,\testimator lgbm's best error=0.7438,\tbest estimator lgbm's best error=0.7438\n",
      "[flaml.automl: 08-07 21:01:24] {3010} INFO - iteration 6, current learner lgbm\n",
      "[flaml.automl: 08-07 21:01:24] {3190} INFO -  at 0.3s,\testimator lgbm's best error=0.7438,\tbest estimator lgbm's best error=0.7438\n",
      "[flaml.automl: 08-07 21:01:24] {3010} INFO - iteration 7, current learner extra_tree\n",
      "[flaml.automl: 08-07 21:01:24] {3190} INFO -  at 0.4s,\testimator extra_tree's best error=0.8884,\tbest estimator lgbm's best error=0.7438\n",
      "[flaml.automl: 08-07 21:01:24] {3010} INFO - iteration 8, current learner rf\n",
      "[flaml.automl: 08-07 21:01:24] {3190} INFO -  at 0.5s,\testimator rf's best error=0.8513,\tbest estimator lgbm's best error=0.7438\n",
      "[flaml.automl: 08-07 21:01:24] {3010} INFO - iteration 9, current learner lgbm\n",
      "[flaml.automl: 08-07 21:01:24] {3190} INFO -  at 0.6s,\testimator lgbm's best error=0.6964,\tbest estimator lgbm's best error=0.6964\n",
      "[flaml.automl: 08-07 21:01:24] {3010} INFO - iteration 10, current learner lgbm\n",
      "[flaml.automl: 08-07 21:01:24] {3190} INFO -  at 0.6s,\testimator lgbm's best error=0.6964,\tbest estimator lgbm's best error=0.6964\n",
      "[flaml.automl: 08-07 21:01:24] {3010} INFO - iteration 11, current learner rf\n",
      "[flaml.automl: 08-07 21:01:24] {3190} INFO -  at 0.7s,\testimator rf's best error=0.7550,\tbest estimator lgbm's best error=0.6964\n",
      "[flaml.automl: 08-07 21:01:24] {3010} INFO - iteration 12, current learner rf\n",
      "[flaml.automl: 08-07 21:01:24] {3190} INFO -  at 0.8s,\testimator rf's best error=0.7550,\tbest estimator lgbm's best error=0.6964\n",
      "[flaml.automl: 08-07 21:01:24] {3010} INFO - iteration 13, current learner xgboost\n",
      "[flaml.automl: 08-07 21:01:24] {3190} INFO -  at 0.9s,\testimator xgboost's best error=12.7310,\tbest estimator lgbm's best error=0.6964\n",
      "[flaml.automl: 08-07 21:01:24] {3010} INFO - iteration 14, current learner rf\n",
      "[flaml.automl: 08-07 21:01:24] {3190} INFO -  at 1.0s,\testimator rf's best error=0.6815,\tbest estimator rf's best error=0.6815\n",
      "[flaml.automl: 08-07 21:01:24] {3010} INFO - iteration 15, current learner extra_tree\n",
      "[flaml.automl: 08-07 21:01:24] {3190} INFO -  at 1.1s,\testimator extra_tree's best error=0.8264,\tbest estimator rf's best error=0.6815\n",
      "[flaml.automl: 08-07 21:01:24] {3010} INFO - iteration 16, current learner lgbm\n",
      "[flaml.automl: 08-07 21:01:24] {3190} INFO -  at 1.2s,\testimator lgbm's best error=0.6727,\tbest estimator lgbm's best error=0.6727\n",
      "[flaml.automl: 08-07 21:01:24] {3010} INFO - iteration 17, current learner xgboost\n",
      "[flaml.automl: 08-07 21:01:25] {3190} INFO -  at 1.3s,\testimator xgboost's best error=3.3341,\tbest estimator lgbm's best error=0.6727\n",
      "[flaml.automl: 08-07 21:01:25] {3010} INFO - iteration 18, current learner lgbm\n",
      "[flaml.automl: 08-07 21:01:25] {3190} INFO -  at 1.3s,\testimator lgbm's best error=0.6727,\tbest estimator lgbm's best error=0.6727\n",
      "[flaml.automl: 08-07 21:01:25] {3010} INFO - iteration 19, current learner xgboost\n",
      "[flaml.automl: 08-07 21:01:25] {3190} INFO -  at 1.4s,\testimator xgboost's best error=0.8375,\tbest estimator lgbm's best error=0.6727\n",
      "[flaml.automl: 08-07 21:01:25] {3010} INFO - iteration 20, current learner rf\n",
      "[flaml.automl: 08-07 21:01:25] {3190} INFO -  at 1.6s,\testimator rf's best error=0.5919,\tbest estimator rf's best error=0.5919\n",
      "[flaml.automl: 08-07 21:01:25] {3010} INFO - iteration 21, current learner xgboost\n",
      "[flaml.automl: 08-07 21:01:25] {3190} INFO -  at 1.7s,\testimator xgboost's best error=0.8375,\tbest estimator rf's best error=0.5919\n",
      "[flaml.automl: 08-07 21:01:25] {3010} INFO - iteration 22, current learner rf\n",
      "[flaml.automl: 08-07 21:01:25] {3190} INFO -  at 1.8s,\testimator rf's best error=0.5919,\tbest estimator rf's best error=0.5919\n",
      "[flaml.automl: 08-07 21:01:25] {3010} INFO - iteration 23, current learner rf\n",
      "[flaml.automl: 08-07 21:01:25] {3190} INFO -  at 2.0s,\testimator rf's best error=0.5919,\tbest estimator rf's best error=0.5919\n",
      "[flaml.automl: 08-07 21:01:25] {3010} INFO - iteration 24, current learner xgboost\n",
      "[flaml.automl: 08-07 21:01:25] {3190} INFO -  at 2.0s,\testimator xgboost's best error=0.8375,\tbest estimator rf's best error=0.5919\n",
      "[flaml.automl: 08-07 21:01:25] {3010} INFO - iteration 25, current learner extra_tree\n",
      "[flaml.automl: 08-07 21:01:25] {3190} INFO -  at 2.2s,\testimator extra_tree's best error=0.8264,\tbest estimator rf's best error=0.5919\n",
      "[flaml.automl: 08-07 21:01:25] {3010} INFO - iteration 26, current learner rf\n",
      "[flaml.automl: 08-07 21:01:26] {3190} INFO -  at 2.3s,\testimator rf's best error=0.5919,\tbest estimator rf's best error=0.5919\n",
      "[flaml.automl: 08-07 21:01:26] {3010} INFO - iteration 27, current learner xgboost\n",
      "[flaml.automl: 08-07 21:01:26] {3190} INFO -  at 2.4s,\testimator xgboost's best error=0.7845,\tbest estimator rf's best error=0.5919\n",
      "[flaml.automl: 08-07 21:01:26] {3010} INFO - iteration 28, current learner extra_tree\n",
      "[flaml.automl: 08-07 21:01:26] {3190} INFO -  at 2.5s,\testimator extra_tree's best error=0.7181,\tbest estimator rf's best error=0.5919\n",
      "[flaml.automl: 08-07 21:01:26] {3010} INFO - iteration 29, current learner extra_tree\n",
      "[flaml.automl: 08-07 21:01:26] {3190} INFO -  at 2.7s,\testimator extra_tree's best error=0.6320,\tbest estimator rf's best error=0.5919\n",
      "[flaml.automl: 08-07 21:01:26] {3010} INFO - iteration 30, current learner lgbm\n",
      "[flaml.automl: 08-07 21:01:26] {3190} INFO -  at 2.8s,\testimator lgbm's best error=0.5616,\tbest estimator lgbm's best error=0.5616\n",
      "[flaml.automl: 08-07 21:01:26] {3010} INFO - iteration 31, current learner lgbm\n",
      "[flaml.automl: 08-07 21:01:26] {3190} INFO -  at 2.9s,\testimator lgbm's best error=0.5616,\tbest estimator lgbm's best error=0.5616\n",
      "[flaml.automl: 08-07 21:01:26] {3010} INFO - iteration 32, current learner lgbm\n",
      "[flaml.automl: 08-07 21:01:26] {3190} INFO -  at 3.0s,\testimator lgbm's best error=0.5616,\tbest estimator lgbm's best error=0.5616\n",
      "[flaml.automl: 08-07 21:01:26] {3010} INFO - iteration 33, current learner extra_tree\n",
      "[flaml.automl: 08-07 21:01:26] {3190} INFO -  at 3.2s,\testimator extra_tree's best error=0.6320,\tbest estimator lgbm's best error=0.5616\n",
      "[flaml.automl: 08-07 21:01:26] {3010} INFO - iteration 34, current learner lgbm\n",
      "[flaml.automl: 08-07 21:01:27] {3190} INFO -  at 3.3s,\testimator lgbm's best error=0.5616,\tbest estimator lgbm's best error=0.5616\n",
      "[flaml.automl: 08-07 21:01:27] {3010} INFO - iteration 35, current learner rf\n",
      "[flaml.automl: 08-07 21:01:27] {3190} INFO -  at 3.5s,\testimator rf's best error=0.5769,\tbest estimator lgbm's best error=0.5616\n",
      "[flaml.automl: 08-07 21:01:27] {3010} INFO - iteration 36, current learner extra_tree\n"
     ]
    },
    {
     "name": "stderr",
     "output_type": "stream",
     "text": [
      "[flaml.automl: 08-07 21:01:27] {3190} INFO -  at 3.6s,\testimator extra_tree's best error=0.5926,\tbest estimator lgbm's best error=0.5616\n",
      "[flaml.automl: 08-07 21:01:27] {3010} INFO - iteration 37, current learner rf\n",
      "[flaml.automl: 08-07 21:01:27] {3190} INFO -  at 3.8s,\testimator rf's best error=0.5769,\tbest estimator lgbm's best error=0.5616\n",
      "[flaml.automl: 08-07 21:01:27] {3010} INFO - iteration 38, current learner extra_tree\n",
      "[flaml.automl: 08-07 21:01:27] {3190} INFO -  at 3.9s,\testimator extra_tree's best error=0.5926,\tbest estimator lgbm's best error=0.5616\n",
      "[flaml.automl: 08-07 21:01:27] {3010} INFO - iteration 39, current learner lgbm\n",
      "[flaml.automl: 08-07 21:01:27] {3190} INFO -  at 4.0s,\testimator lgbm's best error=0.5616,\tbest estimator lgbm's best error=0.5616\n",
      "[flaml.automl: 08-07 21:01:27] {3010} INFO - iteration 40, current learner extra_tree\n",
      "[flaml.automl: 08-07 21:01:28] {3190} INFO -  at 4.3s,\testimator extra_tree's best error=0.5663,\tbest estimator lgbm's best error=0.5616\n",
      "[flaml.automl: 08-07 21:01:28] {3010} INFO - iteration 41, current learner extra_tree\n",
      "[flaml.automl: 08-07 21:01:28] {3190} INFO -  at 4.5s,\testimator extra_tree's best error=0.5663,\tbest estimator lgbm's best error=0.5616\n",
      "[flaml.automl: 08-07 21:01:28] {3010} INFO - iteration 42, current learner lgbm\n",
      "[flaml.automl: 08-07 21:01:28] {3190} INFO -  at 4.7s,\testimator lgbm's best error=0.5616,\tbest estimator lgbm's best error=0.5616\n",
      "[flaml.automl: 08-07 21:01:28] {3010} INFO - iteration 43, current learner extra_tree\n",
      "[flaml.automl: 08-07 21:01:28] {3190} INFO -  at 4.8s,\testimator extra_tree's best error=0.5663,\tbest estimator lgbm's best error=0.5616\n",
      "[flaml.automl: 08-07 21:01:28] {3010} INFO - iteration 44, current learner extra_tree\n",
      "[flaml.automl: 08-07 21:01:28] {3190} INFO -  at 5.0s,\testimator extra_tree's best error=0.5510,\tbest estimator extra_tree's best error=0.5510\n",
      "[flaml.automl: 08-07 21:01:28] {3010} INFO - iteration 45, current learner extra_tree\n",
      "[flaml.automl: 08-07 21:01:29] {3190} INFO -  at 5.3s,\testimator extra_tree's best error=0.5510,\tbest estimator extra_tree's best error=0.5510\n",
      "[flaml.automl: 08-07 21:01:29] {3010} INFO - iteration 46, current learner lgbm\n",
      "[flaml.automl: 08-07 21:01:29] {3190} INFO -  at 5.4s,\testimator lgbm's best error=0.5616,\tbest estimator extra_tree's best error=0.5510\n",
      "[flaml.automl: 08-07 21:01:29] {3010} INFO - iteration 47, current learner extra_tree\n",
      "[flaml.automl: 08-07 21:01:29] {3190} INFO -  at 5.9s,\testimator extra_tree's best error=0.5073,\tbest estimator extra_tree's best error=0.5073\n",
      "[flaml.automl: 08-07 21:01:29] {3010} INFO - iteration 48, current learner lgbm\n",
      "[flaml.automl: 08-07 21:01:29] {3190} INFO -  at 6.1s,\testimator lgbm's best error=0.5616,\tbest estimator extra_tree's best error=0.5073\n",
      "[flaml.automl: 08-07 21:01:29] {3010} INFO - iteration 49, current learner xgboost\n",
      "[flaml.automl: 08-07 21:01:29] {3190} INFO -  at 6.2s,\testimator xgboost's best error=0.7456,\tbest estimator extra_tree's best error=0.5073\n",
      "[flaml.automl: 08-07 21:01:29] {3010} INFO - iteration 50, current learner extra_tree\n",
      "[flaml.automl: 08-07 21:01:30] {3190} INFO -  at 6.8s,\testimator extra_tree's best error=0.5073,\tbest estimator extra_tree's best error=0.5073\n",
      "[flaml.automl: 08-07 21:01:30] {3010} INFO - iteration 51, current learner lgbm\n",
      "[flaml.automl: 08-07 21:01:30] {3190} INFO -  at 6.9s,\testimator lgbm's best error=0.5616,\tbest estimator extra_tree's best error=0.5073\n",
      "[flaml.automl: 08-07 21:01:30] {3010} INFO - iteration 52, current learner lgbm\n",
      "[flaml.automl: 08-07 21:01:30] {3190} INFO -  at 7.0s,\testimator lgbm's best error=0.5616,\tbest estimator extra_tree's best error=0.5073\n",
      "[flaml.automl: 08-07 21:01:30] {3010} INFO - iteration 53, current learner lgbm\n",
      "[flaml.automl: 08-07 21:01:31] {3190} INFO -  at 7.3s,\testimator lgbm's best error=0.5616,\tbest estimator extra_tree's best error=0.5073\n",
      "[flaml.automl: 08-07 21:01:31] {3010} INFO - iteration 54, current learner lgbm\n",
      "[flaml.automl: 08-07 21:01:31] {3190} INFO -  at 7.4s,\testimator lgbm's best error=0.5616,\tbest estimator extra_tree's best error=0.5073\n",
      "[flaml.automl: 08-07 21:01:31] {3010} INFO - iteration 55, current learner extra_tree\n",
      "[flaml.automl: 08-07 21:01:32] {3190} INFO -  at 8.4s,\testimator extra_tree's best error=0.5028,\tbest estimator extra_tree's best error=0.5028\n",
      "[flaml.automl: 08-07 21:01:32] {3010} INFO - iteration 56, current learner lgbm\n",
      "[flaml.automl: 08-07 21:01:32] {3190} INFO -  at 8.5s,\testimator lgbm's best error=0.5616,\tbest estimator extra_tree's best error=0.5028\n",
      "[flaml.automl: 08-07 21:01:32] {3010} INFO - iteration 57, current learner rf\n",
      "[flaml.automl: 08-07 21:01:32] {3190} INFO -  at 8.8s,\testimator rf's best error=0.5769,\tbest estimator extra_tree's best error=0.5028\n",
      "[flaml.automl: 08-07 21:01:32] {3010} INFO - iteration 58, current learner xgboost\n",
      "[flaml.automl: 08-07 21:01:32] {3190} INFO -  at 8.9s,\testimator xgboost's best error=0.7439,\tbest estimator extra_tree's best error=0.5028\n",
      "[flaml.automl: 08-07 21:01:32] {3010} INFO - iteration 59, current learner lgbm\n",
      "[flaml.automl: 08-07 21:01:32] {3190} INFO -  at 9.1s,\testimator lgbm's best error=0.5616,\tbest estimator extra_tree's best error=0.5028\n",
      "[flaml.automl: 08-07 21:01:32] {3010} INFO - iteration 60, current learner extra_tree\n",
      "[flaml.automl: 08-07 21:01:33] {3190} INFO -  at 9.7s,\testimator extra_tree's best error=0.5028,\tbest estimator extra_tree's best error=0.5028\n",
      "[flaml.automl: 08-07 21:01:33] {3010} INFO - iteration 61, current learner lgbm\n",
      "[flaml.automl: 08-07 21:01:33] {3190} INFO -  at 9.9s,\testimator lgbm's best error=0.5557,\tbest estimator extra_tree's best error=0.5028\n",
      "[flaml.automl: 08-07 21:01:33] {3010} INFO - iteration 62, current learner extra_tree\n",
      "[flaml.automl: 08-07 21:01:35] {3190} INFO -  at 12.2s,\testimator extra_tree's best error=0.4940,\tbest estimator extra_tree's best error=0.4940\n",
      "[flaml.automl: 08-07 21:01:35] {3010} INFO - iteration 63, current learner xgb_limitdepth\n",
      "[flaml.automl: 08-07 21:01:36] {3190} INFO -  at 12.3s,\testimator xgb_limitdepth's best error=0.5993,\tbest estimator extra_tree's best error=0.4940\n",
      "[flaml.automl: 08-07 21:01:36] {3010} INFO - iteration 64, current learner xgb_limitdepth\n",
      "[flaml.automl: 08-07 21:01:36] {3190} INFO -  at 12.4s,\testimator xgb_limitdepth's best error=0.5993,\tbest estimator extra_tree's best error=0.4940\n",
      "[flaml.automl: 08-07 21:01:36] {3010} INFO - iteration 65, current learner xgb_limitdepth\n",
      "[flaml.automl: 08-07 21:01:36] {3190} INFO -  at 12.6s,\testimator xgb_limitdepth's best error=0.5993,\tbest estimator extra_tree's best error=0.4940\n",
      "[flaml.automl: 08-07 21:01:36] {3010} INFO - iteration 66, current learner xgb_limitdepth\n",
      "[flaml.automl: 08-07 21:01:36] {3190} INFO -  at 12.7s,\testimator xgb_limitdepth's best error=0.5993,\tbest estimator extra_tree's best error=0.4940\n",
      "[flaml.automl: 08-07 21:01:36] {3010} INFO - iteration 67, current learner xgb_limitdepth\n",
      "[flaml.automl: 08-07 21:01:36] {3190} INFO -  at 12.9s,\testimator xgb_limitdepth's best error=0.5993,\tbest estimator extra_tree's best error=0.4940\n",
      "[flaml.automl: 08-07 21:01:36] {3010} INFO - iteration 68, current learner xgb_limitdepth\n",
      "[flaml.automl: 08-07 21:01:36] {3190} INFO -  at 13.0s,\testimator xgb_limitdepth's best error=0.5993,\tbest estimator extra_tree's best error=0.4940\n",
      "[flaml.automl: 08-07 21:01:36] {3010} INFO - iteration 69, current learner rf\n",
      "[flaml.automl: 08-07 21:01:37] {3190} INFO -  at 13.5s,\testimator rf's best error=0.5665,\tbest estimator extra_tree's best error=0.4940\n",
      "[flaml.automl: 08-07 21:01:37] {3010} INFO - iteration 70, current learner xgb_limitdepth\n",
      "[flaml.automl: 08-07 21:01:37] {3190} INFO -  at 13.7s,\testimator xgb_limitdepth's best error=0.5556,\tbest estimator extra_tree's best error=0.4940\n",
      "[flaml.automl: 08-07 21:01:37] {3010} INFO - iteration 71, current learner xgb_limitdepth\n",
      "[flaml.automl: 08-07 21:01:37] {3190} INFO -  at 13.9s,\testimator xgb_limitdepth's best error=0.5556,\tbest estimator extra_tree's best error=0.4940\n",
      "[flaml.automl: 08-07 21:01:37] {3010} INFO - iteration 72, current learner extra_tree\n",
      "[flaml.automl: 08-07 21:01:40] {3190} INFO -  at 17.2s,\testimator extra_tree's best error=0.4940,\tbest estimator extra_tree's best error=0.4940\n"
     ]
    },
    {
     "name": "stderr",
     "output_type": "stream",
     "text": [
      "[flaml.automl: 08-07 21:01:40] {3010} INFO - iteration 73, current learner xgb_limitdepth\n",
      "[flaml.automl: 08-07 21:01:41] {3190} INFO -  at 17.3s,\testimator xgb_limitdepth's best error=0.5556,\tbest estimator extra_tree's best error=0.4940\n",
      "[flaml.automl: 08-07 21:01:41] {3010} INFO - iteration 74, current learner extra_tree\n",
      "[flaml.automl: 08-07 21:01:41] {3190} INFO -  at 18.0s,\testimator extra_tree's best error=0.4940,\tbest estimator extra_tree's best error=0.4940\n",
      "[flaml.automl: 08-07 21:01:41] {3010} INFO - iteration 75, current learner xgb_limitdepth\n",
      "[flaml.automl: 08-07 21:01:41] {3190} INFO -  at 18.1s,\testimator xgb_limitdepth's best error=0.5377,\tbest estimator extra_tree's best error=0.4940\n",
      "[flaml.automl: 08-07 21:01:41] {3010} INFO - iteration 76, current learner xgboost\n",
      "[flaml.automl: 08-07 21:01:41] {3190} INFO -  at 18.2s,\testimator xgboost's best error=0.6104,\tbest estimator extra_tree's best error=0.4940\n",
      "[flaml.automl: 08-07 21:01:41] {3010} INFO - iteration 77, current learner xgboost\n",
      "[flaml.automl: 08-07 21:01:42] {3190} INFO -  at 18.3s,\testimator xgboost's best error=0.6104,\tbest estimator extra_tree's best error=0.4940\n",
      "[flaml.automl: 08-07 21:01:42] {3010} INFO - iteration 78, current learner xgboost\n",
      "[flaml.automl: 08-07 21:01:42] {3190} INFO -  at 18.4s,\testimator xgboost's best error=0.6104,\tbest estimator extra_tree's best error=0.4940\n",
      "[flaml.automl: 08-07 21:01:42] {3010} INFO - iteration 79, current learner xgboost\n",
      "[flaml.automl: 08-07 21:01:42] {3190} INFO -  at 18.5s,\testimator xgboost's best error=0.6104,\tbest estimator extra_tree's best error=0.4940\n",
      "[flaml.automl: 08-07 21:01:42] {3010} INFO - iteration 80, current learner xgboost\n",
      "[flaml.automl: 08-07 21:01:42] {3190} INFO -  at 18.5s,\testimator xgboost's best error=0.6104,\tbest estimator extra_tree's best error=0.4940\n",
      "[flaml.automl: 08-07 21:01:42] {3010} INFO - iteration 81, current learner xgb_limitdepth\n",
      "[flaml.automl: 08-07 21:01:42] {3190} INFO -  at 18.7s,\testimator xgb_limitdepth's best error=0.5377,\tbest estimator extra_tree's best error=0.4940\n",
      "[flaml.automl: 08-07 21:01:42] {3010} INFO - iteration 82, current learner xgboost\n",
      "[flaml.automl: 08-07 21:01:42] {3190} INFO -  at 18.8s,\testimator xgboost's best error=0.6104,\tbest estimator extra_tree's best error=0.4940\n",
      "[flaml.automl: 08-07 21:01:42] {3010} INFO - iteration 83, current learner extra_tree\n",
      "[flaml.automl: 08-07 21:01:45] {3190} INFO -  at 21.2s,\testimator extra_tree's best error=0.4940,\tbest estimator extra_tree's best error=0.4940\n",
      "[flaml.automl: 08-07 21:01:45] {3010} INFO - iteration 84, current learner xgboost\n",
      "[flaml.automl: 08-07 21:01:45] {3190} INFO -  at 21.3s,\testimator xgboost's best error=0.6104,\tbest estimator extra_tree's best error=0.4940\n",
      "[flaml.automl: 08-07 21:01:45] {3010} INFO - iteration 85, current learner xgb_limitdepth\n",
      "[flaml.automl: 08-07 21:01:45] {3190} INFO -  at 21.5s,\testimator xgb_limitdepth's best error=0.5377,\tbest estimator extra_tree's best error=0.4940\n",
      "[flaml.automl: 08-07 21:01:45] {3010} INFO - iteration 86, current learner xgboost\n",
      "[flaml.automl: 08-07 21:01:45] {3190} INFO -  at 21.5s,\testimator xgboost's best error=0.6104,\tbest estimator extra_tree's best error=0.4940\n",
      "[flaml.automl: 08-07 21:01:45] {3010} INFO - iteration 87, current learner extra_tree\n",
      "[flaml.automl: 08-07 21:01:46] {3190} INFO -  at 22.4s,\testimator extra_tree's best error=0.4940,\tbest estimator extra_tree's best error=0.4940\n",
      "[flaml.automl: 08-07 21:01:46] {3010} INFO - iteration 88, current learner xgboost\n",
      "[flaml.automl: 08-07 21:01:46] {3190} INFO -  at 22.4s,\testimator xgboost's best error=0.6104,\tbest estimator extra_tree's best error=0.4940\n",
      "[flaml.automl: 08-07 21:01:46] {3010} INFO - iteration 89, current learner xgboost\n",
      "[flaml.automl: 08-07 21:01:46] {3190} INFO -  at 22.5s,\testimator xgboost's best error=0.6104,\tbest estimator extra_tree's best error=0.4940\n",
      "[flaml.automl: 08-07 21:01:46] {3010} INFO - iteration 90, current learner xgb_limitdepth\n",
      "[flaml.automl: 08-07 21:01:46] {3190} INFO -  at 22.7s,\testimator xgb_limitdepth's best error=0.5377,\tbest estimator extra_tree's best error=0.4940\n",
      "[flaml.automl: 08-07 21:01:46] {3010} INFO - iteration 91, current learner xgboost\n",
      "[flaml.automl: 08-07 21:01:46] {3190} INFO -  at 22.8s,\testimator xgboost's best error=0.6104,\tbest estimator extra_tree's best error=0.4940\n",
      "[flaml.automl: 08-07 21:01:46] {3010} INFO - iteration 92, current learner xgb_limitdepth\n",
      "[flaml.automl: 08-07 21:01:46] {3190} INFO -  at 22.9s,\testimator xgb_limitdepth's best error=0.5377,\tbest estimator extra_tree's best error=0.4940\n",
      "[flaml.automl: 08-07 21:01:46] {3010} INFO - iteration 93, current learner xgboost\n",
      "[flaml.automl: 08-07 21:01:46] {3190} INFO -  at 23.0s,\testimator xgboost's best error=0.5689,\tbest estimator extra_tree's best error=0.4940\n",
      "[flaml.automl: 08-07 21:01:46] {3010} INFO - iteration 94, current learner extra_tree\n",
      "[flaml.automl: 08-07 21:01:47] {3190} INFO -  at 23.7s,\testimator extra_tree's best error=0.4940,\tbest estimator extra_tree's best error=0.4940\n",
      "[flaml.automl: 08-07 21:01:47] {3010} INFO - iteration 95, current learner rf\n",
      "[flaml.automl: 08-07 21:01:47] {3190} INFO -  at 23.9s,\testimator rf's best error=0.5665,\tbest estimator extra_tree's best error=0.4940\n",
      "[flaml.automl: 08-07 21:01:47] {3010} INFO - iteration 96, current learner xgb_limitdepth\n",
      "[flaml.automl: 08-07 21:01:47] {3190} INFO -  at 24.2s,\testimator xgb_limitdepth's best error=0.5377,\tbest estimator extra_tree's best error=0.4940\n",
      "[flaml.automl: 08-07 21:01:47] {3010} INFO - iteration 97, current learner xgboost\n",
      "[flaml.automl: 08-07 21:01:48] {3190} INFO -  at 24.3s,\testimator xgboost's best error=0.5689,\tbest estimator extra_tree's best error=0.4940\n",
      "[flaml.automl: 08-07 21:01:48] {3010} INFO - iteration 98, current learner extra_tree\n",
      "[flaml.automl: 08-07 21:01:50] {3190} INFO -  at 27.1s,\testimator extra_tree's best error=0.4940,\tbest estimator extra_tree's best error=0.4940\n",
      "[flaml.automl: 08-07 21:01:50] {3010} INFO - iteration 99, current learner xgboost\n",
      "[flaml.automl: 08-07 21:01:50] {3190} INFO -  at 27.2s,\testimator xgboost's best error=0.5689,\tbest estimator extra_tree's best error=0.4940\n",
      "[flaml.automl: 08-07 21:01:50] {3010} INFO - iteration 100, current learner xgboost\n",
      "[flaml.automl: 08-07 21:01:51] {3190} INFO -  at 27.3s,\testimator xgboost's best error=0.5689,\tbest estimator extra_tree's best error=0.4940\n",
      "[flaml.automl: 08-07 21:01:51] {3010} INFO - iteration 101, current learner xgb_limitdepth\n",
      "[flaml.automl: 08-07 21:01:51] {3190} INFO -  at 27.4s,\testimator xgb_limitdepth's best error=0.5377,\tbest estimator extra_tree's best error=0.4940\n",
      "[flaml.automl: 08-07 21:01:51] {3010} INFO - iteration 102, current learner extra_tree\n",
      "[flaml.automl: 08-07 21:01:52] {3190} INFO -  at 28.8s,\testimator extra_tree's best error=0.4940,\tbest estimator extra_tree's best error=0.4940\n",
      "[flaml.automl: 08-07 21:01:52] {3010} INFO - iteration 103, current learner lgbm\n",
      "[flaml.automl: 08-07 21:01:52] {3190} INFO -  at 29.1s,\testimator lgbm's best error=0.5557,\tbest estimator extra_tree's best error=0.4940\n",
      "[flaml.automl: 08-07 21:01:52] {3010} INFO - iteration 104, current learner extra_tree\n",
      "[flaml.automl: 08-07 21:01:54] {3190} INFO -  at 30.5s,\testimator extra_tree's best error=0.4940,\tbest estimator extra_tree's best error=0.4940\n",
      "[flaml.automl: 08-07 21:01:54] {3010} INFO - iteration 105, current learner xgboost\n",
      "[flaml.automl: 08-07 21:01:54] {3190} INFO -  at 30.6s,\testimator xgboost's best error=0.5689,\tbest estimator extra_tree's best error=0.4940\n",
      "[flaml.automl: 08-07 21:01:54] {3010} INFO - iteration 106, current learner xgboost\n",
      "[flaml.automl: 08-07 21:01:54] {3190} INFO -  at 30.7s,\testimator xgboost's best error=0.5689,\tbest estimator extra_tree's best error=0.4940\n",
      "[flaml.automl: 08-07 21:01:54] {3010} INFO - iteration 107, current learner xgb_limitdepth\n",
      "[flaml.automl: 08-07 21:01:54] {3190} INFO -  at 30.9s,\testimator xgb_limitdepth's best error=0.5377,\tbest estimator extra_tree's best error=0.4940\n",
      "[flaml.automl: 08-07 21:01:54] {3010} INFO - iteration 108, current learner xgboost\n",
      "[flaml.automl: 08-07 21:01:54] {3190} INFO -  at 31.1s,\testimator xgboost's best error=0.5689,\tbest estimator extra_tree's best error=0.4940\n"
     ]
    },
    {
     "name": "stderr",
     "output_type": "stream",
     "text": [
      "[flaml.automl: 08-07 21:01:54] {3010} INFO - iteration 109, current learner xgb_limitdepth\n",
      "[flaml.automl: 08-07 21:01:55] {3190} INFO -  at 31.2s,\testimator xgb_limitdepth's best error=0.5377,\tbest estimator extra_tree's best error=0.4940\n",
      "[flaml.automl: 08-07 21:01:55] {3010} INFO - iteration 110, current learner extra_tree\n",
      "[flaml.automl: 08-07 21:01:57] {3190} INFO -  at 33.3s,\testimator extra_tree's best error=0.4937,\tbest estimator extra_tree's best error=0.4937\n",
      "[flaml.automl: 08-07 21:01:57] {3010} INFO - iteration 111, current learner lgbm\n",
      "[flaml.automl: 08-07 21:01:57] {3190} INFO -  at 33.4s,\testimator lgbm's best error=0.5557,\tbest estimator extra_tree's best error=0.4937\n",
      "[flaml.automl: 08-07 21:01:57] {3010} INFO - iteration 112, current learner xgb_limitdepth\n",
      "[flaml.automl: 08-07 21:01:57] {3190} INFO -  at 33.6s,\testimator xgb_limitdepth's best error=0.5243,\tbest estimator extra_tree's best error=0.4937\n",
      "[flaml.automl: 08-07 21:01:57] {3010} INFO - iteration 113, current learner xgb_limitdepth\n",
      "[flaml.automl: 08-07 21:01:57] {3190} INFO -  at 33.7s,\testimator xgb_limitdepth's best error=0.5243,\tbest estimator extra_tree's best error=0.4937\n",
      "[flaml.automl: 08-07 21:01:57] {3010} INFO - iteration 114, current learner xgb_limitdepth\n",
      "[flaml.automl: 08-07 21:01:57] {3190} INFO -  at 34.1s,\testimator xgb_limitdepth's best error=0.5030,\tbest estimator extra_tree's best error=0.4937\n",
      "[flaml.automl: 08-07 21:01:57] {3010} INFO - iteration 115, current learner xgb_limitdepth\n",
      "[flaml.automl: 08-07 21:01:58] {3190} INFO -  at 34.3s,\testimator xgb_limitdepth's best error=0.5030,\tbest estimator extra_tree's best error=0.4937\n",
      "[flaml.automl: 08-07 21:01:58] {3010} INFO - iteration 116, current learner extra_tree\n",
      "[flaml.automl: 08-07 21:01:59] {3190} INFO -  at 35.7s,\testimator extra_tree's best error=0.4937,\tbest estimator extra_tree's best error=0.4937\n",
      "[flaml.automl: 08-07 21:01:59] {3010} INFO - iteration 117, current learner xgb_limitdepth\n",
      "[flaml.automl: 08-07 21:01:59] {3190} INFO -  at 36.0s,\testimator xgb_limitdepth's best error=0.5030,\tbest estimator extra_tree's best error=0.4937\n",
      "[flaml.automl: 08-07 21:01:59] {3010} INFO - iteration 118, current learner xgb_limitdepth\n",
      "[flaml.automl: 08-07 21:01:59] {3190} INFO -  at 36.1s,\testimator xgb_limitdepth's best error=0.5030,\tbest estimator extra_tree's best error=0.4937\n",
      "[flaml.automl: 08-07 21:01:59] {3010} INFO - iteration 119, current learner xgboost\n",
      "[flaml.automl: 08-07 21:02:00] {3190} INFO -  at 36.2s,\testimator xgboost's best error=0.5689,\tbest estimator extra_tree's best error=0.4937\n",
      "[flaml.automl: 08-07 21:02:00] {3010} INFO - iteration 120, current learner xgb_limitdepth\n",
      "[flaml.automl: 08-07 21:02:00] {3190} INFO -  at 36.8s,\testimator xgb_limitdepth's best error=0.5006,\tbest estimator extra_tree's best error=0.4937\n",
      "[flaml.automl: 08-07 21:02:00] {3010} INFO - iteration 121, current learner xgb_limitdepth\n",
      "[flaml.automl: 08-07 21:02:00] {3190} INFO -  at 37.0s,\testimator xgb_limitdepth's best error=0.5006,\tbest estimator extra_tree's best error=0.4937\n",
      "[flaml.automl: 08-07 21:02:00] {3010} INFO - iteration 122, current learner xgb_limitdepth\n",
      "[flaml.automl: 08-07 21:02:01] {3190} INFO -  at 38.0s,\testimator xgb_limitdepth's best error=0.5006,\tbest estimator extra_tree's best error=0.4937\n",
      "[flaml.automl: 08-07 21:02:01] {3010} INFO - iteration 123, current learner extra_tree\n",
      "[flaml.automl: 08-07 21:02:03] {3190} INFO -  at 39.7s,\testimator extra_tree's best error=0.4937,\tbest estimator extra_tree's best error=0.4937\n",
      "[flaml.automl: 08-07 21:02:03] {3010} INFO - iteration 124, current learner rf\n",
      "[flaml.automl: 08-07 21:02:03] {3190} INFO -  at 40.2s,\testimator rf's best error=0.5392,\tbest estimator extra_tree's best error=0.4937\n",
      "[flaml.automl: 08-07 21:02:03] {3010} INFO - iteration 125, current learner lgbm\n",
      "[flaml.automl: 08-07 21:02:04] {3190} INFO -  at 40.5s,\testimator lgbm's best error=0.5557,\tbest estimator extra_tree's best error=0.4937\n",
      "[flaml.automl: 08-07 21:02:04] {3010} INFO - iteration 126, current learner lgbm\n",
      "[flaml.automl: 08-07 21:02:04] {3190} INFO -  at 40.6s,\testimator lgbm's best error=0.5557,\tbest estimator extra_tree's best error=0.4937\n",
      "[flaml.automl: 08-07 21:02:04] {3010} INFO - iteration 127, current learner rf\n",
      "[flaml.automl: 08-07 21:02:04] {3190} INFO -  at 41.0s,\testimator rf's best error=0.5392,\tbest estimator extra_tree's best error=0.4937\n",
      "[flaml.automl: 08-07 21:02:04] {3010} INFO - iteration 128, current learner rf\n",
      "[flaml.automl: 08-07 21:02:05] {3190} INFO -  at 41.8s,\testimator rf's best error=0.5176,\tbest estimator extra_tree's best error=0.4937\n",
      "[flaml.automl: 08-07 21:02:05] {3010} INFO - iteration 129, current learner extra_tree\n",
      "[flaml.automl: 08-07 21:02:07] {3190} INFO -  at 44.2s,\testimator extra_tree's best error=0.4937,\tbest estimator extra_tree's best error=0.4937\n",
      "[flaml.automl: 08-07 21:02:07] {3010} INFO - iteration 130, current learner rf\n",
      "[flaml.automl: 08-07 21:02:08] {3190} INFO -  at 44.7s,\testimator rf's best error=0.5176,\tbest estimator extra_tree's best error=0.4937\n",
      "[flaml.automl: 08-07 21:02:08] {3010} INFO - iteration 131, current learner xgboost\n",
      "[flaml.automl: 08-07 21:02:08] {3190} INFO -  at 44.9s,\testimator xgboost's best error=0.5689,\tbest estimator extra_tree's best error=0.4937\n",
      "[flaml.automl: 08-07 21:02:08] {3010} INFO - iteration 132, current learner extra_tree\n",
      "[flaml.automl: 08-07 21:02:09] {3190} INFO -  at 46.1s,\testimator extra_tree's best error=0.4937,\tbest estimator extra_tree's best error=0.4937\n",
      "[flaml.automl: 08-07 21:02:09] {3010} INFO - iteration 133, current learner rf\n",
      "[flaml.automl: 08-07 21:02:11] {3190} INFO -  at 48.1s,\testimator rf's best error=0.5118,\tbest estimator extra_tree's best error=0.4937\n",
      "[flaml.automl: 08-07 21:02:11] {3010} INFO - iteration 134, current learner xgboost\n",
      "[flaml.automl: 08-07 21:02:11] {3190} INFO -  at 48.1s,\testimator xgboost's best error=0.5689,\tbest estimator extra_tree's best error=0.4937\n",
      "[flaml.automl: 08-07 21:02:11] {3010} INFO - iteration 135, current learner xgboost\n",
      "[flaml.automl: 08-07 21:02:12] {3190} INFO -  at 48.4s,\testimator xgboost's best error=0.5397,\tbest estimator extra_tree's best error=0.4937\n",
      "[flaml.automl: 08-07 21:02:12] {3010} INFO - iteration 136, current learner xgb_limitdepth\n",
      "[flaml.automl: 08-07 21:02:12] {3190} INFO -  at 48.9s,\testimator xgb_limitdepth's best error=0.4962,\tbest estimator extra_tree's best error=0.4937\n",
      "[flaml.automl: 08-07 21:02:12] {3010} INFO - iteration 137, current learner xgb_limitdepth\n",
      "[flaml.automl: 08-07 21:02:13] {3190} INFO -  at 49.4s,\testimator xgb_limitdepth's best error=0.4962,\tbest estimator extra_tree's best error=0.4937\n",
      "[flaml.automl: 08-07 21:02:13] {3010} INFO - iteration 138, current learner lgbm\n",
      "[flaml.automl: 08-07 21:02:13] {3190} INFO -  at 49.5s,\testimator lgbm's best error=0.5557,\tbest estimator extra_tree's best error=0.4937\n",
      "[flaml.automl: 08-07 21:02:13] {3010} INFO - iteration 139, current learner xgb_limitdepth\n",
      "[flaml.automl: 08-07 21:02:13] {3190} INFO -  at 49.7s,\testimator xgb_limitdepth's best error=0.4962,\tbest estimator extra_tree's best error=0.4937\n",
      "[flaml.automl: 08-07 21:02:13] {3010} INFO - iteration 140, current learner xgboost\n",
      "[flaml.automl: 08-07 21:02:13] {3190} INFO -  at 49.9s,\testimator xgboost's best error=0.5397,\tbest estimator extra_tree's best error=0.4937\n",
      "[flaml.automl: 08-07 21:02:13] {3010} INFO - iteration 141, current learner xgb_limitdepth\n",
      "[flaml.automl: 08-07 21:02:14] {3190} INFO -  at 51.1s,\testimator xgb_limitdepth's best error=0.4954,\tbest estimator extra_tree's best error=0.4937\n",
      "[flaml.automl: 08-07 21:02:14] {3010} INFO - iteration 142, current learner xgboost\n",
      "[flaml.automl: 08-07 21:02:15] {3190} INFO -  at 51.3s,\testimator xgboost's best error=0.5397,\tbest estimator extra_tree's best error=0.4937\n",
      "[flaml.automl: 08-07 21:02:15] {3010} INFO - iteration 143, current learner xgb_limitdepth\n",
      "[flaml.automl: 08-07 21:02:16] {3190} INFO -  at 52.3s,\testimator xgb_limitdepth's best error=0.4954,\tbest estimator extra_tree's best error=0.4937\n",
      "[flaml.automl: 08-07 21:02:16] {3010} INFO - iteration 144, current learner extra_tree\n",
      "[flaml.automl: 08-07 21:02:18] {3190} INFO -  at 55.2s,\testimator extra_tree's best error=0.4937,\tbest estimator extra_tree's best error=0.4937\n"
     ]
    },
    {
     "name": "stderr",
     "output_type": "stream",
     "text": [
      "[flaml.automl: 08-07 21:02:18] {3010} INFO - iteration 145, current learner xgboost\n",
      "[flaml.automl: 08-07 21:02:19] {3190} INFO -  at 55.4s,\testimator xgboost's best error=0.5397,\tbest estimator extra_tree's best error=0.4937\n",
      "[flaml.automl: 08-07 21:02:19] {3010} INFO - iteration 146, current learner rf\n",
      "[flaml.automl: 08-07 21:02:23] {3190} INFO -  at 59.3s,\testimator rf's best error=0.5063,\tbest estimator extra_tree's best error=0.4937\n",
      "[flaml.automl: 08-07 21:02:23] {3010} INFO - iteration 147, current learner rf\n",
      "[flaml.automl: 08-07 21:02:25] {3190} INFO -  at 61.3s,\testimator rf's best error=0.5063,\tbest estimator extra_tree's best error=0.4937\n",
      "[flaml.automl: 08-07 21:02:25] {3010} INFO - iteration 148, current learner rf\n",
      "[flaml.automl: 08-07 21:02:32] {3190} INFO -  at 68.6s,\testimator rf's best error=0.5063,\tbest estimator extra_tree's best error=0.4937\n",
      "[flaml.automl: 08-07 21:02:32] {3010} INFO - iteration 149, current learner lgbm\n",
      "[flaml.automl: 08-07 21:02:32] {3190} INFO -  at 68.9s,\testimator lgbm's best error=0.5557,\tbest estimator extra_tree's best error=0.4937\n",
      "[flaml.automl: 08-07 21:02:32] {3010} INFO - iteration 150, current learner xgboost\n",
      "[flaml.automl: 08-07 21:02:32] {3190} INFO -  at 69.2s,\testimator xgboost's best error=0.5397,\tbest estimator extra_tree's best error=0.4937\n",
      "[flaml.automl: 08-07 21:02:32] {3010} INFO - iteration 151, current learner xgboost\n",
      "[flaml.automl: 08-07 21:02:33] {3190} INFO -  at 70.2s,\testimator xgboost's best error=0.5397,\tbest estimator extra_tree's best error=0.4937\n",
      "[flaml.automl: 08-07 21:02:33] {3010} INFO - iteration 152, current learner xgb_limitdepth\n",
      "[flaml.automl: 08-07 21:02:35] {3190} INFO -  at 71.7s,\testimator xgb_limitdepth's best error=0.4643,\tbest estimator xgb_limitdepth's best error=0.4643\n",
      "[flaml.automl: 08-07 21:02:35] {3010} INFO - iteration 153, current learner xgb_limitdepth\n",
      "[flaml.automl: 08-07 21:02:37] {3190} INFO -  at 73.6s,\testimator xgb_limitdepth's best error=0.4643,\tbest estimator xgb_limitdepth's best error=0.4643\n",
      "[flaml.automl: 08-07 21:02:37] {3010} INFO - iteration 154, current learner lgbm\n",
      "[flaml.automl: 08-07 21:02:37] {3190} INFO -  at 73.8s,\testimator lgbm's best error=0.5557,\tbest estimator xgb_limitdepth's best error=0.4643\n",
      "[flaml.automl: 08-07 21:02:37] {3010} INFO - iteration 155, current learner xgboost\n",
      "[flaml.automl: 08-07 21:02:37] {3190} INFO -  at 73.9s,\testimator xgboost's best error=0.5397,\tbest estimator xgb_limitdepth's best error=0.4643\n",
      "[flaml.automl: 08-07 21:02:37] {3010} INFO - iteration 156, current learner xgb_limitdepth\n",
      "[flaml.automl: 08-07 21:02:38] {3190} INFO -  at 75.0s,\testimator xgb_limitdepth's best error=0.4643,\tbest estimator xgb_limitdepth's best error=0.4643\n",
      "[flaml.automl: 08-07 21:02:38] {3010} INFO - iteration 157, current learner xgb_limitdepth\n",
      "[flaml.automl: 08-07 21:02:43] {3190} INFO -  at 79.8s,\testimator xgb_limitdepth's best error=0.4643,\tbest estimator xgb_limitdepth's best error=0.4643\n",
      "[flaml.automl: 08-07 21:02:43] {3010} INFO - iteration 158, current learner xgboost\n",
      "[flaml.automl: 08-07 21:02:43] {3190} INFO -  at 80.1s,\testimator xgboost's best error=0.5397,\tbest estimator xgb_limitdepth's best error=0.4643\n",
      "[flaml.automl: 08-07 21:02:43] {3010} INFO - iteration 159, current learner xgboost\n",
      "[flaml.automl: 08-07 21:02:44] {3190} INFO -  at 80.4s,\testimator xgboost's best error=0.5397,\tbest estimator xgb_limitdepth's best error=0.4643\n",
      "[flaml.automl: 08-07 21:02:44] {3010} INFO - iteration 160, current learner xgb_limitdepth\n",
      "[flaml.automl: 08-07 21:02:44] {3190} INFO -  at 80.9s,\testimator xgb_limitdepth's best error=0.4643,\tbest estimator xgb_limitdepth's best error=0.4643\n",
      "[flaml.automl: 08-07 21:02:44] {3010} INFO - iteration 161, current learner xgboost\n",
      "[flaml.automl: 08-07 21:02:45] {3190} INFO -  at 81.3s,\testimator xgboost's best error=0.5397,\tbest estimator xgb_limitdepth's best error=0.4643\n",
      "[flaml.automl: 08-07 21:02:45] {3010} INFO - iteration 162, current learner xgb_limitdepth\n",
      "[flaml.automl: 08-07 21:02:46] {3190} INFO -  at 82.4s,\testimator xgb_limitdepth's best error=0.4643,\tbest estimator xgb_limitdepth's best error=0.4643\n",
      "[flaml.automl: 08-07 21:02:46] {3010} INFO - iteration 163, current learner xgb_limitdepth\n",
      "[flaml.automl: 08-07 21:02:48] {3190} INFO -  at 84.3s,\testimator xgb_limitdepth's best error=0.4643,\tbest estimator xgb_limitdepth's best error=0.4643\n",
      "[flaml.automl: 08-07 21:02:48] {3010} INFO - iteration 164, current learner xgb_limitdepth\n",
      "[flaml.automl: 08-07 21:02:50] {3190} INFO -  at 86.3s,\testimator xgb_limitdepth's best error=0.4643,\tbest estimator xgb_limitdepth's best error=0.4643\n",
      "[flaml.automl: 08-07 21:02:50] {3010} INFO - iteration 165, current learner xgboost\n",
      "[flaml.automl: 08-07 21:02:50] {3190} INFO -  at 86.5s,\testimator xgboost's best error=0.5397,\tbest estimator xgb_limitdepth's best error=0.4643\n",
      "[flaml.automl: 08-07 21:02:50] {3010} INFO - iteration 166, current learner xgb_limitdepth\n",
      "[flaml.automl: 08-07 21:02:51] {3190} INFO -  at 87.8s,\testimator xgb_limitdepth's best error=0.4643,\tbest estimator xgb_limitdepth's best error=0.4643\n",
      "[flaml.automl: 08-07 21:02:51] {3010} INFO - iteration 167, current learner xgb_limitdepth\n",
      "[flaml.automl: 08-07 21:02:52] {3190} INFO -  at 88.7s,\testimator xgb_limitdepth's best error=0.4643,\tbest estimator xgb_limitdepth's best error=0.4643\n",
      "[flaml.automl: 08-07 21:02:52] {3010} INFO - iteration 168, current learner xgb_limitdepth\n",
      "[flaml.automl: 08-07 21:02:55] {3190} INFO -  at 91.6s,\testimator xgb_limitdepth's best error=0.4635,\tbest estimator xgb_limitdepth's best error=0.4635\n",
      "[flaml.automl: 08-07 21:02:55] {3010} INFO - iteration 169, current learner xgboost\n",
      "[flaml.automl: 08-07 21:02:55] {3190} INFO -  at 91.8s,\testimator xgboost's best error=0.5397,\tbest estimator xgb_limitdepth's best error=0.4635\n",
      "[flaml.automl: 08-07 21:02:55] {3010} INFO - iteration 170, current learner lgbm\n",
      "[flaml.automl: 08-07 21:02:55] {3190} INFO -  at 92.0s,\testimator lgbm's best error=0.5557,\tbest estimator xgb_limitdepth's best error=0.4635\n",
      "[flaml.automl: 08-07 21:02:55] {3010} INFO - iteration 171, current learner lgbm\n",
      "[flaml.automl: 08-07 21:02:55] {3190} INFO -  at 92.1s,\testimator lgbm's best error=0.5557,\tbest estimator xgb_limitdepth's best error=0.4635\n",
      "[flaml.automl: 08-07 21:02:55] {3010} INFO - iteration 172, current learner xgboost\n",
      "[flaml.automl: 08-07 21:02:56] {3190} INFO -  at 92.5s,\testimator xgboost's best error=0.5397,\tbest estimator xgb_limitdepth's best error=0.4635\n",
      "[flaml.automl: 08-07 21:02:56] {3010} INFO - iteration 173, current learner xgb_limitdepth\n",
      "[flaml.automl: 08-07 21:02:58] {3190} INFO -  at 95.0s,\testimator xgb_limitdepth's best error=0.4635,\tbest estimator xgb_limitdepth's best error=0.4635\n",
      "[flaml.automl: 08-07 21:02:58] {3010} INFO - iteration 174, current learner xgb_limitdepth\n",
      "[flaml.automl: 08-07 21:03:00] {3190} INFO -  at 96.7s,\testimator xgb_limitdepth's best error=0.4635,\tbest estimator xgb_limitdepth's best error=0.4635\n",
      "[flaml.automl: 08-07 21:03:00] {3010} INFO - iteration 175, current learner xgboost\n",
      "[flaml.automl: 08-07 21:03:00] {3190} INFO -  at 96.8s,\testimator xgboost's best error=0.5397,\tbest estimator xgb_limitdepth's best error=0.4635\n",
      "[flaml.automl: 08-07 21:03:00] {3010} INFO - iteration 176, current learner xgb_limitdepth\n",
      "[flaml.automl: 08-07 21:03:04] {3190} INFO -  at 100.6s,\testimator xgb_limitdepth's best error=0.4635,\tbest estimator xgb_limitdepth's best error=0.4635\n",
      "[flaml.automl: 08-07 21:03:04] {3010} INFO - iteration 177, current learner xgb_limitdepth\n",
      "[flaml.automl: 08-07 21:03:06] {3190} INFO -  at 102.5s,\testimator xgb_limitdepth's best error=0.4635,\tbest estimator xgb_limitdepth's best error=0.4635\n",
      "[flaml.automl: 08-07 21:03:06] {3010} INFO - iteration 178, current learner xgboost\n",
      "[flaml.automl: 08-07 21:03:06] {3190} INFO -  at 102.9s,\testimator xgboost's best error=0.5397,\tbest estimator xgb_limitdepth's best error=0.4635\n",
      "[flaml.automl: 08-07 21:03:06] {3010} INFO - iteration 179, current learner xgb_limitdepth\n",
      "[flaml.automl: 08-07 21:03:08] {3190} INFO -  at 104.4s,\testimator xgb_limitdepth's best error=0.4635,\tbest estimator xgb_limitdepth's best error=0.4635\n",
      "[flaml.automl: 08-07 21:03:08] {3010} INFO - iteration 180, current learner xgb_limitdepth\n"
     ]
    },
    {
     "name": "stderr",
     "output_type": "stream",
     "text": [
      "[flaml.automl: 08-07 21:03:12] {3190} INFO -  at 109.0s,\testimator xgb_limitdepth's best error=0.4635,\tbest estimator xgb_limitdepth's best error=0.4635\n",
      "[flaml.automl: 08-07 21:03:12] {3010} INFO - iteration 181, current learner xgb_limitdepth\n",
      "[flaml.automl: 08-07 21:03:16] {3190} INFO -  at 113.1s,\testimator xgb_limitdepth's best error=0.4635,\tbest estimator xgb_limitdepth's best error=0.4635\n",
      "[flaml.automl: 08-07 21:03:16] {3010} INFO - iteration 182, current learner xgboost\n",
      "[flaml.automl: 08-07 21:03:17] {3190} INFO -  at 113.3s,\testimator xgboost's best error=0.5397,\tbest estimator xgb_limitdepth's best error=0.4635\n",
      "[flaml.automl: 08-07 21:03:17] {3010} INFO - iteration 183, current learner lgbm\n",
      "[flaml.automl: 08-07 21:03:17] {3190} INFO -  at 113.4s,\testimator lgbm's best error=0.5557,\tbest estimator xgb_limitdepth's best error=0.4635\n",
      "[flaml.automl: 08-07 21:03:17] {3010} INFO - iteration 184, current learner xgboost\n",
      "[flaml.automl: 08-07 21:03:17] {3190} INFO -  at 113.7s,\testimator xgboost's best error=0.5269,\tbest estimator xgb_limitdepth's best error=0.4635\n",
      "[flaml.automl: 08-07 21:03:17] {3010} INFO - iteration 185, current learner xgb_limitdepth\n",
      "[flaml.automl: 08-07 21:03:18] {3190} INFO -  at 115.1s,\testimator xgb_limitdepth's best error=0.4635,\tbest estimator xgb_limitdepth's best error=0.4635\n",
      "[flaml.automl: 08-07 21:03:18] {3010} INFO - iteration 186, current learner xgboost\n",
      "[flaml.automl: 08-07 21:03:19] {3190} INFO -  at 115.3s,\testimator xgboost's best error=0.5269,\tbest estimator xgb_limitdepth's best error=0.4635\n",
      "[flaml.automl: 08-07 21:03:19] {3010} INFO - iteration 187, current learner xgb_limitdepth\n",
      "[flaml.automl: 08-07 21:03:23] {3190} INFO -  at 119.6s,\testimator xgb_limitdepth's best error=0.4635,\tbest estimator xgb_limitdepth's best error=0.4635\n",
      "[flaml.automl: 08-07 21:03:23] {3010} INFO - iteration 188, current learner lgbm\n",
      "[flaml.automl: 08-07 21:03:23] {3190} INFO -  at 120.0s,\testimator lgbm's best error=0.5557,\tbest estimator xgb_limitdepth's best error=0.4635\n",
      "[flaml.automl: 08-07 21:03:23] {3010} INFO - iteration 189, current learner xgboost\n",
      "[flaml.automl: 08-07 21:03:24] {3190} INFO -  at 120.2s,\testimator xgboost's best error=0.5269,\tbest estimator xgb_limitdepth's best error=0.4635\n",
      "[flaml.automl: 08-07 21:03:24] {3010} INFO - iteration 190, current learner xgb_limitdepth\n",
      "[flaml.automl: 08-07 21:03:25] {3190} INFO -  at 122.0s,\testimator xgb_limitdepth's best error=0.4635,\tbest estimator xgb_limitdepth's best error=0.4635\n",
      "[flaml.automl: 08-07 21:03:25] {3010} INFO - iteration 191, current learner xgboost\n",
      "[flaml.automl: 08-07 21:03:26] {3190} INFO -  at 122.2s,\testimator xgboost's best error=0.5269,\tbest estimator xgb_limitdepth's best error=0.4635\n",
      "[flaml.automl: 08-07 21:03:26] {3010} INFO - iteration 192, current learner xgb_limitdepth\n",
      "[flaml.automl: 08-07 21:03:30] {3190} INFO -  at 126.5s,\testimator xgb_limitdepth's best error=0.4635,\tbest estimator xgb_limitdepth's best error=0.4635\n",
      "[flaml.automl: 08-07 21:03:30] {3010} INFO - iteration 193, current learner xgb_limitdepth\n",
      "[flaml.automl: 08-07 21:03:32] {3190} INFO -  at 128.3s,\testimator xgb_limitdepth's best error=0.4635,\tbest estimator xgb_limitdepth's best error=0.4635\n",
      "[flaml.automl: 08-07 21:03:32] {3010} INFO - iteration 194, current learner xgb_limitdepth\n",
      "[flaml.automl: 08-07 21:03:34] {3190} INFO -  at 130.8s,\testimator xgb_limitdepth's best error=0.4635,\tbest estimator xgb_limitdepth's best error=0.4635\n",
      "[flaml.automl: 08-07 21:03:34] {3010} INFO - iteration 195, current learner xgboost\n",
      "[flaml.automl: 08-07 21:03:34] {3190} INFO -  at 130.9s,\testimator xgboost's best error=0.5269,\tbest estimator xgb_limitdepth's best error=0.4635\n",
      "[flaml.automl: 08-07 21:03:34] {3010} INFO - iteration 196, current learner lgbm\n",
      "[flaml.automl: 08-07 21:03:34] {3190} INFO -  at 131.0s,\testimator lgbm's best error=0.5557,\tbest estimator xgb_limitdepth's best error=0.4635\n",
      "[flaml.automl: 08-07 21:03:34] {3010} INFO - iteration 197, current learner xgb_limitdepth\n",
      "[flaml.automl: 08-07 21:03:37] {3190} INFO -  at 133.3s,\testimator xgb_limitdepth's best error=0.4635,\tbest estimator xgb_limitdepth's best error=0.4635\n",
      "[flaml.automl: 08-07 21:03:37] {3010} INFO - iteration 198, current learner xgb_limitdepth\n",
      "[flaml.automl: 08-07 21:03:42] {3190} INFO -  at 138.3s,\testimator xgb_limitdepth's best error=0.4635,\tbest estimator xgb_limitdepth's best error=0.4635\n",
      "[flaml.automl: 08-07 21:03:42] {3010} INFO - iteration 199, current learner xgb_limitdepth\n",
      "[flaml.automl: 08-07 21:03:43] {3190} INFO -  at 139.8s,\testimator xgb_limitdepth's best error=0.4635,\tbest estimator xgb_limitdepth's best error=0.4635\n",
      "[flaml.automl: 08-07 21:03:43] {3010} INFO - iteration 200, current learner xgb_limitdepth\n",
      "[flaml.automl: 08-07 21:03:45] {3190} INFO -  at 141.8s,\testimator xgb_limitdepth's best error=0.4635,\tbest estimator xgb_limitdepth's best error=0.4635\n",
      "[flaml.automl: 08-07 21:03:45] {3010} INFO - iteration 201, current learner lgbm\n",
      "[flaml.automl: 08-07 21:03:45] {3190} INFO -  at 142.0s,\testimator lgbm's best error=0.5389,\tbest estimator xgb_limitdepth's best error=0.4635\n",
      "[flaml.automl: 08-07 21:03:45] {3010} INFO - iteration 202, current learner lgbm\n",
      "[flaml.automl: 08-07 21:03:45] {3190} INFO -  at 142.1s,\testimator lgbm's best error=0.5389,\tbest estimator xgb_limitdepth's best error=0.4635\n",
      "[flaml.automl: 08-07 21:03:45] {3010} INFO - iteration 203, current learner xgboost\n",
      "[flaml.automl: 08-07 21:03:46] {3190} INFO -  at 142.5s,\testimator xgboost's best error=0.5269,\tbest estimator xgb_limitdepth's best error=0.4635\n",
      "[flaml.automl: 08-07 21:03:46] {3010} INFO - iteration 204, current learner xgb_limitdepth\n",
      "[flaml.automl: 08-07 21:03:50] {3190} INFO -  at 146.4s,\testimator xgb_limitdepth's best error=0.4635,\tbest estimator xgb_limitdepth's best error=0.4635\n",
      "[flaml.automl: 08-07 21:03:50] {3010} INFO - iteration 205, current learner xgb_limitdepth\n",
      "[flaml.automl: 08-07 21:03:55] {3190} INFO -  at 151.2s,\testimator xgb_limitdepth's best error=0.4635,\tbest estimator xgb_limitdepth's best error=0.4635\n",
      "[flaml.automl: 08-07 21:03:55] {3010} INFO - iteration 206, current learner rf\n",
      "[flaml.automl: 08-07 21:03:57] {3190} INFO -  at 153.4s,\testimator rf's best error=0.5043,\tbest estimator xgb_limitdepth's best error=0.4635\n",
      "[flaml.automl: 08-07 21:03:57] {3010} INFO - iteration 207, current learner xgb_limitdepth\n",
      "[flaml.automl: 08-07 21:03:58] {3190} INFO -  at 154.9s,\testimator xgb_limitdepth's best error=0.4635,\tbest estimator xgb_limitdepth's best error=0.4635\n",
      "[flaml.automl: 08-07 21:03:58] {3010} INFO - iteration 208, current learner xgboost\n",
      "[flaml.automl: 08-07 21:03:58] {3190} INFO -  at 155.0s,\testimator xgboost's best error=0.5269,\tbest estimator xgb_limitdepth's best error=0.4635\n",
      "[flaml.automl: 08-07 21:03:58] {3010} INFO - iteration 209, current learner lgbm\n",
      "[flaml.automl: 08-07 21:03:59] {3190} INFO -  at 155.5s,\testimator lgbm's best error=0.5389,\tbest estimator xgb_limitdepth's best error=0.4635\n",
      "[flaml.automl: 08-07 21:03:59] {3010} INFO - iteration 210, current learner lgbm\n",
      "[flaml.automl: 08-07 21:03:59] {3190} INFO -  at 155.6s,\testimator lgbm's best error=0.5389,\tbest estimator xgb_limitdepth's best error=0.4635\n",
      "[flaml.automl: 08-07 21:03:59] {3010} INFO - iteration 211, current learner xgboost\n",
      "[flaml.automl: 08-07 21:03:59] {3190} INFO -  at 155.9s,\testimator xgboost's best error=0.5269,\tbest estimator xgb_limitdepth's best error=0.4635\n",
      "[flaml.automl: 08-07 21:03:59] {3010} INFO - iteration 212, current learner xgboost\n",
      "[flaml.automl: 08-07 21:03:59] {3190} INFO -  at 156.1s,\testimator xgboost's best error=0.5269,\tbest estimator xgb_limitdepth's best error=0.4635\n",
      "[flaml.automl: 08-07 21:03:59] {3010} INFO - iteration 213, current learner xgb_limitdepth\n",
      "[flaml.automl: 08-07 21:04:02] {3190} INFO -  at 159.0s,\testimator xgb_limitdepth's best error=0.4635,\tbest estimator xgb_limitdepth's best error=0.4635\n",
      "[flaml.automl: 08-07 21:04:02] {3010} INFO - iteration 214, current learner xgb_limitdepth\n",
      "[flaml.automl: 08-07 21:04:05] {3190} INFO -  at 161.6s,\testimator xgb_limitdepth's best error=0.4635,\tbest estimator xgb_limitdepth's best error=0.4635\n",
      "[flaml.automl: 08-07 21:04:05] {3010} INFO - iteration 215, current learner lgbm\n"
     ]
    },
    {
     "name": "stderr",
     "output_type": "stream",
     "text": [
      "[flaml.automl: 08-07 21:04:05] {3190} INFO -  at 161.7s,\testimator lgbm's best error=0.5389,\tbest estimator xgb_limitdepth's best error=0.4635\n",
      "[flaml.automl: 08-07 21:04:05] {3010} INFO - iteration 216, current learner xgb_limitdepth\n",
      "[flaml.automl: 08-07 21:04:06] {3190} INFO -  at 162.6s,\testimator xgb_limitdepth's best error=0.4635,\tbest estimator xgb_limitdepth's best error=0.4635\n",
      "[flaml.automl: 08-07 21:04:06] {3010} INFO - iteration 217, current learner lgbm\n",
      "[flaml.automl: 08-07 21:04:06] {3190} INFO -  at 163.2s,\testimator lgbm's best error=0.5389,\tbest estimator xgb_limitdepth's best error=0.4635\n",
      "[flaml.automl: 08-07 21:04:06] {3010} INFO - iteration 218, current learner lgbm\n",
      "[flaml.automl: 08-07 21:04:07] {3190} INFO -  at 163.6s,\testimator lgbm's best error=0.5389,\tbest estimator xgb_limitdepth's best error=0.4635\n",
      "[flaml.automl: 08-07 21:04:07] {3010} INFO - iteration 219, current learner lgbm\n",
      "[flaml.automl: 08-07 21:04:07] {3190} INFO -  at 163.7s,\testimator lgbm's best error=0.5389,\tbest estimator xgb_limitdepth's best error=0.4635\n",
      "[flaml.automl: 08-07 21:04:07] {3010} INFO - iteration 220, current learner xgboost\n",
      "[flaml.automl: 08-07 21:04:07] {3190} INFO -  at 163.9s,\testimator xgboost's best error=0.5269,\tbest estimator xgb_limitdepth's best error=0.4635\n",
      "[flaml.automl: 08-07 21:04:07] {3010} INFO - iteration 221, current learner lgbm\n",
      "[flaml.automl: 08-07 21:04:07] {3190} INFO -  at 164.0s,\testimator lgbm's best error=0.5389,\tbest estimator xgb_limitdepth's best error=0.4635\n",
      "[flaml.automl: 08-07 21:04:07] {3010} INFO - iteration 222, current learner xgb_limitdepth\n",
      "[flaml.automl: 08-07 21:04:15] {3190} INFO -  at 171.9s,\testimator xgb_limitdepth's best error=0.4635,\tbest estimator xgb_limitdepth's best error=0.4635\n",
      "[flaml.automl: 08-07 21:04:15] {3010} INFO - iteration 223, current learner xgb_limitdepth\n",
      "[flaml.automl: 08-07 21:04:18] {3190} INFO -  at 175.2s,\testimator xgb_limitdepth's best error=0.4635,\tbest estimator xgb_limitdepth's best error=0.4635\n",
      "[flaml.automl: 08-07 21:04:18] {3010} INFO - iteration 224, current learner lgbm\n",
      "[flaml.automl: 08-07 21:04:19] {3190} INFO -  at 175.8s,\testimator lgbm's best error=0.5382,\tbest estimator xgb_limitdepth's best error=0.4635\n",
      "[flaml.automl: 08-07 21:04:19] {3010} INFO - iteration 225, current learner xgboost\n",
      "[flaml.automl: 08-07 21:04:19] {3190} INFO -  at 176.0s,\testimator xgboost's best error=0.5269,\tbest estimator xgb_limitdepth's best error=0.4635\n",
      "[flaml.automl: 08-07 21:04:19] {3010} INFO - iteration 226, current learner xgboost\n",
      "[flaml.automl: 08-07 21:04:20] {3190} INFO -  at 176.6s,\testimator xgboost's best error=0.5269,\tbest estimator xgb_limitdepth's best error=0.4635\n",
      "[flaml.automl: 08-07 21:04:20] {3010} INFO - iteration 227, current learner xgboost\n",
      "[flaml.automl: 08-07 21:04:20] {3190} INFO -  at 176.7s,\testimator xgboost's best error=0.5269,\tbest estimator xgb_limitdepth's best error=0.4635\n",
      "[flaml.automl: 08-07 21:04:20] {3010} INFO - iteration 228, current learner xgb_limitdepth\n",
      "[flaml.automl: 08-07 21:04:22] {3190} INFO -  at 178.3s,\testimator xgb_limitdepth's best error=0.4635,\tbest estimator xgb_limitdepth's best error=0.4635\n",
      "[flaml.automl: 08-07 21:04:22] {3010} INFO - iteration 229, current learner xgboost\n",
      "[flaml.automl: 08-07 21:04:22] {3190} INFO -  at 178.5s,\testimator xgboost's best error=0.5269,\tbest estimator xgb_limitdepth's best error=0.4635\n",
      "[flaml.automl: 08-07 21:04:22] {3010} INFO - iteration 230, current learner xgb_limitdepth\n",
      "[flaml.automl: 08-07 21:04:26] {3190} INFO -  at 183.0s,\testimator xgb_limitdepth's best error=0.4635,\tbest estimator xgb_limitdepth's best error=0.4635\n",
      "[flaml.automl: 08-07 21:04:26] {3010} INFO - iteration 231, current learner xgb_limitdepth\n",
      "[flaml.automl: 08-07 21:04:28] {3190} INFO -  at 184.5s,\testimator xgb_limitdepth's best error=0.4635,\tbest estimator xgb_limitdepth's best error=0.4635\n",
      "[flaml.automl: 08-07 21:04:28] {3010} INFO - iteration 232, current learner xgb_limitdepth\n",
      "[flaml.automl: 08-07 21:04:31] {3190} INFO -  at 188.1s,\testimator xgb_limitdepth's best error=0.4635,\tbest estimator xgb_limitdepth's best error=0.4635\n",
      "[flaml.automl: 08-07 21:04:31] {3010} INFO - iteration 233, current learner xgb_limitdepth\n",
      "[flaml.automl: 08-07 21:04:34] {3190} INFO -  at 190.2s,\testimator xgb_limitdepth's best error=0.4635,\tbest estimator xgb_limitdepth's best error=0.4635\n",
      "[flaml.automl: 08-07 21:04:34] {3010} INFO - iteration 234, current learner xgb_limitdepth\n",
      "[flaml.automl: 08-07 21:04:36] {3190} INFO -  at 193.0s,\testimator xgb_limitdepth's best error=0.4635,\tbest estimator xgb_limitdepth's best error=0.4635\n",
      "[flaml.automl: 08-07 21:04:36] {3010} INFO - iteration 235, current learner xgboost\n",
      "[flaml.automl: 08-07 21:04:37] {3190} INFO -  at 193.4s,\testimator xgboost's best error=0.5111,\tbest estimator xgb_limitdepth's best error=0.4635\n",
      "[flaml.automl: 08-07 21:04:37] {3010} INFO - iteration 236, current learner xgboost\n",
      "[flaml.automl: 08-07 21:04:37] {3190} INFO -  at 193.8s,\testimator xgboost's best error=0.5111,\tbest estimator xgb_limitdepth's best error=0.4635\n",
      "[flaml.automl: 08-07 21:04:37] {3010} INFO - iteration 237, current learner xgboost\n",
      "[flaml.automl: 08-07 21:04:37] {3190} INFO -  at 194.0s,\testimator xgboost's best error=0.5111,\tbest estimator xgb_limitdepth's best error=0.4635\n",
      "[flaml.automl: 08-07 21:04:37] {3010} INFO - iteration 238, current learner xgboost\n",
      "[flaml.automl: 08-07 21:04:38] {3190} INFO -  at 194.4s,\testimator xgboost's best error=0.5111,\tbest estimator xgb_limitdepth's best error=0.4635\n",
      "[flaml.automl: 08-07 21:04:38] {3010} INFO - iteration 239, current learner xgboost\n",
      "[flaml.automl: 08-07 21:04:38] {3190} INFO -  at 194.7s,\testimator xgboost's best error=0.5111,\tbest estimator xgb_limitdepth's best error=0.4635\n",
      "[flaml.automl: 08-07 21:04:38] {3010} INFO - iteration 240, current learner xgboost\n",
      "[flaml.automl: 08-07 21:04:38] {3190} INFO -  at 194.8s,\testimator xgboost's best error=0.5111,\tbest estimator xgb_limitdepth's best error=0.4635\n",
      "[flaml.automl: 08-07 21:04:38] {3010} INFO - iteration 241, current learner lgbm\n",
      "[flaml.automl: 08-07 21:04:38] {3190} INFO -  at 195.0s,\testimator lgbm's best error=0.5382,\tbest estimator xgb_limitdepth's best error=0.4635\n",
      "[flaml.automl: 08-07 21:04:38] {3010} INFO - iteration 242, current learner xgboost\n",
      "[flaml.automl: 08-07 21:04:39] {3190} INFO -  at 196.2s,\testimator xgboost's best error=0.4867,\tbest estimator xgb_limitdepth's best error=0.4635\n",
      "[flaml.automl: 08-07 21:04:39] {3010} INFO - iteration 243, current learner xgboost\n",
      "[flaml.automl: 08-07 21:04:41] {3190} INFO -  at 197.2s,\testimator xgboost's best error=0.4867,\tbest estimator xgb_limitdepth's best error=0.4635\n",
      "[flaml.automl: 08-07 21:04:41] {3010} INFO - iteration 244, current learner xgboost\n",
      "[flaml.automl: 08-07 21:04:41] {3190} INFO -  at 198.1s,\testimator xgboost's best error=0.4867,\tbest estimator xgb_limitdepth's best error=0.4635\n",
      "[flaml.automl: 08-07 21:04:41] {3010} INFO - iteration 245, current learner xgboost\n",
      "[flaml.automl: 08-07 21:04:44] {3190} INFO -  at 200.9s,\testimator xgboost's best error=0.4867,\tbest estimator xgb_limitdepth's best error=0.4635\n",
      "[flaml.automl: 08-07 21:04:44] {3010} INFO - iteration 246, current learner xgb_limitdepth\n",
      "[flaml.automl: 08-07 21:04:47] {3190} INFO -  at 203.3s,\testimator xgb_limitdepth's best error=0.4635,\tbest estimator xgb_limitdepth's best error=0.4635\n",
      "[flaml.automl: 08-07 21:04:47] {3010} INFO - iteration 247, current learner xgboost\n",
      "[flaml.automl: 08-07 21:04:47] {3190} INFO -  at 203.7s,\testimator xgboost's best error=0.4867,\tbest estimator xgb_limitdepth's best error=0.4635\n",
      "[flaml.automl: 08-07 21:04:47] {3010} INFO - iteration 248, current learner xgboost\n",
      "[flaml.automl: 08-07 21:04:48] {3190} INFO -  at 205.1s,\testimator xgboost's best error=0.4867,\tbest estimator xgb_limitdepth's best error=0.4635\n",
      "[flaml.automl: 08-07 21:04:48] {3010} INFO - iteration 249, current learner xgboost\n",
      "[flaml.automl: 08-07 21:04:49] {3190} INFO -  at 206.0s,\testimator xgboost's best error=0.4867,\tbest estimator xgb_limitdepth's best error=0.4635\n",
      "[flaml.automl: 08-07 21:04:49] {3010} INFO - iteration 250, current learner xgboost\n",
      "[flaml.automl: 08-07 21:04:50] {3190} INFO -  at 206.9s,\testimator xgboost's best error=0.4867,\tbest estimator xgb_limitdepth's best error=0.4635\n"
     ]
    },
    {
     "name": "stderr",
     "output_type": "stream",
     "text": [
      "[flaml.automl: 08-07 21:04:50] {3010} INFO - iteration 251, current learner rf\n",
      "[flaml.automl: 08-07 21:04:51] {3190} INFO -  at 208.0s,\testimator rf's best error=0.5043,\tbest estimator xgb_limitdepth's best error=0.4635\n",
      "[flaml.automl: 08-07 21:04:51] {3010} INFO - iteration 252, current learner xgboost\n",
      "[flaml.automl: 08-07 21:04:52] {3190} INFO -  at 208.8s,\testimator xgboost's best error=0.4867,\tbest estimator xgb_limitdepth's best error=0.4635\n",
      "[flaml.automl: 08-07 21:04:52] {3010} INFO - iteration 253, current learner xgboost\n",
      "[flaml.automl: 08-07 21:04:53] {3190} INFO -  at 209.6s,\testimator xgboost's best error=0.4867,\tbest estimator xgb_limitdepth's best error=0.4635\n",
      "[flaml.automl: 08-07 21:04:53] {3010} INFO - iteration 254, current learner xgb_limitdepth\n",
      "[flaml.automl: 08-07 21:04:56] {3190} INFO -  at 213.1s,\testimator xgb_limitdepth's best error=0.4635,\tbest estimator xgb_limitdepth's best error=0.4635\n",
      "[flaml.automl: 08-07 21:04:56] {3010} INFO - iteration 255, current learner lgbm\n",
      "[flaml.automl: 08-07 21:04:59] {3190} INFO -  at 215.6s,\testimator lgbm's best error=0.5382,\tbest estimator xgb_limitdepth's best error=0.4635\n",
      "[flaml.automl: 08-07 21:04:59] {3010} INFO - iteration 256, current learner xgb_limitdepth\n",
      "[flaml.automl: 08-07 21:05:01] {3190} INFO -  at 218.0s,\testimator xgb_limitdepth's best error=0.4585,\tbest estimator xgb_limitdepth's best error=0.4585\n",
      "[flaml.automl: 08-07 21:05:01] {3010} INFO - iteration 257, current learner xgboost\n",
      "[flaml.automl: 08-07 21:05:03] {3190} INFO -  at 219.6s,\testimator xgboost's best error=0.4867,\tbest estimator xgb_limitdepth's best error=0.4585\n",
      "[flaml.automl: 08-07 21:05:03] {3010} INFO - iteration 258, current learner xgb_limitdepth\n",
      "[flaml.automl: 08-07 21:05:05] {3190} INFO -  at 221.5s,\testimator xgb_limitdepth's best error=0.4585,\tbest estimator xgb_limitdepth's best error=0.4585\n",
      "[flaml.automl: 08-07 21:05:05] {3010} INFO - iteration 259, current learner xgboost\n",
      "[flaml.automl: 08-07 21:05:06] {3190} INFO -  at 222.4s,\testimator xgboost's best error=0.4867,\tbest estimator xgb_limitdepth's best error=0.4585\n",
      "[flaml.automl: 08-07 21:05:06] {3010} INFO - iteration 260, current learner xgb_limitdepth\n",
      "[flaml.automl: 08-07 21:05:07] {3190} INFO -  at 223.8s,\testimator xgb_limitdepth's best error=0.4585,\tbest estimator xgb_limitdepth's best error=0.4585\n",
      "[flaml.automl: 08-07 21:05:07] {3010} INFO - iteration 261, current learner xgboost\n",
      "[flaml.automl: 08-07 21:05:07] {3190} INFO -  at 224.1s,\testimator xgboost's best error=0.4867,\tbest estimator xgb_limitdepth's best error=0.4585\n",
      "[flaml.automl: 08-07 21:05:07] {3010} INFO - iteration 262, current learner xgboost\n",
      "[flaml.automl: 08-07 21:05:09] {3190} INFO -  at 225.7s,\testimator xgboost's best error=0.4867,\tbest estimator xgb_limitdepth's best error=0.4585\n",
      "[flaml.automl: 08-07 21:05:09] {3010} INFO - iteration 263, current learner xgboost\n",
      "[flaml.automl: 08-07 21:05:10] {3190} INFO -  at 226.6s,\testimator xgboost's best error=0.4867,\tbest estimator xgb_limitdepth's best error=0.4585\n",
      "[flaml.automl: 08-07 21:05:10] {3010} INFO - iteration 264, current learner xgboost\n",
      "[flaml.automl: 08-07 21:05:11] {3190} INFO -  at 227.3s,\testimator xgboost's best error=0.4867,\tbest estimator xgb_limitdepth's best error=0.4585\n",
      "[flaml.automl: 08-07 21:05:11] {3010} INFO - iteration 265, current learner xgb_limitdepth\n",
      "[flaml.automl: 08-07 21:05:14] {3190} INFO -  at 230.8s,\testimator xgb_limitdepth's best error=0.4585,\tbest estimator xgb_limitdepth's best error=0.4585\n",
      "[flaml.automl: 08-07 21:05:14] {3010} INFO - iteration 266, current learner xgb_limitdepth\n",
      "[flaml.automl: 08-07 21:05:16] {3190} INFO -  at 232.3s,\testimator xgb_limitdepth's best error=0.4585,\tbest estimator xgb_limitdepth's best error=0.4585\n",
      "[flaml.automl: 08-07 21:05:16] {3010} INFO - iteration 267, current learner xgb_limitdepth\n",
      "[flaml.automl: 08-07 21:05:17] {3190} INFO -  at 233.7s,\testimator xgb_limitdepth's best error=0.4585,\tbest estimator xgb_limitdepth's best error=0.4585\n",
      "[flaml.automl: 08-07 21:05:17] {3010} INFO - iteration 268, current learner xgboost\n",
      "[flaml.automl: 08-07 21:05:18] {3190} INFO -  at 235.2s,\testimator xgboost's best error=0.4867,\tbest estimator xgb_limitdepth's best error=0.4585\n",
      "[flaml.automl: 08-07 21:05:18] {3010} INFO - iteration 269, current learner xgb_limitdepth\n",
      "[flaml.automl: 08-07 21:05:21] {3190} INFO -  at 237.5s,\testimator xgb_limitdepth's best error=0.4585,\tbest estimator xgb_limitdepth's best error=0.4585\n",
      "[flaml.automl: 08-07 21:05:21] {3010} INFO - iteration 270, current learner xgboost\n",
      "[flaml.automl: 08-07 21:05:22] {3190} INFO -  at 238.5s,\testimator xgboost's best error=0.4867,\tbest estimator xgb_limitdepth's best error=0.4585\n",
      "[flaml.automl: 08-07 21:05:22] {3010} INFO - iteration 271, current learner xgboost\n",
      "[flaml.automl: 08-07 21:05:23] {3190} INFO -  at 239.6s,\testimator xgboost's best error=0.4867,\tbest estimator xgb_limitdepth's best error=0.4585\n",
      "[flaml.automl: 08-07 21:05:23] {3010} INFO - iteration 272, current learner xgboost\n",
      "[flaml.automl: 08-07 21:05:23] {3190} INFO -  at 240.2s,\testimator xgboost's best error=0.4867,\tbest estimator xgb_limitdepth's best error=0.4585\n",
      "[flaml.automl: 08-07 21:05:23] {3010} INFO - iteration 273, current learner xgboost\n",
      "[flaml.automl: 08-07 21:05:26] {3190} INFO -  at 242.7s,\testimator xgboost's best error=0.4867,\tbest estimator xgb_limitdepth's best error=0.4585\n",
      "[flaml.automl: 08-07 21:05:26] {3010} INFO - iteration 274, current learner xgboost\n",
      "[flaml.automl: 08-07 21:05:28] {3190} INFO -  at 244.8s,\testimator xgboost's best error=0.4867,\tbest estimator xgb_limitdepth's best error=0.4585\n",
      "[flaml.automl: 08-07 21:05:28] {3010} INFO - iteration 275, current learner xgboost\n",
      "[flaml.automl: 08-07 21:05:29] {3190} INFO -  at 245.2s,\testimator xgboost's best error=0.4867,\tbest estimator xgb_limitdepth's best error=0.4585\n",
      "[flaml.automl: 08-07 21:05:29] {3010} INFO - iteration 276, current learner xgboost\n",
      "[flaml.automl: 08-07 21:05:30] {3190} INFO -  at 246.7s,\testimator xgboost's best error=0.4867,\tbest estimator xgb_limitdepth's best error=0.4585\n",
      "[flaml.automl: 08-07 21:05:30] {3010} INFO - iteration 277, current learner xgboost\n",
      "[flaml.automl: 08-07 21:05:30] {3190} INFO -  at 247.1s,\testimator xgboost's best error=0.4867,\tbest estimator xgb_limitdepth's best error=0.4585\n",
      "[flaml.automl: 08-07 21:05:30] {3010} INFO - iteration 278, current learner xgboost\n",
      "[flaml.automl: 08-07 21:05:32] {3190} INFO -  at 248.8s,\testimator xgboost's best error=0.4867,\tbest estimator xgb_limitdepth's best error=0.4585\n",
      "[flaml.automl: 08-07 21:05:32] {3010} INFO - iteration 279, current learner xgb_limitdepth\n",
      "[flaml.automl: 08-07 21:05:35] {3190} INFO -  at 251.8s,\testimator xgb_limitdepth's best error=0.4585,\tbest estimator xgb_limitdepth's best error=0.4585\n",
      "[flaml.automl: 08-07 21:05:35] {3010} INFO - iteration 280, current learner xgb_limitdepth\n",
      "[flaml.automl: 08-07 21:05:37] {3190} INFO -  at 253.4s,\testimator xgb_limitdepth's best error=0.4585,\tbest estimator xgb_limitdepth's best error=0.4585\n",
      "[flaml.automl: 08-07 21:05:37] {3010} INFO - iteration 281, current learner xgboost\n",
      "[flaml.automl: 08-07 21:05:37] {3190} INFO -  at 254.1s,\testimator xgboost's best error=0.4867,\tbest estimator xgb_limitdepth's best error=0.4585\n",
      "[flaml.automl: 08-07 21:05:37] {3010} INFO - iteration 282, current learner xgboost\n",
      "[flaml.automl: 08-07 21:05:39] {3190} INFO -  at 255.3s,\testimator xgboost's best error=0.4867,\tbest estimator xgb_limitdepth's best error=0.4585\n",
      "[flaml.automl: 08-07 21:05:39] {3010} INFO - iteration 283, current learner xgboost\n",
      "[flaml.automl: 08-07 21:05:40] {3190} INFO -  at 256.5s,\testimator xgboost's best error=0.4867,\tbest estimator xgb_limitdepth's best error=0.4585\n",
      "[flaml.automl: 08-07 21:05:40] {3010} INFO - iteration 284, current learner xgb_limitdepth\n",
      "[flaml.automl: 08-07 21:05:42] {3190} INFO -  at 258.5s,\testimator xgb_limitdepth's best error=0.4585,\tbest estimator xgb_limitdepth's best error=0.4585\n",
      "[flaml.automl: 08-07 21:05:42] {3010} INFO - iteration 285, current learner xgb_limitdepth\n",
      "[flaml.automl: 08-07 21:05:44] {3190} INFO -  at 260.9s,\testimator xgb_limitdepth's best error=0.4585,\tbest estimator xgb_limitdepth's best error=0.4585\n"
     ]
    },
    {
     "name": "stderr",
     "output_type": "stream",
     "text": [
      "[flaml.automl: 08-07 21:05:44] {3010} INFO - iteration 286, current learner xgb_limitdepth\n",
      "[flaml.automl: 08-07 21:05:47] {3190} INFO -  at 263.9s,\testimator xgb_limitdepth's best error=0.4585,\tbest estimator xgb_limitdepth's best error=0.4585\n",
      "[flaml.automl: 08-07 21:05:47] {3010} INFO - iteration 287, current learner xgb_limitdepth\n",
      "[flaml.automl: 08-07 21:05:48] {3190} INFO -  at 265.0s,\testimator xgb_limitdepth's best error=0.4585,\tbest estimator xgb_limitdepth's best error=0.4585\n",
      "[flaml.automl: 08-07 21:05:48] {3010} INFO - iteration 288, current learner xgboost\n",
      "[flaml.automl: 08-07 21:05:50] {3190} INFO -  at 267.0s,\testimator xgboost's best error=0.4867,\tbest estimator xgb_limitdepth's best error=0.4585\n",
      "[flaml.automl: 08-07 21:05:50] {3010} INFO - iteration 289, current learner xgboost\n",
      "[flaml.automl: 08-07 21:05:51] {3190} INFO -  at 267.4s,\testimator xgboost's best error=0.4867,\tbest estimator xgb_limitdepth's best error=0.4585\n",
      "[flaml.automl: 08-07 21:05:51] {3010} INFO - iteration 290, current learner xgb_limitdepth\n",
      "[flaml.automl: 08-07 21:05:53] {3190} INFO -  at 269.6s,\testimator xgb_limitdepth's best error=0.4585,\tbest estimator xgb_limitdepth's best error=0.4585\n",
      "[flaml.automl: 08-07 21:05:53] {3010} INFO - iteration 291, current learner xgboost\n",
      "[flaml.automl: 08-07 21:05:54] {3190} INFO -  at 270.3s,\testimator xgboost's best error=0.4867,\tbest estimator xgb_limitdepth's best error=0.4585\n",
      "[flaml.automl: 08-07 21:05:54] {3010} INFO - iteration 292, current learner xgb_limitdepth\n",
      "[flaml.automl: 08-07 21:05:55] {3190} INFO -  at 271.8s,\testimator xgb_limitdepth's best error=0.4585,\tbest estimator xgb_limitdepth's best error=0.4585\n",
      "[flaml.automl: 08-07 21:05:55] {3010} INFO - iteration 293, current learner xgboost\n",
      "[flaml.automl: 08-07 21:05:57] {3190} INFO -  at 274.0s,\testimator xgboost's best error=0.4825,\tbest estimator xgb_limitdepth's best error=0.4585\n",
      "[flaml.automl: 08-07 21:05:57] {3010} INFO - iteration 294, current learner xgb_limitdepth\n",
      "[flaml.automl: 08-07 21:05:59] {3190} INFO -  at 275.4s,\testimator xgb_limitdepth's best error=0.4585,\tbest estimator xgb_limitdepth's best error=0.4585\n",
      "[flaml.automl: 08-07 21:05:59] {3010} INFO - iteration 295, current learner xgb_limitdepth\n",
      "[flaml.automl: 08-07 21:06:00] {3190} INFO -  at 277.2s,\testimator xgb_limitdepth's best error=0.4585,\tbest estimator xgb_limitdepth's best error=0.4585\n",
      "[flaml.automl: 08-07 21:06:00] {3010} INFO - iteration 296, current learner xgb_limitdepth\n",
      "[flaml.automl: 08-07 21:06:01] {3190} INFO -  at 278.2s,\testimator xgb_limitdepth's best error=0.4585,\tbest estimator xgb_limitdepth's best error=0.4585\n",
      "[flaml.automl: 08-07 21:06:01] {3010} INFO - iteration 297, current learner xgb_limitdepth\n",
      "[flaml.automl: 08-07 21:06:05] {3190} INFO -  at 281.7s,\testimator xgb_limitdepth's best error=0.4585,\tbest estimator xgb_limitdepth's best error=0.4585\n",
      "[flaml.automl: 08-07 21:06:05] {3010} INFO - iteration 298, current learner xgb_limitdepth\n",
      "[flaml.automl: 08-07 21:06:09] {3190} INFO -  at 286.0s,\testimator xgb_limitdepth's best error=0.4585,\tbest estimator xgb_limitdepth's best error=0.4585\n",
      "[flaml.automl: 08-07 21:06:09] {3010} INFO - iteration 299, current learner xgb_limitdepth\n",
      "[flaml.automl: 08-07 21:06:10] {3190} INFO -  at 287.0s,\testimator xgb_limitdepth's best error=0.4585,\tbest estimator xgb_limitdepth's best error=0.4585\n",
      "[flaml.automl: 08-07 21:06:10] {3010} INFO - iteration 300, current learner rf\n",
      "[flaml.automl: 08-07 21:06:15] {3190} INFO -  at 291.5s,\testimator rf's best error=0.5043,\tbest estimator xgb_limitdepth's best error=0.4585\n",
      "[flaml.automl: 08-07 21:06:15] {3010} INFO - iteration 301, current learner xgb_limitdepth\n",
      "[flaml.automl: 08-07 21:06:16] {3190} INFO -  at 293.1s,\testimator xgb_limitdepth's best error=0.4585,\tbest estimator xgb_limitdepth's best error=0.4585\n",
      "[flaml.automl: 08-07 21:06:16] {3010} INFO - iteration 302, current learner rf\n",
      "[flaml.automl: 08-07 21:06:18] {3190} INFO -  at 295.2s,\testimator rf's best error=0.5043,\tbest estimator xgb_limitdepth's best error=0.4585\n",
      "[flaml.automl: 08-07 21:06:18] {3010} INFO - iteration 303, current learner xgb_limitdepth\n",
      "[flaml.automl: 08-07 21:06:21] {3190} INFO -  at 298.0s,\testimator xgb_limitdepth's best error=0.4585,\tbest estimator xgb_limitdepth's best error=0.4585\n",
      "[flaml.automl: 08-07 21:06:21] {3010} INFO - iteration 304, current learner xgboost\n",
      "[flaml.automl: 08-07 21:06:24] {3190} INFO -  at 301.0s,\testimator xgboost's best error=0.4825,\tbest estimator xgb_limitdepth's best error=0.4585\n",
      "[flaml.automl: 08-07 21:06:24] {3010} INFO - iteration 305, current learner xgb_limitdepth\n",
      "[flaml.automl: 08-07 21:06:29] {3190} INFO -  at 305.4s,\testimator xgb_limitdepth's best error=0.4585,\tbest estimator xgb_limitdepth's best error=0.4585\n",
      "[flaml.automl: 08-07 21:06:29] {3010} INFO - iteration 306, current learner xgb_limitdepth\n",
      "[flaml.automl: 08-07 21:06:30] {3190} INFO -  at 306.4s,\testimator xgb_limitdepth's best error=0.4585,\tbest estimator xgb_limitdepth's best error=0.4585\n",
      "[flaml.automl: 08-07 21:06:30] {3010} INFO - iteration 307, current learner xgb_limitdepth\n",
      "[flaml.automl: 08-07 21:06:35] {3190} INFO -  at 311.3s,\testimator xgb_limitdepth's best error=0.4585,\tbest estimator xgb_limitdepth's best error=0.4585\n",
      "[flaml.automl: 08-07 21:06:35] {3010} INFO - iteration 308, current learner xgb_limitdepth\n",
      "[flaml.automl: 08-07 21:06:36] {3190} INFO -  at 312.6s,\testimator xgb_limitdepth's best error=0.4585,\tbest estimator xgb_limitdepth's best error=0.4585\n",
      "[flaml.automl: 08-07 21:06:36] {3010} INFO - iteration 309, current learner xgboost\n",
      "[flaml.automl: 08-07 21:06:37] {3190} INFO -  at 313.8s,\testimator xgboost's best error=0.4825,\tbest estimator xgb_limitdepth's best error=0.4585\n",
      "[flaml.automl: 08-07 21:06:37] {3010} INFO - iteration 310, current learner xgb_limitdepth\n",
      "[flaml.automl: 08-07 21:06:39] {3190} INFO -  at 315.9s,\testimator xgb_limitdepth's best error=0.4585,\tbest estimator xgb_limitdepth's best error=0.4585\n",
      "[flaml.automl: 08-07 21:06:39] {3010} INFO - iteration 311, current learner xgb_limitdepth\n",
      "[flaml.automl: 08-07 21:06:42] {3190} INFO -  at 318.4s,\testimator xgb_limitdepth's best error=0.4585,\tbest estimator xgb_limitdepth's best error=0.4585\n",
      "[flaml.automl: 08-07 21:06:42] {3010} INFO - iteration 312, current learner xgboost\n",
      "[flaml.automl: 08-07 21:06:47] {3190} INFO -  at 323.5s,\testimator xgboost's best error=0.4825,\tbest estimator xgb_limitdepth's best error=0.4585\n",
      "[flaml.automl: 08-07 21:06:47] {3010} INFO - iteration 313, current learner xgb_limitdepth\n",
      "[flaml.automl: 08-07 21:06:48] {3190} INFO -  at 324.6s,\testimator xgb_limitdepth's best error=0.4585,\tbest estimator xgb_limitdepth's best error=0.4585\n",
      "[flaml.automl: 08-07 21:06:48] {3010} INFO - iteration 314, current learner xgb_limitdepth\n",
      "[flaml.automl: 08-07 21:06:51] {3190} INFO -  at 327.4s,\testimator xgb_limitdepth's best error=0.4585,\tbest estimator xgb_limitdepth's best error=0.4585\n",
      "[flaml.automl: 08-07 21:06:51] {3010} INFO - iteration 315, current learner xgb_limitdepth\n",
      "[flaml.automl: 08-07 21:06:52] {3190} INFO -  at 329.1s,\testimator xgb_limitdepth's best error=0.4585,\tbest estimator xgb_limitdepth's best error=0.4585\n",
      "[flaml.automl: 08-07 21:06:52] {3010} INFO - iteration 316, current learner xgb_limitdepth\n",
      "[flaml.automl: 08-07 21:06:55] {3190} INFO -  at 332.2s,\testimator xgb_limitdepth's best error=0.4585,\tbest estimator xgb_limitdepth's best error=0.4585\n",
      "[flaml.automl: 08-07 21:06:55] {3010} INFO - iteration 317, current learner xgboost\n",
      "[flaml.automl: 08-07 21:06:56] {3190} INFO -  at 332.9s,\testimator xgboost's best error=0.4825,\tbest estimator xgb_limitdepth's best error=0.4585\n",
      "[flaml.automl: 08-07 21:06:56] {3010} INFO - iteration 318, current learner rf\n",
      "[flaml.automl: 08-07 21:06:58] {3190} INFO -  at 335.1s,\testimator rf's best error=0.5043,\tbest estimator xgb_limitdepth's best error=0.4585\n",
      "[flaml.automl: 08-07 21:06:58] {3010} INFO - iteration 319, current learner xgboost\n",
      "[flaml.automl: 08-07 21:07:00] {3190} INFO -  at 336.3s,\testimator xgboost's best error=0.4765,\tbest estimator xgb_limitdepth's best error=0.4585\n",
      "[flaml.automl: 08-07 21:07:00] {3010} INFO - iteration 320, current learner xgboost\n",
      "[flaml.automl: 08-07 21:07:02] {3190} INFO -  at 338.4s,\testimator xgboost's best error=0.4765,\tbest estimator xgb_limitdepth's best error=0.4585\n"
     ]
    },
    {
     "name": "stderr",
     "output_type": "stream",
     "text": [
      "[flaml.automl: 08-07 21:07:02] {3010} INFO - iteration 321, current learner xgb_limitdepth\n",
      "[flaml.automl: 08-07 21:07:03] {3190} INFO -  at 340.0s,\testimator xgb_limitdepth's best error=0.4585,\tbest estimator xgb_limitdepth's best error=0.4585\n",
      "[flaml.automl: 08-07 21:07:03] {3010} INFO - iteration 322, current learner xgboost\n",
      "[flaml.automl: 08-07 21:07:04] {3190} INFO -  at 340.9s,\testimator xgboost's best error=0.4765,\tbest estimator xgb_limitdepth's best error=0.4585\n",
      "[flaml.automl: 08-07 21:07:04] {3010} INFO - iteration 323, current learner xgboost\n",
      "[flaml.automl: 08-07 21:07:05] {3190} INFO -  at 341.9s,\testimator xgboost's best error=0.4765,\tbest estimator xgb_limitdepth's best error=0.4585\n",
      "[flaml.automl: 08-07 21:07:05] {3010} INFO - iteration 324, current learner xgb_limitdepth\n",
      "[flaml.automl: 08-07 21:07:08] {3190} INFO -  at 344.5s,\testimator xgb_limitdepth's best error=0.4585,\tbest estimator xgb_limitdepth's best error=0.4585\n",
      "[flaml.automl: 08-07 21:07:08] {3010} INFO - iteration 325, current learner xgboost\n",
      "[flaml.automl: 08-07 21:07:09] {3190} INFO -  at 345.3s,\testimator xgboost's best error=0.4765,\tbest estimator xgb_limitdepth's best error=0.4585\n",
      "[flaml.automl: 08-07 21:07:09] {3010} INFO - iteration 326, current learner xgb_limitdepth\n",
      "[flaml.automl: 08-07 21:07:09] {3190} INFO -  at 346.0s,\testimator xgb_limitdepth's best error=0.4585,\tbest estimator xgb_limitdepth's best error=0.4585\n",
      "[flaml.automl: 08-07 21:07:09] {3010} INFO - iteration 327, current learner xgboost\n",
      "[flaml.automl: 08-07 21:07:11] {3190} INFO -  at 347.9s,\testimator xgboost's best error=0.4765,\tbest estimator xgb_limitdepth's best error=0.4585\n",
      "[flaml.automl: 08-07 21:07:11] {3010} INFO - iteration 328, current learner xgboost\n",
      "[flaml.automl: 08-07 21:07:12] {3190} INFO -  at 349.1s,\testimator xgboost's best error=0.4765,\tbest estimator xgb_limitdepth's best error=0.4585\n",
      "[flaml.automl: 08-07 21:07:12] {3010} INFO - iteration 329, current learner extra_tree\n",
      "[flaml.automl: 08-07 21:07:15] {3190} INFO -  at 351.8s,\testimator extra_tree's best error=0.4937,\tbest estimator xgb_limitdepth's best error=0.4585\n",
      "[flaml.automl: 08-07 21:07:15] {3010} INFO - iteration 330, current learner xgboost\n",
      "[flaml.automl: 08-07 21:07:16] {3190} INFO -  at 352.5s,\testimator xgboost's best error=0.4765,\tbest estimator xgb_limitdepth's best error=0.4585\n",
      "[flaml.automl: 08-07 21:07:16] {3010} INFO - iteration 331, current learner xgboost\n",
      "[flaml.automl: 08-07 21:07:16] {3190} INFO -  at 352.8s,\testimator xgboost's best error=0.4765,\tbest estimator xgb_limitdepth's best error=0.4585\n",
      "[flaml.automl: 08-07 21:07:16] {3010} INFO - iteration 332, current learner xgb_limitdepth\n",
      "[flaml.automl: 08-07 21:07:21] {3190} INFO -  at 357.8s,\testimator xgb_limitdepth's best error=0.4585,\tbest estimator xgb_limitdepth's best error=0.4585\n",
      "[flaml.automl: 08-07 21:07:21] {3010} INFO - iteration 333, current learner xgb_limitdepth\n",
      "[flaml.automl: 08-07 21:07:25] {3190} INFO -  at 362.2s,\testimator xgb_limitdepth's best error=0.4585,\tbest estimator xgb_limitdepth's best error=0.4585\n",
      "[flaml.automl: 08-07 21:07:25] {3010} INFO - iteration 334, current learner xgb_limitdepth\n",
      "[flaml.automl: 08-07 21:07:26] {3190} INFO -  at 362.8s,\testimator xgb_limitdepth's best error=0.4585,\tbest estimator xgb_limitdepth's best error=0.4585\n",
      "[flaml.automl: 08-07 21:07:26] {3010} INFO - iteration 335, current learner xgboost\n",
      "[flaml.automl: 08-07 21:07:28] {3190} INFO -  at 364.6s,\testimator xgboost's best error=0.4765,\tbest estimator xgb_limitdepth's best error=0.4585\n",
      "[flaml.automl: 08-07 21:07:28] {3010} INFO - iteration 336, current learner xgb_limitdepth\n",
      "[flaml.automl: 08-07 21:07:29] {3190} INFO -  at 365.9s,\testimator xgb_limitdepth's best error=0.4585,\tbest estimator xgb_limitdepth's best error=0.4585\n",
      "[flaml.automl: 08-07 21:07:29] {3010} INFO - iteration 337, current learner xgboost\n",
      "[flaml.automl: 08-07 21:07:32] {3190} INFO -  at 368.9s,\testimator xgboost's best error=0.4765,\tbest estimator xgb_limitdepth's best error=0.4585\n",
      "[flaml.automl: 08-07 21:07:32] {3010} INFO - iteration 338, current learner xgb_limitdepth\n",
      "[flaml.automl: 08-07 21:07:36] {3190} INFO -  at 373.0s,\testimator xgb_limitdepth's best error=0.4585,\tbest estimator xgb_limitdepth's best error=0.4585\n",
      "[flaml.automl: 08-07 21:07:36] {3010} INFO - iteration 339, current learner xgb_limitdepth\n",
      "[flaml.automl: 08-07 21:07:38] {3190} INFO -  at 374.7s,\testimator xgb_limitdepth's best error=0.4585,\tbest estimator xgb_limitdepth's best error=0.4585\n",
      "[flaml.automl: 08-07 21:07:38] {3010} INFO - iteration 340, current learner lgbm\n",
      "[flaml.automl: 08-07 21:07:38] {3190} INFO -  at 374.8s,\testimator lgbm's best error=0.5382,\tbest estimator xgb_limitdepth's best error=0.4585\n",
      "[flaml.automl: 08-07 21:07:38] {3010} INFO - iteration 341, current learner xgboost\n",
      "[flaml.automl: 08-07 21:07:38] {3190} INFO -  at 375.1s,\testimator xgboost's best error=0.4765,\tbest estimator xgb_limitdepth's best error=0.4585\n",
      "[flaml.automl: 08-07 21:07:38] {3010} INFO - iteration 342, current learner xgb_limitdepth\n",
      "[flaml.automl: 08-07 21:07:40] {3190} INFO -  at 376.7s,\testimator xgb_limitdepth's best error=0.4585,\tbest estimator xgb_limitdepth's best error=0.4585\n",
      "[flaml.automl: 08-07 21:07:40] {3010} INFO - iteration 343, current learner xgb_limitdepth\n",
      "[flaml.automl: 08-07 21:07:41] {3190} INFO -  at 377.5s,\testimator xgb_limitdepth's best error=0.4585,\tbest estimator xgb_limitdepth's best error=0.4585\n",
      "[flaml.automl: 08-07 21:07:41] {3010} INFO - iteration 344, current learner xgb_limitdepth\n",
      "[flaml.automl: 08-07 21:07:46] {3190} INFO -  at 382.4s,\testimator xgb_limitdepth's best error=0.4585,\tbest estimator xgb_limitdepth's best error=0.4585\n",
      "[flaml.automl: 08-07 21:07:46] {3010} INFO - iteration 345, current learner xgb_limitdepth\n",
      "[flaml.automl: 08-07 21:07:47] {3190} INFO -  at 383.3s,\testimator xgb_limitdepth's best error=0.4585,\tbest estimator xgb_limitdepth's best error=0.4585\n",
      "[flaml.automl: 08-07 21:07:47] {3010} INFO - iteration 346, current learner xgb_limitdepth\n",
      "[flaml.automl: 08-07 21:07:50] {3190} INFO -  at 386.6s,\testimator xgb_limitdepth's best error=0.4585,\tbest estimator xgb_limitdepth's best error=0.4585\n",
      "[flaml.automl: 08-07 21:07:50] {3010} INFO - iteration 347, current learner xgb_limitdepth\n",
      "[flaml.automl: 08-07 21:07:52] {3190} INFO -  at 388.4s,\testimator xgb_limitdepth's best error=0.4585,\tbest estimator xgb_limitdepth's best error=0.4585\n",
      "[flaml.automl: 08-07 21:07:52] {3010} INFO - iteration 348, current learner xgb_limitdepth\n",
      "[flaml.automl: 08-07 21:07:53] {3190} INFO -  at 389.8s,\testimator xgb_limitdepth's best error=0.4585,\tbest estimator xgb_limitdepth's best error=0.4585\n",
      "[flaml.automl: 08-07 21:07:53] {3010} INFO - iteration 349, current learner rf\n",
      "[flaml.automl: 08-07 21:07:56] {3190} INFO -  at 393.1s,\testimator rf's best error=0.5043,\tbest estimator xgb_limitdepth's best error=0.4585\n",
      "[flaml.automl: 08-07 21:07:56] {3010} INFO - iteration 350, current learner xgb_limitdepth\n",
      "[flaml.automl: 08-07 21:07:57] {3190} INFO -  at 394.0s,\testimator xgb_limitdepth's best error=0.4585,\tbest estimator xgb_limitdepth's best error=0.4585\n",
      "[flaml.automl: 08-07 21:07:57] {3010} INFO - iteration 351, current learner xgb_limitdepth\n",
      "[flaml.automl: 08-07 21:08:01] {3190} INFO -  at 397.9s,\testimator xgb_limitdepth's best error=0.4585,\tbest estimator xgb_limitdepth's best error=0.4585\n",
      "[flaml.automl: 08-07 21:08:01] {3010} INFO - iteration 352, current learner xgb_limitdepth\n",
      "[flaml.automl: 08-07 21:08:02] {3190} INFO -  at 398.8s,\testimator xgb_limitdepth's best error=0.4585,\tbest estimator xgb_limitdepth's best error=0.4585\n",
      "[flaml.automl: 08-07 21:08:02] {3010} INFO - iteration 353, current learner xgb_limitdepth\n",
      "[flaml.automl: 08-07 21:08:06] {3190} INFO -  at 402.6s,\testimator xgb_limitdepth's best error=0.4585,\tbest estimator xgb_limitdepth's best error=0.4585\n",
      "[flaml.automl: 08-07 21:08:06] {3010} INFO - iteration 354, current learner lgbm\n",
      "[flaml.automl: 08-07 21:08:09] {3190} INFO -  at 405.6s,\testimator lgbm's best error=0.5382,\tbest estimator xgb_limitdepth's best error=0.4585\n",
      "[flaml.automl: 08-07 21:08:09] {3010} INFO - iteration 355, current learner xgb_limitdepth\n",
      "[flaml.automl: 08-07 21:08:09] {3190} INFO -  at 406.2s,\testimator xgb_limitdepth's best error=0.4585,\tbest estimator xgb_limitdepth's best error=0.4585\n"
     ]
    },
    {
     "name": "stderr",
     "output_type": "stream",
     "text": [
      "[flaml.automl: 08-07 21:08:09] {3010} INFO - iteration 356, current learner xgb_limitdepth\n",
      "[flaml.automl: 08-07 21:08:12] {3190} INFO -  at 409.0s,\testimator xgb_limitdepth's best error=0.4585,\tbest estimator xgb_limitdepth's best error=0.4585\n",
      "[flaml.automl: 08-07 21:08:12] {3010} INFO - iteration 357, current learner xgboost\n",
      "[flaml.automl: 08-07 21:08:13] {3190} INFO -  at 409.5s,\testimator xgboost's best error=0.4765,\tbest estimator xgb_limitdepth's best error=0.4585\n",
      "[flaml.automl: 08-07 21:08:13] {3010} INFO - iteration 358, current learner xgboost\n",
      "[flaml.automl: 08-07 21:08:14] {3190} INFO -  at 411.1s,\testimator xgboost's best error=0.4765,\tbest estimator xgb_limitdepth's best error=0.4585\n",
      "[flaml.automl: 08-07 21:08:14] {3010} INFO - iteration 359, current learner xgb_limitdepth\n",
      "[flaml.automl: 08-07 21:08:17] {3190} INFO -  at 413.5s,\testimator xgb_limitdepth's best error=0.4585,\tbest estimator xgb_limitdepth's best error=0.4585\n",
      "[flaml.automl: 08-07 21:08:17] {3010} INFO - iteration 360, current learner xgboost\n",
      "[flaml.automl: 08-07 21:08:17] {3190} INFO -  at 414.0s,\testimator xgboost's best error=0.4765,\tbest estimator xgb_limitdepth's best error=0.4585\n",
      "[flaml.automl: 08-07 21:08:17] {3010} INFO - iteration 361, current learner xgb_limitdepth\n",
      "[flaml.automl: 08-07 21:08:19] {3190} INFO -  at 415.9s,\testimator xgb_limitdepth's best error=0.4585,\tbest estimator xgb_limitdepth's best error=0.4585\n",
      "[flaml.automl: 08-07 21:08:19] {3010} INFO - iteration 362, current learner xgboost\n",
      "[flaml.automl: 08-07 21:08:20] {3190} INFO -  at 417.1s,\testimator xgboost's best error=0.4765,\tbest estimator xgb_limitdepth's best error=0.4585\n",
      "[flaml.automl: 08-07 21:08:20] {3010} INFO - iteration 363, current learner xgb_limitdepth\n",
      "[flaml.automl: 08-07 21:08:21] {3190} INFO -  at 418.1s,\testimator xgb_limitdepth's best error=0.4585,\tbest estimator xgb_limitdepth's best error=0.4585\n",
      "[flaml.automl: 08-07 21:08:21] {3010} INFO - iteration 364, current learner xgb_limitdepth\n",
      "[flaml.automl: 08-07 21:08:25] {3190} INFO -  at 421.8s,\testimator xgb_limitdepth's best error=0.4585,\tbest estimator xgb_limitdepth's best error=0.4585\n",
      "[flaml.automl: 08-07 21:08:25] {3010} INFO - iteration 365, current learner xgboost\n",
      "[flaml.automl: 08-07 21:08:25] {3190} INFO -  at 422.1s,\testimator xgboost's best error=0.4765,\tbest estimator xgb_limitdepth's best error=0.4585\n",
      "[flaml.automl: 08-07 21:08:25] {3010} INFO - iteration 366, current learner xgboost\n",
      "[flaml.automl: 08-07 21:08:28] {3190} INFO -  at 424.4s,\testimator xgboost's best error=0.4765,\tbest estimator xgb_limitdepth's best error=0.4585\n",
      "[flaml.automl: 08-07 21:08:28] {3010} INFO - iteration 367, current learner xgb_limitdepth\n",
      "[flaml.automl: 08-07 21:08:29] {3190} INFO -  at 425.5s,\testimator xgb_limitdepth's best error=0.4585,\tbest estimator xgb_limitdepth's best error=0.4585\n",
      "[flaml.automl: 08-07 21:08:29] {3010} INFO - iteration 368, current learner xgb_limitdepth\n",
      "[flaml.automl: 08-07 21:08:31] {3190} INFO -  at 427.4s,\testimator xgb_limitdepth's best error=0.4585,\tbest estimator xgb_limitdepth's best error=0.4585\n",
      "[flaml.automl: 08-07 21:08:31] {3010} INFO - iteration 369, current learner xgb_limitdepth\n",
      "[flaml.automl: 08-07 21:08:33] {3190} INFO -  at 429.7s,\testimator xgb_limitdepth's best error=0.4585,\tbest estimator xgb_limitdepth's best error=0.4585\n",
      "[flaml.automl: 08-07 21:08:33] {3010} INFO - iteration 370, current learner xgb_limitdepth\n",
      "[flaml.automl: 08-07 21:08:34] {3190} INFO -  at 431.2s,\testimator xgb_limitdepth's best error=0.4585,\tbest estimator xgb_limitdepth's best error=0.4585\n",
      "[flaml.automl: 08-07 21:08:34] {3010} INFO - iteration 371, current learner xgb_limitdepth\n",
      "[flaml.automl: 08-07 21:08:36] {3190} INFO -  at 432.4s,\testimator xgb_limitdepth's best error=0.4585,\tbest estimator xgb_limitdepth's best error=0.4585\n",
      "[flaml.automl: 08-07 21:08:36] {3010} INFO - iteration 372, current learner xgb_limitdepth\n",
      "[flaml.automl: 08-07 21:08:37] {3190} INFO -  at 434.0s,\testimator xgb_limitdepth's best error=0.4585,\tbest estimator xgb_limitdepth's best error=0.4585\n",
      "[flaml.automl: 08-07 21:08:37] {3010} INFO - iteration 373, current learner xgb_limitdepth\n",
      "[flaml.automl: 08-07 21:08:43] {3190} INFO -  at 439.4s,\testimator xgb_limitdepth's best error=0.4585,\tbest estimator xgb_limitdepth's best error=0.4585\n",
      "[flaml.automl: 08-07 21:08:43] {3010} INFO - iteration 374, current learner xgboost\n",
      "[flaml.automl: 08-07 21:08:43] {3190} INFO -  at 439.9s,\testimator xgboost's best error=0.4765,\tbest estimator xgb_limitdepth's best error=0.4585\n",
      "[flaml.automl: 08-07 21:08:43] {3010} INFO - iteration 375, current learner xgboost\n",
      "[flaml.automl: 08-07 21:08:45] {3190} INFO -  at 441.5s,\testimator xgboost's best error=0.4765,\tbest estimator xgb_limitdepth's best error=0.4585\n",
      "[flaml.automl: 08-07 21:08:45] {3010} INFO - iteration 376, current learner lgbm\n",
      "[flaml.automl: 08-07 21:08:46] {3190} INFO -  at 443.2s,\testimator lgbm's best error=0.5328,\tbest estimator xgb_limitdepth's best error=0.4585\n",
      "[flaml.automl: 08-07 21:08:46] {3010} INFO - iteration 377, current learner lgbm\n",
      "[flaml.automl: 08-07 21:08:47] {3190} INFO -  at 443.8s,\testimator lgbm's best error=0.5328,\tbest estimator xgb_limitdepth's best error=0.4585\n",
      "[flaml.automl: 08-07 21:08:47] {3010} INFO - iteration 378, current learner xgb_limitdepth\n",
      "[flaml.automl: 08-07 21:08:48] {3190} INFO -  at 444.6s,\testimator xgb_limitdepth's best error=0.4585,\tbest estimator xgb_limitdepth's best error=0.4585\n",
      "[flaml.automl: 08-07 21:08:48] {3010} INFO - iteration 379, current learner lgbm\n",
      "[flaml.automl: 08-07 21:08:53] {3190} INFO -  at 450.1s,\testimator lgbm's best error=0.5328,\tbest estimator xgb_limitdepth's best error=0.4585\n",
      "[flaml.automl: 08-07 21:08:53] {3010} INFO - iteration 380, current learner xgboost\n",
      "[flaml.automl: 08-07 21:08:54] {3190} INFO -  at 450.7s,\testimator xgboost's best error=0.4765,\tbest estimator xgb_limitdepth's best error=0.4585\n",
      "[flaml.automl: 08-07 21:08:54] {3010} INFO - iteration 381, current learner xgb_limitdepth\n",
      "[flaml.automl: 08-07 21:08:55] {3190} INFO -  at 452.0s,\testimator xgb_limitdepth's best error=0.4585,\tbest estimator xgb_limitdepth's best error=0.4585\n",
      "[flaml.automl: 08-07 21:08:55] {3010} INFO - iteration 382, current learner xgb_limitdepth\n",
      "[flaml.automl: 08-07 21:08:57] {3190} INFO -  at 453.9s,\testimator xgb_limitdepth's best error=0.4585,\tbest estimator xgb_limitdepth's best error=0.4585\n",
      "[flaml.automl: 08-07 21:08:57] {3010} INFO - iteration 383, current learner xgb_limitdepth\n",
      "[flaml.automl: 08-07 21:09:00] {3190} INFO -  at 456.6s,\testimator xgb_limitdepth's best error=0.4585,\tbest estimator xgb_limitdepth's best error=0.4585\n",
      "[flaml.automl: 08-07 21:09:00] {3010} INFO - iteration 384, current learner rf\n",
      "[flaml.automl: 08-07 21:09:01] {3190} INFO -  at 457.9s,\testimator rf's best error=0.5043,\tbest estimator xgb_limitdepth's best error=0.4585\n",
      "[flaml.automl: 08-07 21:09:01] {3010} INFO - iteration 385, current learner xgboost\n",
      "[flaml.automl: 08-07 21:09:02] {3190} INFO -  at 458.7s,\testimator xgboost's best error=0.4765,\tbest estimator xgb_limitdepth's best error=0.4585\n",
      "[flaml.automl: 08-07 21:09:02] {3010} INFO - iteration 386, current learner xgb_limitdepth\n",
      "[flaml.automl: 08-07 21:09:04] {3190} INFO -  at 460.5s,\testimator xgb_limitdepth's best error=0.4585,\tbest estimator xgb_limitdepth's best error=0.4585\n",
      "[flaml.automl: 08-07 21:09:04] {3010} INFO - iteration 387, current learner xgb_limitdepth\n",
      "[flaml.automl: 08-07 21:09:06] {3190} INFO -  at 462.3s,\testimator xgb_limitdepth's best error=0.4585,\tbest estimator xgb_limitdepth's best error=0.4585\n",
      "[flaml.automl: 08-07 21:09:06] {3010} INFO - iteration 388, current learner rf\n",
      "[flaml.automl: 08-07 21:09:07] {3190} INFO -  at 464.0s,\testimator rf's best error=0.5043,\tbest estimator xgb_limitdepth's best error=0.4585\n",
      "[flaml.automl: 08-07 21:09:07] {3010} INFO - iteration 389, current learner xgboost\n",
      "[flaml.automl: 08-07 21:09:08] {3190} INFO -  at 464.3s,\testimator xgboost's best error=0.4765,\tbest estimator xgb_limitdepth's best error=0.4585\n",
      "[flaml.automl: 08-07 21:09:08] {3010} INFO - iteration 390, current learner xgboost\n",
      "[flaml.automl: 08-07 21:09:11] {3190} INFO -  at 467.8s,\testimator xgboost's best error=0.4765,\tbest estimator xgb_limitdepth's best error=0.4585\n"
     ]
    },
    {
     "name": "stderr",
     "output_type": "stream",
     "text": [
      "[flaml.automl: 08-07 21:09:11] {3010} INFO - iteration 391, current learner xgb_limitdepth\n",
      "[flaml.automl: 08-07 21:09:13] {3190} INFO -  at 469.6s,\testimator xgb_limitdepth's best error=0.4585,\tbest estimator xgb_limitdepth's best error=0.4585\n",
      "[flaml.automl: 08-07 21:09:13] {3010} INFO - iteration 392, current learner xgboost\n",
      "[flaml.automl: 08-07 21:09:14] {3190} INFO -  at 470.2s,\testimator xgboost's best error=0.4765,\tbest estimator xgb_limitdepth's best error=0.4585\n",
      "[flaml.automl: 08-07 21:09:14] {3010} INFO - iteration 393, current learner lgbm\n",
      "[flaml.automl: 08-07 21:09:14] {3190} INFO -  at 470.8s,\testimator lgbm's best error=0.5328,\tbest estimator xgb_limitdepth's best error=0.4585\n",
      "[flaml.automl: 08-07 21:09:14] {3010} INFO - iteration 394, current learner xgboost\n",
      "[flaml.automl: 08-07 21:09:16] {3190} INFO -  at 472.4s,\testimator xgboost's best error=0.4765,\tbest estimator xgb_limitdepth's best error=0.4585\n",
      "[flaml.automl: 08-07 21:09:16] {3010} INFO - iteration 395, current learner rf\n",
      "[flaml.automl: 08-07 21:09:18] {3190} INFO -  at 474.8s,\testimator rf's best error=0.5043,\tbest estimator xgb_limitdepth's best error=0.4585\n",
      "[flaml.automl: 08-07 21:09:18] {3010} INFO - iteration 396, current learner xgb_limitdepth\n",
      "[flaml.automl: 08-07 21:09:20] {3190} INFO -  at 476.8s,\testimator xgb_limitdepth's best error=0.4585,\tbest estimator xgb_limitdepth's best error=0.4585\n",
      "[flaml.automl: 08-07 21:09:20] {3010} INFO - iteration 397, current learner xgboost\n",
      "[flaml.automl: 08-07 21:09:20] {3190} INFO -  at 477.0s,\testimator xgboost's best error=0.4765,\tbest estimator xgb_limitdepth's best error=0.4585\n",
      "[flaml.automl: 08-07 21:09:20] {3010} INFO - iteration 398, current learner lgbm\n",
      "[flaml.automl: 08-07 21:09:22] {3190} INFO -  at 478.6s,\testimator lgbm's best error=0.5328,\tbest estimator xgb_limitdepth's best error=0.4585\n",
      "[flaml.automl: 08-07 21:09:22] {3010} INFO - iteration 399, current learner xgb_limitdepth\n",
      "[flaml.automl: 08-07 21:09:23] {3190} INFO -  at 479.9s,\testimator xgb_limitdepth's best error=0.4585,\tbest estimator xgb_limitdepth's best error=0.4585\n",
      "[flaml.automl: 08-07 21:09:23] {3010} INFO - iteration 400, current learner xgb_limitdepth\n",
      "[flaml.automl: 08-07 21:09:25] {3190} INFO -  at 482.0s,\testimator xgb_limitdepth's best error=0.4585,\tbest estimator xgb_limitdepth's best error=0.4585\n",
      "[flaml.automl: 08-07 21:09:25] {3010} INFO - iteration 401, current learner xgboost\n",
      "[flaml.automl: 08-07 21:09:26] {3190} INFO -  at 483.2s,\testimator xgboost's best error=0.4765,\tbest estimator xgb_limitdepth's best error=0.4585\n",
      "[flaml.automl: 08-07 21:09:26] {3010} INFO - iteration 402, current learner xgb_limitdepth\n",
      "[flaml.automl: 08-07 21:09:28] {3190} INFO -  at 485.0s,\testimator xgb_limitdepth's best error=0.4585,\tbest estimator xgb_limitdepth's best error=0.4585\n",
      "[flaml.automl: 08-07 21:09:28] {3010} INFO - iteration 403, current learner xgboost\n",
      "[flaml.automl: 08-07 21:09:30] {3190} INFO -  at 486.5s,\testimator xgboost's best error=0.4765,\tbest estimator xgb_limitdepth's best error=0.4585\n",
      "[flaml.automl: 08-07 21:09:30] {3010} INFO - iteration 404, current learner xgb_limitdepth\n",
      "[flaml.automl: 08-07 21:09:30] {3190} INFO -  at 487.2s,\testimator xgb_limitdepth's best error=0.4585,\tbest estimator xgb_limitdepth's best error=0.4585\n",
      "[flaml.automl: 08-07 21:09:30] {3010} INFO - iteration 405, current learner xgb_limitdepth\n",
      "[flaml.automl: 08-07 21:09:34] {3190} INFO -  at 491.2s,\testimator xgb_limitdepth's best error=0.4585,\tbest estimator xgb_limitdepth's best error=0.4585\n",
      "[flaml.automl: 08-07 21:09:34] {3010} INFO - iteration 406, current learner xgb_limitdepth\n",
      "[flaml.automl: 08-07 21:09:36] {3190} INFO -  at 492.7s,\testimator xgb_limitdepth's best error=0.4585,\tbest estimator xgb_limitdepth's best error=0.4585\n",
      "[flaml.automl: 08-07 21:09:36] {3010} INFO - iteration 407, current learner lgbm\n",
      "[flaml.automl: 08-07 21:09:37] {3190} INFO -  at 494.1s,\testimator lgbm's best error=0.5328,\tbest estimator xgb_limitdepth's best error=0.4585\n",
      "[flaml.automl: 08-07 21:09:37] {3010} INFO - iteration 408, current learner xgb_limitdepth\n",
      "[flaml.automl: 08-07 21:09:41] {3190} INFO -  at 497.2s,\testimator xgb_limitdepth's best error=0.4585,\tbest estimator xgb_limitdepth's best error=0.4585\n",
      "[flaml.automl: 08-07 21:09:41] {3010} INFO - iteration 409, current learner xgboost\n",
      "[flaml.automl: 08-07 21:09:41] {3190} INFO -  at 498.0s,\testimator xgboost's best error=0.4765,\tbest estimator xgb_limitdepth's best error=0.4585\n",
      "[flaml.automl: 08-07 21:09:41] {3010} INFO - iteration 410, current learner xgb_limitdepth\n",
      "[flaml.automl: 08-07 21:09:44] {3190} INFO -  at 500.5s,\testimator xgb_limitdepth's best error=0.4585,\tbest estimator xgb_limitdepth's best error=0.4585\n",
      "[flaml.automl: 08-07 21:09:44] {3010} INFO - iteration 411, current learner rf\n",
      "[flaml.automl: 08-07 21:09:45] {3190} INFO -  at 501.9s,\testimator rf's best error=0.5043,\tbest estimator xgb_limitdepth's best error=0.4585\n",
      "[flaml.automl: 08-07 21:09:45] {3010} INFO - iteration 412, current learner xgboost\n",
      "[flaml.automl: 08-07 21:09:46] {3190} INFO -  at 502.3s,\testimator xgboost's best error=0.4765,\tbest estimator xgb_limitdepth's best error=0.4585\n",
      "[flaml.automl: 08-07 21:09:46] {3010} INFO - iteration 413, current learner lgbm\n",
      "[flaml.automl: 08-07 21:09:47] {3190} INFO -  at 504.0s,\testimator lgbm's best error=0.5328,\tbest estimator xgb_limitdepth's best error=0.4585\n",
      "[flaml.automl: 08-07 21:09:47] {3010} INFO - iteration 414, current learner xgboost\n",
      "[flaml.automl: 08-07 21:09:50] {3190} INFO -  at 506.2s,\testimator xgboost's best error=0.4765,\tbest estimator xgb_limitdepth's best error=0.4585\n",
      "[flaml.automl: 08-07 21:09:50] {3010} INFO - iteration 415, current learner lgbm\n",
      "[flaml.automl: 08-07 21:09:51] {3190} INFO -  at 507.8s,\testimator lgbm's best error=0.5328,\tbest estimator xgb_limitdepth's best error=0.4585\n",
      "[flaml.automl: 08-07 21:09:51] {3010} INFO - iteration 416, current learner xgb_limitdepth\n",
      "[flaml.automl: 08-07 21:09:53] {3190} INFO -  at 509.4s,\testimator xgb_limitdepth's best error=0.4585,\tbest estimator xgb_limitdepth's best error=0.4585\n",
      "[flaml.automl: 08-07 21:09:53] {3010} INFO - iteration 417, current learner xgb_limitdepth\n",
      "[flaml.automl: 08-07 21:09:54] {3190} INFO -  at 511.1s,\testimator xgb_limitdepth's best error=0.4585,\tbest estimator xgb_limitdepth's best error=0.4585\n",
      "[flaml.automl: 08-07 21:09:54] {3010} INFO - iteration 418, current learner xgb_limitdepth\n",
      "[flaml.automl: 08-07 21:09:55] {3190} INFO -  at 512.0s,\testimator xgb_limitdepth's best error=0.4585,\tbest estimator xgb_limitdepth's best error=0.4585\n",
      "[flaml.automl: 08-07 21:09:55] {3010} INFO - iteration 419, current learner xgb_limitdepth\n",
      "[flaml.automl: 08-07 21:09:58] {3190} INFO -  at 514.9s,\testimator xgb_limitdepth's best error=0.4585,\tbest estimator xgb_limitdepth's best error=0.4585\n",
      "[flaml.automl: 08-07 21:09:58] {3010} INFO - iteration 420, current learner xgboost\n",
      "[flaml.automl: 08-07 21:09:58] {3190} INFO -  at 515.1s,\testimator xgboost's best error=0.4765,\tbest estimator xgb_limitdepth's best error=0.4585\n",
      "[flaml.automl: 08-07 21:09:58] {3010} INFO - iteration 421, current learner xgb_limitdepth\n",
      "[flaml.automl: 08-07 21:10:00] {3190} INFO -  at 516.8s,\testimator xgb_limitdepth's best error=0.4585,\tbest estimator xgb_limitdepth's best error=0.4585\n",
      "[flaml.automl: 08-07 21:10:00] {3010} INFO - iteration 422, current learner xgboost\n",
      "[flaml.automl: 08-07 21:10:01] {3190} INFO -  at 518.1s,\testimator xgboost's best error=0.4765,\tbest estimator xgb_limitdepth's best error=0.4585\n",
      "[flaml.automl: 08-07 21:10:01] {3010} INFO - iteration 423, current learner xgb_limitdepth\n",
      "[flaml.automl: 08-07 21:10:07] {3190} INFO -  at 523.3s,\testimator xgb_limitdepth's best error=0.4585,\tbest estimator xgb_limitdepth's best error=0.4585\n",
      "[flaml.automl: 08-07 21:10:07] {3010} INFO - iteration 424, current learner xgb_limitdepth\n",
      "[flaml.automl: 08-07 21:10:08] {3190} INFO -  at 524.2s,\testimator xgb_limitdepth's best error=0.4585,\tbest estimator xgb_limitdepth's best error=0.4585\n",
      "[flaml.automl: 08-07 21:10:08] {3010} INFO - iteration 425, current learner lgbm\n",
      "[flaml.automl: 08-07 21:10:08] {3190} INFO -  at 524.8s,\testimator lgbm's best error=0.5328,\tbest estimator xgb_limitdepth's best error=0.4585\n"
     ]
    },
    {
     "name": "stderr",
     "output_type": "stream",
     "text": [
      "[flaml.automl: 08-07 21:10:08] {3010} INFO - iteration 426, current learner lgbm\n",
      "[flaml.automl: 08-07 21:10:11] {3190} INFO -  at 528.1s,\testimator lgbm's best error=0.5328,\tbest estimator xgb_limitdepth's best error=0.4585\n",
      "[flaml.automl: 08-07 21:10:11] {3010} INFO - iteration 427, current learner lgbm\n",
      "[flaml.automl: 08-07 21:10:17] {3190} INFO -  at 534.1s,\testimator lgbm's best error=0.5328,\tbest estimator xgb_limitdepth's best error=0.4585\n",
      "[flaml.automl: 08-07 21:10:17] {3010} INFO - iteration 428, current learner lgbm\n",
      "[flaml.automl: 08-07 21:10:18] {3190} INFO -  at 534.6s,\testimator lgbm's best error=0.5202,\tbest estimator xgb_limitdepth's best error=0.4585\n",
      "[flaml.automl: 08-07 21:10:18] {3010} INFO - iteration 429, current learner xgboost\n",
      "[flaml.automl: 08-07 21:10:19] {3190} INFO -  at 535.7s,\testimator xgboost's best error=0.4765,\tbest estimator xgb_limitdepth's best error=0.4585\n",
      "[flaml.automl: 08-07 21:10:19] {3010} INFO - iteration 430, current learner lgbm\n",
      "[flaml.automl: 08-07 21:10:20] {3190} INFO -  at 536.5s,\testimator lgbm's best error=0.5202,\tbest estimator xgb_limitdepth's best error=0.4585\n",
      "[flaml.automl: 08-07 21:10:20] {3010} INFO - iteration 431, current learner lgbm\n",
      "[flaml.automl: 08-07 21:10:20] {3190} INFO -  at 536.8s,\testimator lgbm's best error=0.5202,\tbest estimator xgb_limitdepth's best error=0.4585\n",
      "[flaml.automl: 08-07 21:10:20] {3010} INFO - iteration 432, current learner xgb_limitdepth\n",
      "[flaml.automl: 08-07 21:10:22] {3190} INFO -  at 538.8s,\testimator xgb_limitdepth's best error=0.4585,\tbest estimator xgb_limitdepth's best error=0.4585\n",
      "[flaml.automl: 08-07 21:10:22] {3010} INFO - iteration 433, current learner xgboost\n",
      "[flaml.automl: 08-07 21:10:23] {3190} INFO -  at 539.4s,\testimator xgboost's best error=0.4765,\tbest estimator xgb_limitdepth's best error=0.4585\n",
      "[flaml.automl: 08-07 21:10:23] {3010} INFO - iteration 434, current learner xgb_limitdepth\n",
      "[flaml.automl: 08-07 21:10:24] {3190} INFO -  at 541.1s,\testimator xgb_limitdepth's best error=0.4585,\tbest estimator xgb_limitdepth's best error=0.4585\n",
      "[flaml.automl: 08-07 21:10:24] {3010} INFO - iteration 435, current learner xgboost\n",
      "[flaml.automl: 08-07 21:10:25] {3190} INFO -  at 541.5s,\testimator xgboost's best error=0.4765,\tbest estimator xgb_limitdepth's best error=0.4585\n",
      "[flaml.automl: 08-07 21:10:25] {3010} INFO - iteration 436, current learner xgboost\n",
      "[flaml.automl: 08-07 21:10:26] {3190} INFO -  at 543.1s,\testimator xgboost's best error=0.4765,\tbest estimator xgb_limitdepth's best error=0.4585\n",
      "[flaml.automl: 08-07 21:10:26] {3010} INFO - iteration 437, current learner xgboost\n",
      "[flaml.automl: 08-07 21:10:29] {3190} INFO -  at 545.3s,\testimator xgboost's best error=0.4765,\tbest estimator xgb_limitdepth's best error=0.4585\n",
      "[flaml.automl: 08-07 21:10:29] {3010} INFO - iteration 438, current learner xgboost\n",
      "[flaml.automl: 08-07 21:10:29] {3190} INFO -  at 545.6s,\testimator xgboost's best error=0.4765,\tbest estimator xgb_limitdepth's best error=0.4585\n",
      "[flaml.automl: 08-07 21:10:29] {3010} INFO - iteration 439, current learner xgb_limitdepth\n",
      "[flaml.automl: 08-07 21:10:30] {3190} INFO -  at 547.0s,\testimator xgb_limitdepth's best error=0.4585,\tbest estimator xgb_limitdepth's best error=0.4585\n",
      "[flaml.automl: 08-07 21:10:30] {3010} INFO - iteration 440, current learner xgboost\n",
      "[flaml.automl: 08-07 21:10:31] {3190} INFO -  at 547.3s,\testimator xgboost's best error=0.4765,\tbest estimator xgb_limitdepth's best error=0.4585\n",
      "[flaml.automl: 08-07 21:10:31] {3010} INFO - iteration 441, current learner xgb_limitdepth\n",
      "[flaml.automl: 08-07 21:10:32] {3190} INFO -  at 548.8s,\testimator xgb_limitdepth's best error=0.4585,\tbest estimator xgb_limitdepth's best error=0.4585\n",
      "[flaml.automl: 08-07 21:10:32] {3010} INFO - iteration 442, current learner lgbm\n",
      "[flaml.automl: 08-07 21:10:32] {3190} INFO -  at 549.2s,\testimator lgbm's best error=0.5202,\tbest estimator xgb_limitdepth's best error=0.4585\n",
      "[flaml.automl: 08-07 21:10:32] {3010} INFO - iteration 443, current learner xgb_limitdepth\n",
      "[flaml.automl: 08-07 21:10:34] {3190} INFO -  at 551.1s,\testimator xgb_limitdepth's best error=0.4585,\tbest estimator xgb_limitdepth's best error=0.4585\n",
      "[flaml.automl: 08-07 21:10:34] {3010} INFO - iteration 444, current learner lgbm\n",
      "[flaml.automl: 08-07 21:10:35] {3190} INFO -  at 551.7s,\testimator lgbm's best error=0.5202,\tbest estimator xgb_limitdepth's best error=0.4585\n",
      "[flaml.automl: 08-07 21:10:35] {3010} INFO - iteration 445, current learner xgb_limitdepth\n",
      "[flaml.automl: 08-07 21:10:37] {3190} INFO -  at 554.1s,\testimator xgb_limitdepth's best error=0.4585,\tbest estimator xgb_limitdepth's best error=0.4585\n",
      "[flaml.automl: 08-07 21:10:37] {3010} INFO - iteration 446, current learner lgbm\n",
      "[flaml.automl: 08-07 21:10:38] {3190} INFO -  at 554.4s,\testimator lgbm's best error=0.5202,\tbest estimator xgb_limitdepth's best error=0.4585\n",
      "[flaml.automl: 08-07 21:10:38] {3010} INFO - iteration 447, current learner xgboost\n",
      "[flaml.automl: 08-07 21:10:38] {3190} INFO -  at 555.2s,\testimator xgboost's best error=0.4765,\tbest estimator xgb_limitdepth's best error=0.4585\n",
      "[flaml.automl: 08-07 21:10:38] {3010} INFO - iteration 448, current learner lgbm\n",
      "[flaml.automl: 08-07 21:10:39] {3190} INFO -  at 556.0s,\testimator lgbm's best error=0.5202,\tbest estimator xgb_limitdepth's best error=0.4585\n",
      "[flaml.automl: 08-07 21:10:39] {3010} INFO - iteration 449, current learner xgb_limitdepth\n",
      "[flaml.automl: 08-07 21:10:41] {3190} INFO -  at 557.4s,\testimator xgb_limitdepth's best error=0.4585,\tbest estimator xgb_limitdepth's best error=0.4585\n",
      "[flaml.automl: 08-07 21:10:41] {3010} INFO - iteration 450, current learner xgb_limitdepth\n",
      "[flaml.automl: 08-07 21:10:44] {3190} INFO -  at 561.0s,\testimator xgb_limitdepth's best error=0.4585,\tbest estimator xgb_limitdepth's best error=0.4585\n",
      "[flaml.automl: 08-07 21:10:44] {3010} INFO - iteration 451, current learner xgb_limitdepth\n",
      "[flaml.automl: 08-07 21:10:47] {3190} INFO -  at 563.3s,\testimator xgb_limitdepth's best error=0.4585,\tbest estimator xgb_limitdepth's best error=0.4585\n",
      "[flaml.automl: 08-07 21:10:47] {3010} INFO - iteration 452, current learner xgb_limitdepth\n",
      "[flaml.automl: 08-07 21:10:48] {3190} INFO -  at 565.1s,\testimator xgb_limitdepth's best error=0.4585,\tbest estimator xgb_limitdepth's best error=0.4585\n",
      "[flaml.automl: 08-07 21:10:48] {3010} INFO - iteration 453, current learner lgbm\n",
      "[flaml.automl: 08-07 21:10:50] {3190} INFO -  at 566.6s,\testimator lgbm's best error=0.5104,\tbest estimator xgb_limitdepth's best error=0.4585\n",
      "[flaml.automl: 08-07 21:10:50] {3010} INFO - iteration 454, current learner lgbm\n",
      "[flaml.automl: 08-07 21:10:50] {3190} INFO -  at 567.2s,\testimator lgbm's best error=0.5104,\tbest estimator xgb_limitdepth's best error=0.4585\n",
      "[flaml.automl: 08-07 21:10:50] {3010} INFO - iteration 455, current learner lgbm\n",
      "[flaml.automl: 08-07 21:10:52] {3190} INFO -  at 569.1s,\testimator lgbm's best error=0.5104,\tbest estimator xgb_limitdepth's best error=0.4585\n",
      "[flaml.automl: 08-07 21:10:52] {3010} INFO - iteration 456, current learner rf\n",
      "[flaml.automl: 08-07 21:10:55] {3190} INFO -  at 572.2s,\testimator rf's best error=0.5043,\tbest estimator xgb_limitdepth's best error=0.4585\n",
      "[flaml.automl: 08-07 21:10:55] {3010} INFO - iteration 457, current learner xgb_limitdepth\n",
      "[flaml.automl: 08-07 21:10:59] {3190} INFO -  at 575.5s,\testimator xgb_limitdepth's best error=0.4585,\tbest estimator xgb_limitdepth's best error=0.4585\n",
      "[flaml.automl: 08-07 21:10:59] {3010} INFO - iteration 458, current learner xgb_limitdepth\n",
      "[flaml.automl: 08-07 21:11:00] {3190} INFO -  at 576.8s,\testimator xgb_limitdepth's best error=0.4585,\tbest estimator xgb_limitdepth's best error=0.4585\n",
      "[flaml.automl: 08-07 21:11:00] {3010} INFO - iteration 459, current learner xgboost\n",
      "[flaml.automl: 08-07 21:11:01] {3190} INFO -  at 578.0s,\testimator xgboost's best error=0.4765,\tbest estimator xgb_limitdepth's best error=0.4585\n",
      "[flaml.automl: 08-07 21:11:01] {3010} INFO - iteration 460, current learner xgboost\n",
      "[flaml.automl: 08-07 21:11:02] {3190} INFO -  at 578.7s,\testimator xgboost's best error=0.4765,\tbest estimator xgb_limitdepth's best error=0.4585\n",
      "[flaml.automl: 08-07 21:11:02] {3010} INFO - iteration 461, current learner xgb_limitdepth\n"
     ]
    },
    {
     "name": "stderr",
     "output_type": "stream",
     "text": [
      "[flaml.automl: 08-07 21:11:04] {3190} INFO -  at 580.5s,\testimator xgb_limitdepth's best error=0.4585,\tbest estimator xgb_limitdepth's best error=0.4585\n",
      "[flaml.automl: 08-07 21:11:04] {3010} INFO - iteration 462, current learner lgbm\n",
      "[flaml.automl: 08-07 21:11:05] {3190} INFO -  at 581.6s,\testimator lgbm's best error=0.5104,\tbest estimator xgb_limitdepth's best error=0.4585\n",
      "[flaml.automl: 08-07 21:11:05] {3010} INFO - iteration 463, current learner lgbm\n",
      "[flaml.automl: 08-07 21:11:05] {3190} INFO -  at 582.0s,\testimator lgbm's best error=0.5104,\tbest estimator xgb_limitdepth's best error=0.4585\n",
      "[flaml.automl: 08-07 21:11:05] {3010} INFO - iteration 464, current learner lgbm\n",
      "[flaml.automl: 08-07 21:11:12] {3190} INFO -  at 588.6s,\testimator lgbm's best error=0.5104,\tbest estimator xgb_limitdepth's best error=0.4585\n",
      "[flaml.automl: 08-07 21:11:12] {3010} INFO - iteration 465, current learner lgbm\n",
      "[flaml.automl: 08-07 21:11:16] {3190} INFO -  at 592.7s,\testimator lgbm's best error=0.5104,\tbest estimator xgb_limitdepth's best error=0.4585\n",
      "[flaml.automl: 08-07 21:11:16] {3010} INFO - iteration 466, current learner xgb_limitdepth\n",
      "[flaml.automl: 08-07 21:11:18] {3190} INFO -  at 594.7s,\testimator xgb_limitdepth's best error=0.4585,\tbest estimator xgb_limitdepth's best error=0.4585\n",
      "[flaml.automl: 08-07 21:11:18] {3010} INFO - iteration 467, current learner lgbm\n",
      "[flaml.automl: 08-07 21:11:19] {3190} INFO -  at 595.4s,\testimator lgbm's best error=0.5104,\tbest estimator xgb_limitdepth's best error=0.4585\n",
      "[flaml.automl: 08-07 21:11:19] {3010} INFO - iteration 468, current learner lgbm\n",
      "[flaml.automl: 08-07 21:11:19] {3190} INFO -  at 595.9s,\testimator lgbm's best error=0.5104,\tbest estimator xgb_limitdepth's best error=0.4585\n",
      "[flaml.automl: 08-07 21:11:19] {3010} INFO - iteration 469, current learner xgb_limitdepth\n",
      "[flaml.automl: 08-07 21:11:21] {3190} INFO -  at 597.9s,\testimator xgb_limitdepth's best error=0.4585,\tbest estimator xgb_limitdepth's best error=0.4585\n",
      "[flaml.automl: 08-07 21:11:21] {3010} INFO - iteration 470, current learner lgbm\n",
      "[flaml.automl: 08-07 21:11:26] {3190} INFO -  at 602.5s,\testimator lgbm's best error=0.5104,\tbest estimator xgb_limitdepth's best error=0.4585\n",
      "[flaml.automl: 08-07 21:11:26] {3010} INFO - iteration 471, current learner xgb_limitdepth\n",
      "[flaml.automl: 08-07 21:11:28] {3190} INFO -  at 604.7s,\testimator xgb_limitdepth's best error=0.4585,\tbest estimator xgb_limitdepth's best error=0.4585\n",
      "[flaml.automl: 08-07 21:11:28] {3010} INFO - iteration 472, current learner lgbm\n",
      "[flaml.automl: 08-07 21:11:31] {3190} INFO -  at 607.8s,\testimator lgbm's best error=0.5104,\tbest estimator xgb_limitdepth's best error=0.4585\n",
      "[flaml.automl: 08-07 21:11:31] {3010} INFO - iteration 473, current learner xgboost\n",
      "[flaml.automl: 08-07 21:11:34] {3190} INFO -  at 610.3s,\testimator xgboost's best error=0.4765,\tbest estimator xgb_limitdepth's best error=0.4585\n",
      "[flaml.automl: 08-07 21:11:34] {3010} INFO - iteration 474, current learner rf\n",
      "[flaml.automl: 08-07 21:11:36] {3190} INFO -  at 612.8s,\testimator rf's best error=0.5043,\tbest estimator xgb_limitdepth's best error=0.4585\n",
      "[flaml.automl: 08-07 21:11:36] {3010} INFO - iteration 475, current learner xgb_limitdepth\n",
      "[flaml.automl: 08-07 21:11:40] {3190} INFO -  at 616.3s,\testimator xgb_limitdepth's best error=0.4585,\tbest estimator xgb_limitdepth's best error=0.4585\n",
      "[flaml.automl: 08-07 21:11:40] {3010} INFO - iteration 476, current learner xgboost\n",
      "[flaml.automl: 08-07 21:11:40] {3190} INFO -  at 616.8s,\testimator xgboost's best error=0.4765,\tbest estimator xgb_limitdepth's best error=0.4585\n",
      "[flaml.automl: 08-07 21:11:40] {3010} INFO - iteration 477, current learner xgboost\n",
      "[flaml.automl: 08-07 21:11:42] {3190} INFO -  at 618.9s,\testimator xgboost's best error=0.4765,\tbest estimator xgb_limitdepth's best error=0.4585\n",
      "[flaml.automl: 08-07 21:11:42] {3010} INFO - iteration 478, current learner xgboost\n",
      "[flaml.automl: 08-07 21:11:43] {3190} INFO -  at 619.3s,\testimator xgboost's best error=0.4765,\tbest estimator xgb_limitdepth's best error=0.4585\n",
      "[flaml.automl: 08-07 21:11:43] {3010} INFO - iteration 479, current learner xgb_limitdepth\n",
      "[flaml.automl: 08-07 21:11:44] {3190} INFO -  at 620.6s,\testimator xgb_limitdepth's best error=0.4585,\tbest estimator xgb_limitdepth's best error=0.4585\n",
      "[flaml.automl: 08-07 21:11:44] {3010} INFO - iteration 480, current learner lgbm\n",
      "[flaml.automl: 08-07 21:11:45] {3190} INFO -  at 621.4s,\testimator lgbm's best error=0.5104,\tbest estimator xgb_limitdepth's best error=0.4585\n",
      "[flaml.automl: 08-07 21:11:45] {3010} INFO - iteration 481, current learner xgb_limitdepth\n",
      "[flaml.automl: 08-07 21:11:47] {3190} INFO -  at 623.8s,\testimator xgb_limitdepth's best error=0.4585,\tbest estimator xgb_limitdepth's best error=0.4585\n",
      "[flaml.automl: 08-07 21:11:47] {3010} INFO - iteration 482, current learner xgb_limitdepth\n",
      "[flaml.automl: 08-07 21:11:48] {3190} INFO -  at 625.0s,\testimator xgb_limitdepth's best error=0.4585,\tbest estimator xgb_limitdepth's best error=0.4585\n",
      "[flaml.automl: 08-07 21:11:48] {3010} INFO - iteration 483, current learner lgbm\n",
      "[flaml.automl: 08-07 21:11:54] {3190} INFO -  at 630.4s,\testimator lgbm's best error=0.5104,\tbest estimator xgb_limitdepth's best error=0.4585\n",
      "[flaml.automl: 08-07 21:11:54] {3010} INFO - iteration 484, current learner xgboost\n",
      "[flaml.automl: 08-07 21:11:54] {3190} INFO -  at 631.0s,\testimator xgboost's best error=0.4765,\tbest estimator xgb_limitdepth's best error=0.4585\n",
      "[flaml.automl: 08-07 21:11:54] {3010} INFO - iteration 485, current learner xgboost\n",
      "[flaml.automl: 08-07 21:11:55] {3190} INFO -  at 632.1s,\testimator xgboost's best error=0.4765,\tbest estimator xgb_limitdepth's best error=0.4585\n",
      "[flaml.automl: 08-07 21:11:55] {3010} INFO - iteration 486, current learner xgb_limitdepth\n",
      "[flaml.automl: 08-07 21:11:56] {3190} INFO -  at 632.8s,\testimator xgb_limitdepth's best error=0.4585,\tbest estimator xgb_limitdepth's best error=0.4585\n",
      "[flaml.automl: 08-07 21:11:56] {3010} INFO - iteration 487, current learner xgboost\n",
      "[flaml.automl: 08-07 21:11:56] {3190} INFO -  at 633.0s,\testimator xgboost's best error=0.4765,\tbest estimator xgb_limitdepth's best error=0.4585\n",
      "[flaml.automl: 08-07 21:11:56] {3010} INFO - iteration 488, current learner xgb_limitdepth\n",
      "[flaml.automl: 08-07 21:12:01] {3190} INFO -  at 638.1s,\testimator xgb_limitdepth's best error=0.4585,\tbest estimator xgb_limitdepth's best error=0.4585\n",
      "[flaml.automl: 08-07 21:12:01] {3010} INFO - iteration 489, current learner xgboost\n",
      "[flaml.automl: 08-07 21:12:04] {3190} INFO -  at 641.0s,\testimator xgboost's best error=0.4765,\tbest estimator xgb_limitdepth's best error=0.4585\n",
      "[flaml.automl: 08-07 21:12:04] {3010} INFO - iteration 490, current learner xgb_limitdepth\n",
      "[flaml.automl: 08-07 21:12:06] {3190} INFO -  at 642.9s,\testimator xgb_limitdepth's best error=0.4585,\tbest estimator xgb_limitdepth's best error=0.4585\n",
      "[flaml.automl: 08-07 21:12:06] {3010} INFO - iteration 491, current learner rf\n",
      "[flaml.automl: 08-07 21:12:08] {3190} INFO -  at 644.5s,\testimator rf's best error=0.5043,\tbest estimator xgb_limitdepth's best error=0.4585\n",
      "[flaml.automl: 08-07 21:12:08] {3010} INFO - iteration 492, current learner lgbm\n",
      "[flaml.automl: 08-07 21:12:08] {3190} INFO -  at 645.0s,\testimator lgbm's best error=0.5104,\tbest estimator xgb_limitdepth's best error=0.4585\n",
      "[flaml.automl: 08-07 21:12:08] {3010} INFO - iteration 493, current learner extra_tree\n",
      "[flaml.automl: 08-07 21:12:10] {3190} INFO -  at 646.5s,\testimator extra_tree's best error=0.4937,\tbest estimator xgb_limitdepth's best error=0.4585\n",
      "[flaml.automl: 08-07 21:12:10] {3010} INFO - iteration 494, current learner rf\n",
      "[flaml.automl: 08-07 21:12:13] {3190} INFO -  at 650.0s,\testimator rf's best error=0.5043,\tbest estimator xgb_limitdepth's best error=0.4585\n",
      "[flaml.automl: 08-07 21:12:13] {3010} INFO - iteration 495, current learner xgboost\n",
      "[flaml.automl: 08-07 21:12:14] {3190} INFO -  at 650.6s,\testimator xgboost's best error=0.4765,\tbest estimator xgb_limitdepth's best error=0.4585\n",
      "[flaml.automl: 08-07 21:12:14] {3010} INFO - iteration 496, current learner xgb_limitdepth\n",
      "[flaml.automl: 08-07 21:12:16] {3190} INFO -  at 652.3s,\testimator xgb_limitdepth's best error=0.4585,\tbest estimator xgb_limitdepth's best error=0.4585\n"
     ]
    },
    {
     "name": "stderr",
     "output_type": "stream",
     "text": [
      "[flaml.automl: 08-07 21:12:16] {3010} INFO - iteration 497, current learner xgboost\n",
      "[flaml.automl: 08-07 21:12:18] {3190} INFO -  at 654.7s,\testimator xgboost's best error=0.4765,\tbest estimator xgb_limitdepth's best error=0.4585\n",
      "[flaml.automl: 08-07 21:12:18] {3010} INFO - iteration 498, current learner lgbm\n",
      "[flaml.automl: 08-07 21:12:20] {3190} INFO -  at 656.7s,\testimator lgbm's best error=0.5104,\tbest estimator xgb_limitdepth's best error=0.4585\n",
      "[flaml.automl: 08-07 21:12:20] {3010} INFO - iteration 499, current learner xgboost\n",
      "[flaml.automl: 08-07 21:12:21] {3190} INFO -  at 657.8s,\testimator xgboost's best error=0.4765,\tbest estimator xgb_limitdepth's best error=0.4585\n",
      "[flaml.automl: 08-07 21:12:21] {3010} INFO - iteration 500, current learner xgb_limitdepth\n",
      "[flaml.automl: 08-07 21:12:25] {3190} INFO -  at 662.2s,\testimator xgb_limitdepth's best error=0.4585,\tbest estimator xgb_limitdepth's best error=0.4585\n",
      "[flaml.automl: 08-07 21:12:25] {3010} INFO - iteration 501, current learner xgb_limitdepth\n",
      "[flaml.automl: 08-07 21:12:26] {3190} INFO -  at 662.9s,\testimator xgb_limitdepth's best error=0.4585,\tbest estimator xgb_limitdepth's best error=0.4585\n",
      "[flaml.automl: 08-07 21:12:26] {3010} INFO - iteration 502, current learner xgb_limitdepth\n",
      "[flaml.automl: 08-07 21:12:28] {3190} INFO -  at 664.3s,\testimator xgb_limitdepth's best error=0.4585,\tbest estimator xgb_limitdepth's best error=0.4585\n",
      "[flaml.automl: 08-07 21:12:28] {3010} INFO - iteration 503, current learner xgb_limitdepth\n",
      "[flaml.automl: 08-07 21:12:30] {3190} INFO -  at 667.2s,\testimator xgb_limitdepth's best error=0.4585,\tbest estimator xgb_limitdepth's best error=0.4585\n",
      "[flaml.automl: 08-07 21:12:30] {3010} INFO - iteration 504, current learner lgbm\n",
      "[flaml.automl: 08-07 21:12:32] {3190} INFO -  at 668.5s,\testimator lgbm's best error=0.5104,\tbest estimator xgb_limitdepth's best error=0.4585\n",
      "[flaml.automl: 08-07 21:12:32] {3010} INFO - iteration 505, current learner lgbm\n",
      "[flaml.automl: 08-07 21:12:32] {3190} INFO -  at 669.2s,\testimator lgbm's best error=0.5104,\tbest estimator xgb_limitdepth's best error=0.4585\n",
      "[flaml.automl: 08-07 21:12:32] {3010} INFO - iteration 506, current learner lgbm\n",
      "[flaml.automl: 08-07 21:12:36] {3190} INFO -  at 672.9s,\testimator lgbm's best error=0.5104,\tbest estimator xgb_limitdepth's best error=0.4585\n",
      "[flaml.automl: 08-07 21:12:36] {3010} INFO - iteration 507, current learner xgboost\n",
      "[flaml.automl: 08-07 21:12:37] {3190} INFO -  at 674.1s,\testimator xgboost's best error=0.4765,\tbest estimator xgb_limitdepth's best error=0.4585\n",
      "[flaml.automl: 08-07 21:12:37] {3010} INFO - iteration 508, current learner lgbm\n",
      "[flaml.automl: 08-07 21:12:40] {3190} INFO -  at 676.5s,\testimator lgbm's best error=0.5104,\tbest estimator xgb_limitdepth's best error=0.4585\n",
      "[flaml.automl: 08-07 21:12:40] {3010} INFO - iteration 509, current learner xgb_limitdepth\n",
      "[flaml.automl: 08-07 21:12:41] {3190} INFO -  at 677.9s,\testimator xgb_limitdepth's best error=0.4585,\tbest estimator xgb_limitdepth's best error=0.4585\n",
      "[flaml.automl: 08-07 21:12:41] {3010} INFO - iteration 510, current learner xgboost\n",
      "[flaml.automl: 08-07 21:12:43] {3190} INFO -  at 679.5s,\testimator xgboost's best error=0.4765,\tbest estimator xgb_limitdepth's best error=0.4585\n",
      "[flaml.automl: 08-07 21:12:43] {3010} INFO - iteration 511, current learner xgb_limitdepth\n",
      "[flaml.automl: 08-07 21:12:46] {3190} INFO -  at 682.4s,\testimator xgb_limitdepth's best error=0.4585,\tbest estimator xgb_limitdepth's best error=0.4585\n",
      "[flaml.automl: 08-07 21:12:46] {3010} INFO - iteration 512, current learner lgbm\n",
      "[flaml.automl: 08-07 21:12:47] {3190} INFO -  at 683.6s,\testimator lgbm's best error=0.5104,\tbest estimator xgb_limitdepth's best error=0.4585\n",
      "[flaml.automl: 08-07 21:12:47] {3010} INFO - iteration 513, current learner xgb_limitdepth\n",
      "[flaml.automl: 08-07 21:12:49] {3190} INFO -  at 686.0s,\testimator xgb_limitdepth's best error=0.4585,\tbest estimator xgb_limitdepth's best error=0.4585\n",
      "[flaml.automl: 08-07 21:12:49] {3010} INFO - iteration 514, current learner rf\n",
      "[flaml.automl: 08-07 21:12:51] {3190} INFO -  at 687.3s,\testimator rf's best error=0.5043,\tbest estimator xgb_limitdepth's best error=0.4585\n",
      "[flaml.automl: 08-07 21:12:51] {3010} INFO - iteration 515, current learner xgb_limitdepth\n",
      "[flaml.automl: 08-07 21:12:52] {3190} INFO -  at 688.8s,\testimator xgb_limitdepth's best error=0.4585,\tbest estimator xgb_limitdepth's best error=0.4585\n",
      "[flaml.automl: 08-07 21:12:52] {3010} INFO - iteration 516, current learner xgboost\n",
      "[flaml.automl: 08-07 21:12:52] {3190} INFO -  at 689.0s,\testimator xgboost's best error=0.4765,\tbest estimator xgb_limitdepth's best error=0.4585\n",
      "[flaml.automl: 08-07 21:12:52] {3010} INFO - iteration 517, current learner lgbm\n",
      "[flaml.automl: 08-07 21:12:53] {3190} INFO -  at 690.2s,\testimator lgbm's best error=0.5104,\tbest estimator xgb_limitdepth's best error=0.4585\n",
      "[flaml.automl: 08-07 21:12:53] {3010} INFO - iteration 518, current learner rf\n",
      "[flaml.automl: 08-07 21:12:55] {3190} INFO -  at 691.3s,\testimator rf's best error=0.5032,\tbest estimator xgb_limitdepth's best error=0.4585\n",
      "[flaml.automl: 08-07 21:12:55] {3010} INFO - iteration 519, current learner xgb_limitdepth\n",
      "[flaml.automl: 08-07 21:12:57] {3190} INFO -  at 693.8s,\testimator xgb_limitdepth's best error=0.4585,\tbest estimator xgb_limitdepth's best error=0.4585\n",
      "[flaml.automl: 08-07 21:12:57] {3010} INFO - iteration 520, current learner xgboost\n",
      "[flaml.automl: 08-07 21:12:58] {3190} INFO -  at 695.2s,\testimator xgboost's best error=0.4765,\tbest estimator xgb_limitdepth's best error=0.4585\n",
      "[flaml.automl: 08-07 21:12:58] {3010} INFO - iteration 521, current learner xgboost\n",
      "[flaml.automl: 08-07 21:12:59] {3190} INFO -  at 696.1s,\testimator xgboost's best error=0.4765,\tbest estimator xgb_limitdepth's best error=0.4585\n",
      "[flaml.automl: 08-07 21:12:59] {3010} INFO - iteration 522, current learner lgbm\n",
      "[flaml.automl: 08-07 21:13:01] {3190} INFO -  at 698.1s,\testimator lgbm's best error=0.5104,\tbest estimator xgb_limitdepth's best error=0.4585\n",
      "[flaml.automl: 08-07 21:13:01] {3010} INFO - iteration 523, current learner xgb_limitdepth\n",
      "[flaml.automl: 08-07 21:13:03] {3190} INFO -  at 699.9s,\testimator xgb_limitdepth's best error=0.4585,\tbest estimator xgb_limitdepth's best error=0.4585\n",
      "[flaml.automl: 08-07 21:13:03] {3010} INFO - iteration 524, current learner xgb_limitdepth\n",
      "[flaml.automl: 08-07 21:13:05] {3190} INFO -  at 701.7s,\testimator xgb_limitdepth's best error=0.4585,\tbest estimator xgb_limitdepth's best error=0.4585\n",
      "[flaml.automl: 08-07 21:13:05] {3010} INFO - iteration 525, current learner xgb_limitdepth\n",
      "[flaml.automl: 08-07 21:13:08] {3190} INFO -  at 704.5s,\testimator xgb_limitdepth's best error=0.4585,\tbest estimator xgb_limitdepth's best error=0.4585\n",
      "[flaml.automl: 08-07 21:13:08] {3010} INFO - iteration 526, current learner xgb_limitdepth\n",
      "[flaml.automl: 08-07 21:13:12] {3190} INFO -  at 708.4s,\testimator xgb_limitdepth's best error=0.4585,\tbest estimator xgb_limitdepth's best error=0.4585\n",
      "[flaml.automl: 08-07 21:13:12] {3010} INFO - iteration 527, current learner xgb_limitdepth\n",
      "[flaml.automl: 08-07 21:13:13] {3190} INFO -  at 709.6s,\testimator xgb_limitdepth's best error=0.4585,\tbest estimator xgb_limitdepth's best error=0.4585\n",
      "[flaml.automl: 08-07 21:13:13] {3010} INFO - iteration 528, current learner xgb_limitdepth\n",
      "[flaml.automl: 08-07 21:13:14] {3190} INFO -  at 710.5s,\testimator xgb_limitdepth's best error=0.4585,\tbest estimator xgb_limitdepth's best error=0.4585\n",
      "[flaml.automl: 08-07 21:13:14] {3010} INFO - iteration 529, current learner xgb_limitdepth\n",
      "[flaml.automl: 08-07 21:13:18] {3190} INFO -  at 715.1s,\testimator xgb_limitdepth's best error=0.4585,\tbest estimator xgb_limitdepth's best error=0.4585\n",
      "[flaml.automl: 08-07 21:13:18] {3010} INFO - iteration 530, current learner lgbm\n",
      "[flaml.automl: 08-07 21:13:20] {3190} INFO -  at 716.5s,\testimator lgbm's best error=0.5104,\tbest estimator xgb_limitdepth's best error=0.4585\n",
      "[flaml.automl: 08-07 21:13:20] {3010} INFO - iteration 531, current learner lgbm\n",
      "[flaml.automl: 08-07 21:13:22] {3190} INFO -  at 718.5s,\testimator lgbm's best error=0.5104,\tbest estimator xgb_limitdepth's best error=0.4585\n"
     ]
    },
    {
     "name": "stderr",
     "output_type": "stream",
     "text": [
      "[flaml.automl: 08-07 21:13:22] {3010} INFO - iteration 532, current learner lgbm\n",
      "[flaml.automl: 08-07 21:13:22] {3190} INFO -  at 719.2s,\testimator lgbm's best error=0.5104,\tbest estimator xgb_limitdepth's best error=0.4585\n",
      "[flaml.automl: 08-07 21:13:22] {3010} INFO - iteration 533, current learner xgboost\n",
      "[flaml.automl: 08-07 21:13:25] {3190} INFO -  at 722.1s,\testimator xgboost's best error=0.4765,\tbest estimator xgb_limitdepth's best error=0.4585\n",
      "[flaml.automl: 08-07 21:13:25] {3010} INFO - iteration 534, current learner xgboost\n",
      "[flaml.automl: 08-07 21:13:26] {3190} INFO -  at 722.7s,\testimator xgboost's best error=0.4765,\tbest estimator xgb_limitdepth's best error=0.4585\n",
      "[flaml.automl: 08-07 21:13:26] {3010} INFO - iteration 535, current learner xgb_limitdepth\n",
      "[flaml.automl: 08-07 21:13:28] {3190} INFO -  at 724.3s,\testimator xgb_limitdepth's best error=0.4585,\tbest estimator xgb_limitdepth's best error=0.4585\n",
      "[flaml.automl: 08-07 21:13:28] {3010} INFO - iteration 536, current learner lgbm\n",
      "[flaml.automl: 08-07 21:13:30] {3190} INFO -  at 727.2s,\testimator lgbm's best error=0.5104,\tbest estimator xgb_limitdepth's best error=0.4585\n",
      "[flaml.automl: 08-07 21:13:30] {3010} INFO - iteration 537, current learner xgb_limitdepth\n",
      "[flaml.automl: 08-07 21:13:32] {3190} INFO -  at 729.0s,\testimator xgb_limitdepth's best error=0.4585,\tbest estimator xgb_limitdepth's best error=0.4585\n",
      "[flaml.automl: 08-07 21:13:32] {3010} INFO - iteration 538, current learner xgb_limitdepth\n",
      "[flaml.automl: 08-07 21:13:35] {3190} INFO -  at 731.3s,\testimator xgb_limitdepth's best error=0.4585,\tbest estimator xgb_limitdepth's best error=0.4585\n",
      "[flaml.automl: 08-07 21:13:35] {3010} INFO - iteration 539, current learner xgb_limitdepth\n",
      "[flaml.automl: 08-07 21:13:37] {3190} INFO -  at 733.3s,\testimator xgb_limitdepth's best error=0.4585,\tbest estimator xgb_limitdepth's best error=0.4585\n",
      "[flaml.automl: 08-07 21:13:37] {3010} INFO - iteration 540, current learner xgb_limitdepth\n",
      "[flaml.automl: 08-07 21:13:39] {3190} INFO -  at 736.0s,\testimator xgb_limitdepth's best error=0.4585,\tbest estimator xgb_limitdepth's best error=0.4585\n",
      "[flaml.automl: 08-07 21:13:39] {3010} INFO - iteration 541, current learner xgb_limitdepth\n",
      "[flaml.automl: 08-07 21:13:41] {3190} INFO -  at 737.3s,\testimator xgb_limitdepth's best error=0.4585,\tbest estimator xgb_limitdepth's best error=0.4585\n",
      "[flaml.automl: 08-07 21:13:41] {3010} INFO - iteration 542, current learner xgboost\n",
      "[flaml.automl: 08-07 21:13:42] {3190} INFO -  at 738.9s,\testimator xgboost's best error=0.4765,\tbest estimator xgb_limitdepth's best error=0.4585\n",
      "[flaml.automl: 08-07 21:13:42] {3010} INFO - iteration 543, current learner lgbm\n",
      "[flaml.automl: 08-07 21:13:45] {3190} INFO -  at 741.7s,\testimator lgbm's best error=0.5104,\tbest estimator xgb_limitdepth's best error=0.4585\n",
      "[flaml.automl: 08-07 21:13:45] {3010} INFO - iteration 544, current learner xgboost\n",
      "[flaml.automl: 08-07 21:13:46] {3190} INFO -  at 742.6s,\testimator xgboost's best error=0.4765,\tbest estimator xgb_limitdepth's best error=0.4585\n",
      "[flaml.automl: 08-07 21:13:46] {3010} INFO - iteration 545, current learner xgboost\n",
      "[flaml.automl: 08-07 21:13:46] {3190} INFO -  at 743.0s,\testimator xgboost's best error=0.4765,\tbest estimator xgb_limitdepth's best error=0.4585\n",
      "[flaml.automl: 08-07 21:13:46] {3010} INFO - iteration 546, current learner xgb_limitdepth\n",
      "[flaml.automl: 08-07 21:13:49] {3190} INFO -  at 745.9s,\testimator xgb_limitdepth's best error=0.4585,\tbest estimator xgb_limitdepth's best error=0.4585\n",
      "[flaml.automl: 08-07 21:13:49] {3010} INFO - iteration 547, current learner xgboost\n",
      "[flaml.automl: 08-07 21:13:50] {3190} INFO -  at 747.1s,\testimator xgboost's best error=0.4765,\tbest estimator xgb_limitdepth's best error=0.4585\n",
      "[flaml.automl: 08-07 21:13:50] {3010} INFO - iteration 548, current learner xgboost\n",
      "[flaml.automl: 08-07 21:13:51] {3190} INFO -  at 747.6s,\testimator xgboost's best error=0.4765,\tbest estimator xgb_limitdepth's best error=0.4585\n",
      "[flaml.automl: 08-07 21:13:51] {3010} INFO - iteration 549, current learner lgbm\n",
      "[flaml.automl: 08-07 21:13:52] {3190} INFO -  at 748.5s,\testimator lgbm's best error=0.5104,\tbest estimator xgb_limitdepth's best error=0.4585\n",
      "[flaml.automl: 08-07 21:13:52] {3010} INFO - iteration 550, current learner lgbm\n",
      "[flaml.automl: 08-07 21:13:53] {3190} INFO -  at 749.9s,\testimator lgbm's best error=0.5104,\tbest estimator xgb_limitdepth's best error=0.4585\n",
      "[flaml.automl: 08-07 21:13:53] {3010} INFO - iteration 551, current learner xgb_limitdepth\n",
      "[flaml.automl: 08-07 21:13:54] {3190} INFO -  at 751.0s,\testimator xgb_limitdepth's best error=0.4585,\tbest estimator xgb_limitdepth's best error=0.4585\n",
      "[flaml.automl: 08-07 21:13:54] {3010} INFO - iteration 552, current learner xgboost\n",
      "[flaml.automl: 08-07 21:13:57] {3190} INFO -  at 753.4s,\testimator xgboost's best error=0.4765,\tbest estimator xgb_limitdepth's best error=0.4585\n",
      "[flaml.automl: 08-07 21:13:57] {3010} INFO - iteration 553, current learner xgb_limitdepth\n",
      "[flaml.automl: 08-07 21:13:58] {3190} INFO -  at 754.8s,\testimator xgb_limitdepth's best error=0.4585,\tbest estimator xgb_limitdepth's best error=0.4585\n",
      "[flaml.automl: 08-07 21:13:58] {3010} INFO - iteration 554, current learner rf\n",
      "[flaml.automl: 08-07 21:14:00] {3190} INFO -  at 756.8s,\testimator rf's best error=0.5032,\tbest estimator xgb_limitdepth's best error=0.4585\n",
      "[flaml.automl: 08-07 21:14:00] {3010} INFO - iteration 555, current learner xgboost\n",
      "[flaml.automl: 08-07 21:14:01] {3190} INFO -  at 757.4s,\testimator xgboost's best error=0.4765,\tbest estimator xgb_limitdepth's best error=0.4585\n",
      "[flaml.automl: 08-07 21:14:01] {3010} INFO - iteration 556, current learner extra_tree\n",
      "[flaml.automl: 08-07 21:14:05] {3190} INFO -  at 761.3s,\testimator extra_tree's best error=0.4937,\tbest estimator xgb_limitdepth's best error=0.4585\n",
      "[flaml.automl: 08-07 21:14:05] {3010} INFO - iteration 557, current learner xgb_limitdepth\n",
      "[flaml.automl: 08-07 21:14:07] {3190} INFO -  at 763.7s,\testimator xgb_limitdepth's best error=0.4585,\tbest estimator xgb_limitdepth's best error=0.4585\n",
      "[flaml.automl: 08-07 21:14:07] {3010} INFO - iteration 558, current learner xgboost\n",
      "[flaml.automl: 08-07 21:14:09] {3190} INFO -  at 765.9s,\testimator xgboost's best error=0.4765,\tbest estimator xgb_limitdepth's best error=0.4585\n",
      "[flaml.automl: 08-07 21:14:09] {3010} INFO - iteration 559, current learner lgbm\n",
      "[flaml.automl: 08-07 21:14:11] {3190} INFO -  at 767.7s,\testimator lgbm's best error=0.5104,\tbest estimator xgb_limitdepth's best error=0.4585\n",
      "[flaml.automl: 08-07 21:14:11] {3010} INFO - iteration 560, current learner xgboost\n",
      "[flaml.automl: 08-07 21:14:13] {3190} INFO -  at 769.8s,\testimator xgboost's best error=0.4765,\tbest estimator xgb_limitdepth's best error=0.4585\n",
      "[flaml.automl: 08-07 21:14:13] {3010} INFO - iteration 561, current learner xgboost\n",
      "[flaml.automl: 08-07 21:14:14] {3190} INFO -  at 770.5s,\testimator xgboost's best error=0.4765,\tbest estimator xgb_limitdepth's best error=0.4585\n",
      "[flaml.automl: 08-07 21:14:14] {3010} INFO - iteration 562, current learner xgb_limitdepth\n",
      "[flaml.automl: 08-07 21:14:18] {3190} INFO -  at 774.4s,\testimator xgb_limitdepth's best error=0.4585,\tbest estimator xgb_limitdepth's best error=0.4585\n",
      "[flaml.automl: 08-07 21:14:18] {3010} INFO - iteration 563, current learner xgb_limitdepth\n",
      "[flaml.automl: 08-07 21:14:19] {3190} INFO -  at 775.8s,\testimator xgb_limitdepth's best error=0.4579,\tbest estimator xgb_limitdepth's best error=0.4579\n",
      "[flaml.automl: 08-07 21:14:19] {3010} INFO - iteration 564, current learner lgbm\n",
      "[flaml.automl: 08-07 21:14:20] {3190} INFO -  at 777.0s,\testimator lgbm's best error=0.5104,\tbest estimator xgb_limitdepth's best error=0.4579\n",
      "[flaml.automl: 08-07 21:14:20] {3010} INFO - iteration 565, current learner lgbm\n",
      "[flaml.automl: 08-07 21:14:22] {3190} INFO -  at 778.9s,\testimator lgbm's best error=0.5104,\tbest estimator xgb_limitdepth's best error=0.4579\n",
      "[flaml.automl: 08-07 21:14:22] {3010} INFO - iteration 566, current learner extra_tree\n",
      "[flaml.automl: 08-07 21:14:23] {3190} INFO -  at 780.0s,\testimator extra_tree's best error=0.4937,\tbest estimator xgb_limitdepth's best error=0.4579\n",
      "[flaml.automl: 08-07 21:14:23] {3010} INFO - iteration 567, current learner xgb_limitdepth\n"
     ]
    },
    {
     "name": "stderr",
     "output_type": "stream",
     "text": [
      "[flaml.automl: 08-07 21:14:24] {3190} INFO -  at 780.9s,\testimator xgb_limitdepth's best error=0.4579,\tbest estimator xgb_limitdepth's best error=0.4579\n",
      "[flaml.automl: 08-07 21:14:24] {3010} INFO - iteration 568, current learner lgbm\n",
      "[flaml.automl: 08-07 21:14:28] {3190} INFO -  at 784.3s,\testimator lgbm's best error=0.5104,\tbest estimator xgb_limitdepth's best error=0.4579\n",
      "[flaml.automl: 08-07 21:14:28] {3010} INFO - iteration 569, current learner xgb_limitdepth\n",
      "[flaml.automl: 08-07 21:14:29] {3190} INFO -  at 786.0s,\testimator xgb_limitdepth's best error=0.4579,\tbest estimator xgb_limitdepth's best error=0.4579\n",
      "[flaml.automl: 08-07 21:14:29] {3010} INFO - iteration 570, current learner xgb_limitdepth\n",
      "[flaml.automl: 08-07 21:14:32] {3190} INFO -  at 788.4s,\testimator xgb_limitdepth's best error=0.4579,\tbest estimator xgb_limitdepth's best error=0.4579\n",
      "[flaml.automl: 08-07 21:14:32] {3010} INFO - iteration 571, current learner xgboost\n",
      "[flaml.automl: 08-07 21:14:35] {3190} INFO -  at 791.6s,\testimator xgboost's best error=0.4765,\tbest estimator xgb_limitdepth's best error=0.4579\n",
      "[flaml.automl: 08-07 21:14:35] {3010} INFO - iteration 572, current learner xgb_limitdepth\n",
      "[flaml.automl: 08-07 21:14:35] {3190} INFO -  at 792.2s,\testimator xgb_limitdepth's best error=0.4579,\tbest estimator xgb_limitdepth's best error=0.4579\n",
      "[flaml.automl: 08-07 21:14:35] {3010} INFO - iteration 573, current learner xgb_limitdepth\n",
      "[flaml.automl: 08-07 21:14:36] {3190} INFO -  at 793.0s,\testimator xgb_limitdepth's best error=0.4579,\tbest estimator xgb_limitdepth's best error=0.4579\n",
      "[flaml.automl: 08-07 21:14:36] {3010} INFO - iteration 574, current learner lgbm\n",
      "[flaml.automl: 08-07 21:14:37] {3190} INFO -  at 793.8s,\testimator lgbm's best error=0.5104,\tbest estimator xgb_limitdepth's best error=0.4579\n",
      "[flaml.automl: 08-07 21:14:37] {3010} INFO - iteration 575, current learner xgboost\n",
      "[flaml.automl: 08-07 21:14:38] {3190} INFO -  at 794.3s,\testimator xgboost's best error=0.4765,\tbest estimator xgb_limitdepth's best error=0.4579\n",
      "[flaml.automl: 08-07 21:14:38] {3010} INFO - iteration 576, current learner xgb_limitdepth\n",
      "[flaml.automl: 08-07 21:14:39] {3190} INFO -  at 795.3s,\testimator xgb_limitdepth's best error=0.4579,\tbest estimator xgb_limitdepth's best error=0.4579\n",
      "[flaml.automl: 08-07 21:14:39] {3010} INFO - iteration 577, current learner xgb_limitdepth\n",
      "[flaml.automl: 08-07 21:14:40] {3190} INFO -  at 796.4s,\testimator xgb_limitdepth's best error=0.4579,\tbest estimator xgb_limitdepth's best error=0.4579\n",
      "[flaml.automl: 08-07 21:14:40] {3010} INFO - iteration 578, current learner xgb_limitdepth\n",
      "[flaml.automl: 08-07 21:14:41] {3190} INFO -  at 797.5s,\testimator xgb_limitdepth's best error=0.4579,\tbest estimator xgb_limitdepth's best error=0.4579\n",
      "[flaml.automl: 08-07 21:14:41] {3010} INFO - iteration 579, current learner xgb_limitdepth\n",
      "[flaml.automl: 08-07 21:14:45] {3190} INFO -  at 802.1s,\testimator xgb_limitdepth's best error=0.4579,\tbest estimator xgb_limitdepth's best error=0.4579\n",
      "[flaml.automl: 08-07 21:14:45] {3010} INFO - iteration 580, current learner xgb_limitdepth\n",
      "[flaml.automl: 08-07 21:14:46] {3190} INFO -  at 802.4s,\testimator xgb_limitdepth's best error=0.4579,\tbest estimator xgb_limitdepth's best error=0.4579\n",
      "[flaml.automl: 08-07 21:14:46] {3010} INFO - iteration 581, current learner xgboost\n",
      "[flaml.automl: 08-07 21:14:47] {3190} INFO -  at 803.5s,\testimator xgboost's best error=0.4765,\tbest estimator xgb_limitdepth's best error=0.4579\n",
      "[flaml.automl: 08-07 21:14:47] {3010} INFO - iteration 582, current learner xgb_limitdepth\n",
      "[flaml.automl: 08-07 21:14:49] {3190} INFO -  at 805.9s,\testimator xgb_limitdepth's best error=0.4579,\tbest estimator xgb_limitdepth's best error=0.4579\n",
      "[flaml.automl: 08-07 21:14:49] {3010} INFO - iteration 583, current learner xgb_limitdepth\n",
      "[flaml.automl: 08-07 21:14:50] {3190} INFO -  at 806.5s,\testimator xgb_limitdepth's best error=0.4579,\tbest estimator xgb_limitdepth's best error=0.4579\n",
      "[flaml.automl: 08-07 21:14:50] {3010} INFO - iteration 584, current learner xgboost\n",
      "[flaml.automl: 08-07 21:14:50] {3190} INFO -  at 807.1s,\testimator xgboost's best error=0.4765,\tbest estimator xgb_limitdepth's best error=0.4579\n",
      "[flaml.automl: 08-07 21:14:50] {3010} INFO - iteration 585, current learner xgb_limitdepth\n",
      "[flaml.automl: 08-07 21:14:51] {3190} INFO -  at 808.2s,\testimator xgb_limitdepth's best error=0.4579,\tbest estimator xgb_limitdepth's best error=0.4579\n",
      "[flaml.automl: 08-07 21:14:51] {3010} INFO - iteration 586, current learner lgbm\n",
      "[flaml.automl: 08-07 21:14:55] {3190} INFO -  at 811.9s,\testimator lgbm's best error=0.5104,\tbest estimator xgb_limitdepth's best error=0.4579\n",
      "[flaml.automl: 08-07 21:14:55] {3010} INFO - iteration 587, current learner xgb_limitdepth\n",
      "[flaml.automl: 08-07 21:14:56] {3190} INFO -  at 812.7s,\testimator xgb_limitdepth's best error=0.4579,\tbest estimator xgb_limitdepth's best error=0.4579\n",
      "[flaml.automl: 08-07 21:14:56] {3010} INFO - iteration 588, current learner xgboost\n",
      "[flaml.automl: 08-07 21:14:57] {3190} INFO -  at 813.9s,\testimator xgboost's best error=0.4765,\tbest estimator xgb_limitdepth's best error=0.4579\n",
      "[flaml.automl: 08-07 21:14:57] {3010} INFO - iteration 589, current learner xgb_limitdepth\n",
      "[flaml.automl: 08-07 21:14:59] {3190} INFO -  at 815.4s,\testimator xgb_limitdepth's best error=0.4579,\tbest estimator xgb_limitdepth's best error=0.4579\n",
      "[flaml.automl: 08-07 21:14:59] {3010} INFO - iteration 590, current learner xgboost\n",
      "[flaml.automl: 08-07 21:15:00] {3190} INFO -  at 816.4s,\testimator xgboost's best error=0.4765,\tbest estimator xgb_limitdepth's best error=0.4579\n",
      "[flaml.automl: 08-07 21:15:00] {3010} INFO - iteration 591, current learner xgb_limitdepth\n",
      "[flaml.automl: 08-07 21:15:00] {3190} INFO -  at 816.9s,\testimator xgb_limitdepth's best error=0.4579,\tbest estimator xgb_limitdepth's best error=0.4579\n",
      "[flaml.automl: 08-07 21:15:00] {3010} INFO - iteration 592, current learner xgboost\n",
      "[flaml.automl: 08-07 21:15:02] {3190} INFO -  at 818.8s,\testimator xgboost's best error=0.4765,\tbest estimator xgb_limitdepth's best error=0.4579\n",
      "[flaml.automl: 08-07 21:15:02] {3010} INFO - iteration 593, current learner rf\n",
      "[flaml.automl: 08-07 21:15:04] {3190} INFO -  at 820.5s,\testimator rf's best error=0.5032,\tbest estimator xgb_limitdepth's best error=0.4579\n",
      "[flaml.automl: 08-07 21:15:04] {3010} INFO - iteration 594, current learner xgb_limitdepth\n",
      "[flaml.automl: 08-07 21:15:05] {3190} INFO -  at 821.3s,\testimator xgb_limitdepth's best error=0.4579,\tbest estimator xgb_limitdepth's best error=0.4579\n",
      "[flaml.automl: 08-07 21:15:05] {3010} INFO - iteration 595, current learner xgboost\n",
      "[flaml.automl: 08-07 21:15:05] {3190} INFO -  at 822.0s,\testimator xgboost's best error=0.4765,\tbest estimator xgb_limitdepth's best error=0.4579\n",
      "[flaml.automl: 08-07 21:15:05] {3010} INFO - iteration 596, current learner xgb_limitdepth\n",
      "[flaml.automl: 08-07 21:15:06] {3190} INFO -  at 823.0s,\testimator xgb_limitdepth's best error=0.4579,\tbest estimator xgb_limitdepth's best error=0.4579\n",
      "[flaml.automl: 08-07 21:15:06] {3010} INFO - iteration 597, current learner xgb_limitdepth\n",
      "[flaml.automl: 08-07 21:15:07] {3190} INFO -  at 824.0s,\testimator xgb_limitdepth's best error=0.4579,\tbest estimator xgb_limitdepth's best error=0.4579\n",
      "[flaml.automl: 08-07 21:15:07] {3010} INFO - iteration 598, current learner rf\n",
      "[flaml.automl: 08-07 21:15:08] {3190} INFO -  at 824.8s,\testimator rf's best error=0.5032,\tbest estimator xgb_limitdepth's best error=0.4579\n",
      "[flaml.automl: 08-07 21:15:08] {3010} INFO - iteration 599, current learner rf\n",
      "[flaml.automl: 08-07 21:15:10] {3190} INFO -  at 826.4s,\testimator rf's best error=0.5032,\tbest estimator xgb_limitdepth's best error=0.4579\n",
      "[flaml.automl: 08-07 21:15:10] {3010} INFO - iteration 600, current learner rf\n",
      "[flaml.automl: 08-07 21:15:10] {3190} INFO -  at 827.2s,\testimator rf's best error=0.5032,\tbest estimator xgb_limitdepth's best error=0.4579\n",
      "[flaml.automl: 08-07 21:15:10] {3010} INFO - iteration 601, current learner lgbm\n",
      "[flaml.automl: 08-07 21:15:11] {3190} INFO -  at 827.8s,\testimator lgbm's best error=0.5104,\tbest estimator xgb_limitdepth's best error=0.4579\n",
      "[flaml.automl: 08-07 21:15:11] {3010} INFO - iteration 602, current learner xgboost\n"
     ]
    },
    {
     "name": "stderr",
     "output_type": "stream",
     "text": [
      "[flaml.automl: 08-07 21:15:13] {3190} INFO -  at 830.1s,\testimator xgboost's best error=0.4765,\tbest estimator xgb_limitdepth's best error=0.4579\n",
      "[flaml.automl: 08-07 21:15:13] {3010} INFO - iteration 603, current learner lgbm\n",
      "[flaml.automl: 08-07 21:15:18] {3190} INFO -  at 834.2s,\testimator lgbm's best error=0.5104,\tbest estimator xgb_limitdepth's best error=0.4579\n",
      "[flaml.automl: 08-07 21:15:18] {3010} INFO - iteration 604, current learner lgbm\n",
      "[flaml.automl: 08-07 21:15:18] {3190} INFO -  at 834.9s,\testimator lgbm's best error=0.5104,\tbest estimator xgb_limitdepth's best error=0.4579\n",
      "[flaml.automl: 08-07 21:15:18] {3010} INFO - iteration 605, current learner xgb_limitdepth\n",
      "[flaml.automl: 08-07 21:15:19] {3190} INFO -  at 835.9s,\testimator xgb_limitdepth's best error=0.4579,\tbest estimator xgb_limitdepth's best error=0.4579\n",
      "[flaml.automl: 08-07 21:15:19] {3010} INFO - iteration 606, current learner xgb_limitdepth\n",
      "[flaml.automl: 08-07 21:15:20] {3190} INFO -  at 836.6s,\testimator xgb_limitdepth's best error=0.4579,\tbest estimator xgb_limitdepth's best error=0.4579\n",
      "[flaml.automl: 08-07 21:15:20] {3010} INFO - iteration 607, current learner lgbm\n",
      "[flaml.automl: 08-07 21:15:20] {3190} INFO -  at 837.2s,\testimator lgbm's best error=0.5104,\tbest estimator xgb_limitdepth's best error=0.4579\n",
      "[flaml.automl: 08-07 21:15:20] {3010} INFO - iteration 608, current learner xgboost\n",
      "[flaml.automl: 08-07 21:15:21] {3190} INFO -  at 837.5s,\testimator xgboost's best error=0.4765,\tbest estimator xgb_limitdepth's best error=0.4579\n",
      "[flaml.automl: 08-07 21:15:21] {3010} INFO - iteration 609, current learner rf\n",
      "[flaml.automl: 08-07 21:15:22] {3190} INFO -  at 838.5s,\testimator rf's best error=0.5032,\tbest estimator xgb_limitdepth's best error=0.4579\n",
      "[flaml.automl: 08-07 21:15:22] {3010} INFO - iteration 610, current learner xgb_limitdepth\n",
      "[flaml.automl: 08-07 21:15:24] {3190} INFO -  at 840.4s,\testimator xgb_limitdepth's best error=0.4579,\tbest estimator xgb_limitdepth's best error=0.4579\n",
      "[flaml.automl: 08-07 21:15:24] {3010} INFO - iteration 611, current learner xgb_limitdepth\n",
      "[flaml.automl: 08-07 21:15:24] {3190} INFO -  at 840.9s,\testimator xgb_limitdepth's best error=0.4579,\tbest estimator xgb_limitdepth's best error=0.4579\n",
      "[flaml.automl: 08-07 21:15:24] {3010} INFO - iteration 612, current learner xgb_limitdepth\n",
      "[flaml.automl: 08-07 21:15:27] {3190} INFO -  at 844.0s,\testimator xgb_limitdepth's best error=0.4579,\tbest estimator xgb_limitdepth's best error=0.4579\n",
      "[flaml.automl: 08-07 21:15:27] {3010} INFO - iteration 613, current learner xgboost\n",
      "[flaml.automl: 08-07 21:15:28] {3190} INFO -  at 844.4s,\testimator xgboost's best error=0.4765,\tbest estimator xgb_limitdepth's best error=0.4579\n",
      "[flaml.automl: 08-07 21:15:28] {3010} INFO - iteration 614, current learner xgb_limitdepth\n",
      "[flaml.automl: 08-07 21:15:28] {3190} INFO -  at 845.0s,\testimator xgb_limitdepth's best error=0.4579,\tbest estimator xgb_limitdepth's best error=0.4579\n",
      "[flaml.automl: 08-07 21:15:28] {3010} INFO - iteration 615, current learner xgboost\n",
      "[flaml.automl: 08-07 21:15:31] {3190} INFO -  at 847.5s,\testimator xgboost's best error=0.4765,\tbest estimator xgb_limitdepth's best error=0.4579\n",
      "[flaml.automl: 08-07 21:15:31] {3010} INFO - iteration 616, current learner xgb_limitdepth\n",
      "[flaml.automl: 08-07 21:15:33] {3190} INFO -  at 850.2s,\testimator xgb_limitdepth's best error=0.4579,\tbest estimator xgb_limitdepth's best error=0.4579\n",
      "[flaml.automl: 08-07 21:15:33] {3010} INFO - iteration 617, current learner xgb_limitdepth\n",
      "[flaml.automl: 08-07 21:15:34] {3190} INFO -  at 851.0s,\testimator xgb_limitdepth's best error=0.4579,\tbest estimator xgb_limitdepth's best error=0.4579\n",
      "[flaml.automl: 08-07 21:15:34] {3010} INFO - iteration 618, current learner extra_tree\n",
      "[flaml.automl: 08-07 21:15:35] {3190} INFO -  at 852.1s,\testimator extra_tree's best error=0.4937,\tbest estimator xgb_limitdepth's best error=0.4579\n",
      "[flaml.automl: 08-07 21:15:35] {3010} INFO - iteration 619, current learner lgbm\n",
      "[flaml.automl: 08-07 21:15:40] {3190} INFO -  at 856.4s,\testimator lgbm's best error=0.5104,\tbest estimator xgb_limitdepth's best error=0.4579\n",
      "[flaml.automl: 08-07 21:15:40] {3010} INFO - iteration 620, current learner xgb_limitdepth\n",
      "[flaml.automl: 08-07 21:15:41] {3190} INFO -  at 857.8s,\testimator xgb_limitdepth's best error=0.4579,\tbest estimator xgb_limitdepth's best error=0.4579\n",
      "[flaml.automl: 08-07 21:15:41] {3010} INFO - iteration 621, current learner lgbm\n",
      "[flaml.automl: 08-07 21:15:42] {3190} INFO -  at 858.7s,\testimator lgbm's best error=0.5104,\tbest estimator xgb_limitdepth's best error=0.4579\n",
      "[flaml.automl: 08-07 21:15:42] {3010} INFO - iteration 622, current learner rf\n",
      "[flaml.automl: 08-07 21:15:43] {3190} INFO -  at 860.2s,\testimator rf's best error=0.5032,\tbest estimator xgb_limitdepth's best error=0.4579\n",
      "[flaml.automl: 08-07 21:15:43] {3010} INFO - iteration 623, current learner xgboost\n",
      "[flaml.automl: 08-07 21:15:45] {3190} INFO -  at 861.3s,\testimator xgboost's best error=0.4765,\tbest estimator xgb_limitdepth's best error=0.4579\n",
      "[flaml.automl: 08-07 21:15:45] {3010} INFO - iteration 624, current learner xgboost\n",
      "[flaml.automl: 08-07 21:15:45] {3190} INFO -  at 861.8s,\testimator xgboost's best error=0.4765,\tbest estimator xgb_limitdepth's best error=0.4579\n",
      "[flaml.automl: 08-07 21:15:45] {3010} INFO - iteration 625, current learner lgbm\n",
      "[flaml.automl: 08-07 21:15:48] {3190} INFO -  at 864.8s,\testimator lgbm's best error=0.5104,\tbest estimator xgb_limitdepth's best error=0.4579\n",
      "[flaml.automl: 08-07 21:15:48] {3010} INFO - iteration 626, current learner xgb_limitdepth\n",
      "[flaml.automl: 08-07 21:15:50] {3190} INFO -  at 867.0s,\testimator xgb_limitdepth's best error=0.4579,\tbest estimator xgb_limitdepth's best error=0.4579\n",
      "[flaml.automl: 08-07 21:15:50] {3010} INFO - iteration 627, current learner rf\n",
      "[flaml.automl: 08-07 21:15:51] {3190} INFO -  at 867.9s,\testimator rf's best error=0.5019,\tbest estimator xgb_limitdepth's best error=0.4579\n",
      "[flaml.automl: 08-07 21:15:51] {3010} INFO - iteration 628, current learner xgb_limitdepth\n",
      "[flaml.automl: 08-07 21:15:52] {3190} INFO -  at 868.5s,\testimator xgb_limitdepth's best error=0.4579,\tbest estimator xgb_limitdepth's best error=0.4579\n",
      "[flaml.automl: 08-07 21:15:52] {3010} INFO - iteration 629, current learner xgb_limitdepth\n",
      "[flaml.automl: 08-07 21:15:53] {3190} INFO -  at 869.9s,\testimator xgb_limitdepth's best error=0.4579,\tbest estimator xgb_limitdepth's best error=0.4579\n",
      "[flaml.automl: 08-07 21:15:53] {3010} INFO - iteration 630, current learner rf\n",
      "[flaml.automl: 08-07 21:15:54] {3190} INFO -  at 871.1s,\testimator rf's best error=0.5019,\tbest estimator xgb_limitdepth's best error=0.4579\n",
      "[flaml.automl: 08-07 21:15:54] {3010} INFO - iteration 631, current learner xgb_limitdepth\n",
      "[flaml.automl: 08-07 21:15:55] {3190} INFO -  at 872.0s,\testimator xgb_limitdepth's best error=0.4579,\tbest estimator xgb_limitdepth's best error=0.4579\n",
      "[flaml.automl: 08-07 21:15:55] {3010} INFO - iteration 632, current learner xgb_limitdepth\n",
      "[flaml.automl: 08-07 21:15:56] {3190} INFO -  at 872.6s,\testimator xgb_limitdepth's best error=0.4579,\tbest estimator xgb_limitdepth's best error=0.4579\n",
      "[flaml.automl: 08-07 21:15:56] {3010} INFO - iteration 633, current learner xgb_limitdepth\n",
      "[flaml.automl: 08-07 21:15:58] {3190} INFO -  at 874.4s,\testimator xgb_limitdepth's best error=0.4579,\tbest estimator xgb_limitdepth's best error=0.4579\n",
      "[flaml.automl: 08-07 21:15:58] {3010} INFO - iteration 634, current learner xgb_limitdepth\n",
      "[flaml.automl: 08-07 21:15:59] {3190} INFO -  at 875.6s,\testimator xgb_limitdepth's best error=0.4579,\tbest estimator xgb_limitdepth's best error=0.4579\n",
      "[flaml.automl: 08-07 21:15:59] {3010} INFO - iteration 635, current learner rf\n",
      "[flaml.automl: 08-07 21:16:01] {3190} INFO -  at 877.4s,\testimator rf's best error=0.5019,\tbest estimator xgb_limitdepth's best error=0.4579\n",
      "[flaml.automl: 08-07 21:16:01] {3010} INFO - iteration 636, current learner xgb_limitdepth\n",
      "[flaml.automl: 08-07 21:16:02] {3190} INFO -  at 878.7s,\testimator xgb_limitdepth's best error=0.4579,\tbest estimator xgb_limitdepth's best error=0.4579\n",
      "[flaml.automl: 08-07 21:16:02] {3010} INFO - iteration 637, current learner xgb_limitdepth\n"
     ]
    },
    {
     "name": "stderr",
     "output_type": "stream",
     "text": [
      "[flaml.automl: 08-07 21:16:03] {3190} INFO -  at 879.3s,\testimator xgb_limitdepth's best error=0.4579,\tbest estimator xgb_limitdepth's best error=0.4579\n",
      "[flaml.automl: 08-07 21:16:03] {3010} INFO - iteration 638, current learner xgboost\n",
      "[flaml.automl: 08-07 21:16:07] {3190} INFO -  at 884.0s,\testimator xgboost's best error=0.4765,\tbest estimator xgb_limitdepth's best error=0.4579\n",
      "[flaml.automl: 08-07 21:16:07] {3010} INFO - iteration 639, current learner xgb_limitdepth\n",
      "[flaml.automl: 08-07 21:16:09] {3190} INFO -  at 885.8s,\testimator xgb_limitdepth's best error=0.4579,\tbest estimator xgb_limitdepth's best error=0.4579\n",
      "[flaml.automl: 08-07 21:16:09] {3010} INFO - iteration 640, current learner lgbm\n",
      "[flaml.automl: 08-07 21:16:16] {3190} INFO -  at 892.7s,\testimator lgbm's best error=0.5104,\tbest estimator xgb_limitdepth's best error=0.4579\n",
      "[flaml.automl: 08-07 21:16:16] {3010} INFO - iteration 641, current learner xgb_limitdepth\n",
      "[flaml.automl: 08-07 21:16:17] {3190} INFO -  at 893.6s,\testimator xgb_limitdepth's best error=0.4579,\tbest estimator xgb_limitdepth's best error=0.4579\n",
      "[flaml.automl: 08-07 21:16:17] {3010} INFO - iteration 642, current learner rf\n",
      "[flaml.automl: 08-07 21:16:17] {3190} INFO -  at 894.2s,\testimator rf's best error=0.5019,\tbest estimator xgb_limitdepth's best error=0.4579\n",
      "[flaml.automl: 08-07 21:16:17] {3010} INFO - iteration 643, current learner xgboost\n",
      "[flaml.automl: 08-07 21:16:18] {3190} INFO -  at 894.5s,\testimator xgboost's best error=0.4765,\tbest estimator xgb_limitdepth's best error=0.4579\n",
      "[flaml.automl: 08-07 21:16:18] {3010} INFO - iteration 644, current learner xgboost\n",
      "[flaml.automl: 08-07 21:16:19] {3190} INFO -  at 895.4s,\testimator xgboost's best error=0.4765,\tbest estimator xgb_limitdepth's best error=0.4579\n",
      "[flaml.automl: 08-07 21:16:19] {3010} INFO - iteration 645, current learner lgbm\n",
      "[flaml.automl: 08-07 21:16:19] {3190} INFO -  at 895.7s,\testimator lgbm's best error=0.5104,\tbest estimator xgb_limitdepth's best error=0.4579\n",
      "[flaml.automl: 08-07 21:16:19] {3010} INFO - iteration 646, current learner xgb_limitdepth\n",
      "[flaml.automl: 08-07 21:16:21] {3190} INFO -  at 897.3s,\testimator xgb_limitdepth's best error=0.4579,\tbest estimator xgb_limitdepth's best error=0.4579\n",
      "[flaml.automl: 08-07 21:16:21] {3010} INFO - iteration 647, current learner xgboost\n",
      "[flaml.automl: 08-07 21:16:22] {3190} INFO -  at 898.5s,\testimator xgboost's best error=0.4765,\tbest estimator xgb_limitdepth's best error=0.4579\n",
      "[flaml.automl: 08-07 21:16:22] {3010} INFO - iteration 648, current learner xgb_limitdepth\n",
      "[flaml.automl: 08-07 21:16:22] {3190} INFO -  at 899.1s,\testimator xgb_limitdepth's best error=0.4579,\tbest estimator xgb_limitdepth's best error=0.4579\n",
      "[flaml.automl: 08-07 21:16:23] {3454} INFO - retrain xgb_limitdepth for 0.3s\n",
      "[flaml.automl: 08-07 21:16:23] {3461} INFO - retrained model: XGBRegressor(base_score=0.5, booster='gbtree', callbacks=[],\n",
      "             colsample_bylevel=0.7187132620741817, colsample_bynode=1,\n",
      "             colsample_bytree=1.0, early_stopping_rounds=None,\n",
      "             enable_categorical=False, eval_metric=None, gamma=0, gpu_id=-1,\n",
      "             grow_policy='depthwise', importance_type=None,\n",
      "             interaction_constraints='', learning_rate=0.07788504196896696,\n",
      "             max_bin=256, max_cat_to_onehot=4, max_delta_step=0, max_depth=7,\n",
      "             max_leaves=0, min_child_weight=1.9580470943708284, missing=nan,\n",
      "             monotone_constraints='()', n_estimators=257, n_jobs=-1,\n",
      "             num_parallel_tree=1, predictor='auto', random_state=0,\n",
      "             reg_alpha=0.14873684338460816, reg_lambda=0.05453892478102792, ...)\n",
      "[flaml.automl: 08-07 21:16:23] {2739} INFO - fit succeeded\n",
      "[flaml.automl: 08-07 21:16:23] {2740} INFO - Time taken to find the best model: 775.7583317756653\n",
      "[flaml.automl: 08-07 21:16:23] {2751} WARNING - Time taken to find the best model is 86% of the provided time budget and not all estimators' hyperparameter search converged. Consider increasing the time budget.\n"
     ]
    }
   ],
   "source": [
    "automl.fit(X_train, y_train, task=\"regression\",metric='r2',time_budget=900)"
   ]
  },
  {
   "cell_type": "code",
   "execution_count": 467,
   "metadata": {},
   "outputs": [
    {
     "name": "stdout",
     "output_type": "stream",
     "text": [
      "Best ML leaner: xgb_limitdepth\n",
      "Best hyperparmeter config: {'n_estimators': 257, 'max_depth': 7, 'min_child_weight': 1.9580470943708284, 'learning_rate': 0.07788504196896696, 'subsample': 0.9095003488396196, 'colsample_bylevel': 0.7187132620741817, 'colsample_bytree': 1.0, 'reg_alpha': 0.14873684338460816, 'reg_lambda': 0.05453892478102792}\n",
      "Best r2 on validation data: 0.5421\n",
      "Training duration of best run: 0.2879 s\n"
     ]
    }
   ],
   "source": [
    "print('Best ML leaner:', automl.best_estimator)\n",
    "print('Best hyperparmeter config:', automl.best_config)\n",
    "print('Best r2 on validation data: {0:.4g}'.format(1-automl.best_loss))\n",
    "print('Training duration of best run: {0:.4g} s'.format(automl.best_config_train_time))"
   ]
  },
  {
   "cell_type": "code",
   "execution_count": 468,
   "metadata": {
    "scrolled": true
   },
   "outputs": [
    {
     "name": "stdout",
     "output_type": "stream",
     "text": [
      "train r2 = 0.9649771192197896\n",
      "test r2 = 0.4927180718922842\n"
     ]
    }
   ],
   "source": [
    "from flaml.ml import sklearn_metric_loss_score\n",
    "print('train r2', '=', 1-sklearn_metric_loss_score('r2', automl.predict(X_train), y_train))\n",
    "print('test r2', '=', 1-sklearn_metric_loss_score('r2', automl.predict(X_test), y_test))"
   ]
  },
  {
   "cell_type": "markdown",
   "metadata": {},
   "source": []
  },
  {
   "cell_type": "code",
   "execution_count": 469,
   "metadata": {},
   "outputs": [
    {
     "data": {
      "text/plain": [
       "array([0.04199153, 0.5766126 , 0.10384794, 0.09990606, 0.12296381],\n",
       "      dtype=float32)"
      ]
     },
     "execution_count": 469,
     "metadata": {},
     "output_type": "execute_result"
    }
   ],
   "source": [
    "y_pred = automl.predict(test)\n",
    "y_pred[:5]"
   ]
  },
  {
   "cell_type": "code",
   "execution_count": 470,
   "metadata": {},
   "outputs": [
    {
     "data": {
      "text/html": [
       "<div>\n",
       "<style scoped>\n",
       "    .dataframe tbody tr th:only-of-type {\n",
       "        vertical-align: middle;\n",
       "    }\n",
       "\n",
       "    .dataframe tbody tr th {\n",
       "        vertical-align: top;\n",
       "    }\n",
       "\n",
       "    .dataframe thead th {\n",
       "        text-align: right;\n",
       "    }\n",
       "</style>\n",
       "<table border=\"1\" class=\"dataframe\">\n",
       "  <thead>\n",
       "    <tr style=\"text-align: right;\">\n",
       "      <th></th>\n",
       "      <th>click_rate</th>\n",
       "    </tr>\n",
       "  </thead>\n",
       "  <tbody>\n",
       "    <tr>\n",
       "      <th>0</th>\n",
       "      <td>0.041992</td>\n",
       "    </tr>\n",
       "    <tr>\n",
       "      <th>1</th>\n",
       "      <td>0.576613</td>\n",
       "    </tr>\n",
       "    <tr>\n",
       "      <th>2</th>\n",
       "      <td>0.103848</td>\n",
       "    </tr>\n",
       "    <tr>\n",
       "      <th>3</th>\n",
       "      <td>0.099906</td>\n",
       "    </tr>\n",
       "    <tr>\n",
       "      <th>4</th>\n",
       "      <td>0.122964</td>\n",
       "    </tr>\n",
       "  </tbody>\n",
       "</table>\n",
       "</div>"
      ],
      "text/plain": [
       "   click_rate\n",
       "0    0.041992\n",
       "1    0.576613\n",
       "2    0.103848\n",
       "3    0.099906\n",
       "4    0.122964"
      ]
     },
     "execution_count": 470,
     "metadata": {},
     "output_type": "execute_result"
    }
   ],
   "source": [
    "df = pd.DataFrame(y_pred,columns=['click_rate'])\n",
    "df.head()"
   ]
  },
  {
   "cell_type": "code",
   "execution_count": 471,
   "metadata": {},
   "outputs": [
    {
     "data": {
      "text/html": [
       "<div>\n",
       "<style scoped>\n",
       "    .dataframe tbody tr th:only-of-type {\n",
       "        vertical-align: middle;\n",
       "    }\n",
       "\n",
       "    .dataframe tbody tr th {\n",
       "        vertical-align: top;\n",
       "    }\n",
       "\n",
       "    .dataframe thead th {\n",
       "        text-align: right;\n",
       "    }\n",
       "</style>\n",
       "<table border=\"1\" class=\"dataframe\">\n",
       "  <thead>\n",
       "    <tr style=\"text-align: right;\">\n",
       "      <th></th>\n",
       "      <th>campaign_id</th>\n",
       "      <th>click_rate</th>\n",
       "    </tr>\n",
       "  </thead>\n",
       "  <tbody>\n",
       "    <tr>\n",
       "      <th>0</th>\n",
       "      <td>1889</td>\n",
       "      <td>0.043454</td>\n",
       "    </tr>\n",
       "    <tr>\n",
       "      <th>1</th>\n",
       "      <td>1890</td>\n",
       "      <td>0.043454</td>\n",
       "    </tr>\n",
       "    <tr>\n",
       "      <th>2</th>\n",
       "      <td>1891</td>\n",
       "      <td>0.043454</td>\n",
       "    </tr>\n",
       "    <tr>\n",
       "      <th>3</th>\n",
       "      <td>1892</td>\n",
       "      <td>0.043454</td>\n",
       "    </tr>\n",
       "    <tr>\n",
       "      <th>4</th>\n",
       "      <td>1893</td>\n",
       "      <td>0.043454</td>\n",
       "    </tr>\n",
       "  </tbody>\n",
       "</table>\n",
       "</div>"
      ],
      "text/plain": [
       "   campaign_id  click_rate\n",
       "0         1889    0.043454\n",
       "1         1890    0.043454\n",
       "2         1891    0.043454\n",
       "3         1892    0.043454\n",
       "4         1893    0.043454"
      ]
     },
     "execution_count": 471,
     "metadata": {},
     "output_type": "execute_result"
    }
   ],
   "source": [
    "submission=pd.read_csv('sample_submission_LJ2N3ZQ.csv')\n",
    "submission.head()"
   ]
  },
  {
   "cell_type": "code",
   "execution_count": 472,
   "metadata": {},
   "outputs": [
    {
     "data": {
      "text/html": [
       "<div>\n",
       "<style scoped>\n",
       "    .dataframe tbody tr th:only-of-type {\n",
       "        vertical-align: middle;\n",
       "    }\n",
       "\n",
       "    .dataframe tbody tr th {\n",
       "        vertical-align: top;\n",
       "    }\n",
       "\n",
       "    .dataframe thead th {\n",
       "        text-align: right;\n",
       "    }\n",
       "</style>\n",
       "<table border=\"1\" class=\"dataframe\">\n",
       "  <thead>\n",
       "    <tr style=\"text-align: right;\">\n",
       "      <th></th>\n",
       "      <th>campaign_id</th>\n",
       "      <th>click_rate</th>\n",
       "    </tr>\n",
       "  </thead>\n",
       "  <tbody>\n",
       "    <tr>\n",
       "      <th>0</th>\n",
       "      <td>1889</td>\n",
       "      <td>0.041992</td>\n",
       "    </tr>\n",
       "    <tr>\n",
       "      <th>1</th>\n",
       "      <td>1890</td>\n",
       "      <td>0.576613</td>\n",
       "    </tr>\n",
       "    <tr>\n",
       "      <th>2</th>\n",
       "      <td>1891</td>\n",
       "      <td>0.103848</td>\n",
       "    </tr>\n",
       "    <tr>\n",
       "      <th>3</th>\n",
       "      <td>1892</td>\n",
       "      <td>0.099906</td>\n",
       "    </tr>\n",
       "    <tr>\n",
       "      <th>4</th>\n",
       "      <td>1893</td>\n",
       "      <td>0.122964</td>\n",
       "    </tr>\n",
       "  </tbody>\n",
       "</table>\n",
       "</div>"
      ],
      "text/plain": [
       "   campaign_id  click_rate\n",
       "0         1889    0.041992\n",
       "1         1890    0.576613\n",
       "2         1891    0.103848\n",
       "3         1892    0.099906\n",
       "4         1893    0.122964"
      ]
     },
     "execution_count": 472,
     "metadata": {},
     "output_type": "execute_result"
    }
   ],
   "source": [
    "submission['click_rate']=df['click_rate'].apply(lambda x: 0 if x<0 else x)\n",
    "submission.head()"
   ]
  },
  {
   "cell_type": "code",
   "execution_count": 473,
   "metadata": {},
   "outputs": [],
   "source": [
    "submission.to_csv('my_submission55.csv', index=False)"
   ]
  },
  {
   "cell_type": "code",
   "execution_count": null,
   "metadata": {},
   "outputs": [],
   "source": []
  }
 ],
 "metadata": {
  "kernelspec": {
   "display_name": "Python 3",
   "language": "python",
   "name": "python3"
  },
  "language_info": {
   "codemirror_mode": {
    "name": "ipython",
    "version": 3
   },
   "file_extension": ".py",
   "mimetype": "text/x-python",
   "name": "python",
   "nbconvert_exporter": "python",
   "pygments_lexer": "ipython3",
   "version": "3.8.5"
  }
 },
 "nbformat": 4,
 "nbformat_minor": 4
}
